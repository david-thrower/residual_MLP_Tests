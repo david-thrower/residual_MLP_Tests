{
 "cells": [
  {
   "cell_type": "markdown",
   "id": "9cc2d5a9",
   "metadata": {},
   "source": [
    "# A simple demo of the residualmlp python package\n",
    "## This is a regression case pure resudual multi layer perceptron with no base model. \n",
    "\n",
    "1. Purpose:\n",
    "    1. This is a simple demo of the residualmlp python package that generates resisual_mlp models.\n",
    "2. Please note:\n",
    "    1. This version of the demo neither demonstrates an optimal neural network architecture nor does any preprocessing on the data, even though doing so would boost the performance of the model.This demo sumply demonstrates how to use the API and the syntax.\n",
    "    2. For a more complete example, see the demo for the tandem EfficientNetB7->residualMLP model discussed in the readme.md."
   ]
  },
  {
   "cell_type": "code",
   "execution_count": 1,
   "id": "3d647318",
   "metadata": {},
   "outputs": [
    {
     "name": "stdout",
     "output_type": "stream",
     "text": [
      "\u001b[31mERROR: Could not find a version that satisfies the requirement upgrade (from versions: none)\u001b[0m\n",
      "\u001b[31mERROR: No matching distribution found for upgrade\u001b[0m\n",
      "\u001b[33mWARNING: You are using pip version 21.2.4; however, version 21.3.1 is available.\n",
      "You should consider upgrading via the '/usr/bin/python -m pip install --upgrade pip' command.\u001b[0m\n",
      "Collecting matplotlib\n",
      "  Downloading matplotlib-3.5.1-cp38-cp38-manylinux_2_5_x86_64.manylinux1_x86_64.whl (11.3 MB)\n",
      "\u001b[K     |████████████████████████████████| 11.3 MB 20.9 MB/s eta 0:00:01\n",
      "\u001b[?25hCollecting kiwisolver>=1.0.1\n",
      "  Downloading kiwisolver-1.3.2-cp38-cp38-manylinux_2_5_x86_64.manylinux1_x86_64.whl (1.2 MB)\n",
      "\u001b[K     |████████████████████████████████| 1.2 MB 28.1 MB/s eta 0:00:01\n",
      "\u001b[?25hCollecting pillow>=6.2.0\n",
      "  Downloading Pillow-9.0.0-cp38-cp38-manylinux_2_17_x86_64.manylinux2014_x86_64.whl (4.3 MB)\n",
      "\u001b[K     |████████████████████████████████| 4.3 MB 27.9 MB/s eta 0:00:01\n",
      "\u001b[?25hCollecting cycler>=0.10\n",
      "  Downloading cycler-0.11.0-py3-none-any.whl (6.4 kB)\n",
      "Requirement already satisfied: numpy>=1.17 in /usr/local/lib/python3.8/dist-packages (from matplotlib) (1.19.4)\n",
      "Collecting fonttools>=4.22.0\n",
      "  Downloading fonttools-4.28.5-py3-none-any.whl (890 kB)\n",
      "\u001b[K     |████████████████████████████████| 890 kB 31.7 MB/s eta 0:00:01\n",
      "\u001b[?25hRequirement already satisfied: packaging>=20.0 in /usr/local/lib/python3.8/dist-packages (from matplotlib) (21.0)\n",
      "Requirement already satisfied: pyparsing>=2.2.1 in /usr/local/lib/python3.8/dist-packages (from matplotlib) (2.4.7)\n",
      "Requirement already satisfied: python-dateutil>=2.7 in /usr/local/lib/python3.8/dist-packages (from matplotlib) (2.8.2)\n",
      "Requirement already satisfied: six>=1.5 in /usr/local/lib/python3.8/dist-packages (from python-dateutil>=2.7->matplotlib) (1.15.0)\n",
      "Installing collected packages: pillow, kiwisolver, fonttools, cycler, matplotlib\n",
      "Successfully installed cycler-0.11.0 fonttools-4.28.5 kiwisolver-1.3.2 matplotlib-3.5.1 pillow-9.0.0\n",
      "\u001b[33mWARNING: Running pip as the 'root' user can result in broken permissions and conflicting behaviour with the system package manager. It is recommended to use a virtual environment instead: https://pip.pypa.io/warnings/venv\u001b[0m\n",
      "\u001b[33mWARNING: You are using pip version 21.2.4; however, version 21.3.1 is available.\n",
      "You should consider upgrading via the '/usr/bin/python -m pip install --upgrade pip' command.\u001b[0m\n",
      "Collecting pandas\n",
      "  Downloading pandas-1.3.5-cp38-cp38-manylinux_2_17_x86_64.manylinux2014_x86_64.whl (11.5 MB)\n",
      "\u001b[K     |████████████████████████████████| 11.5 MB 23.3 MB/s eta 0:00:01\n",
      "\u001b[?25hRequirement already satisfied: pytz>=2017.3 in /usr/local/lib/python3.8/dist-packages (from pandas) (2021.1)\n",
      "Requirement already satisfied: numpy>=1.17.3 in /usr/local/lib/python3.8/dist-packages (from pandas) (1.19.4)\n",
      "Requirement already satisfied: python-dateutil>=2.7.3 in /usr/local/lib/python3.8/dist-packages (from pandas) (2.8.2)\n",
      "Requirement already satisfied: six>=1.5 in /usr/local/lib/python3.8/dist-packages (from python-dateutil>=2.7.3->pandas) (1.15.0)\n",
      "Installing collected packages: pandas\n",
      "Successfully installed pandas-1.3.5\n",
      "\u001b[33mWARNING: Running pip as the 'root' user can result in broken permissions and conflicting behaviour with the system package manager. It is recommended to use a virtual environment instead: https://pip.pypa.io/warnings/venv\u001b[0m\n",
      "\u001b[33mWARNING: You are using pip version 21.2.4; however, version 21.3.1 is available.\n",
      "You should consider upgrading via the '/usr/bin/python -m pip install --upgrade pip' command.\u001b[0m\n"
     ]
    }
   ],
   "source": [
    "# Install anything missing\n",
    "!python -m pip install upgrade pip\n",
    "!pip3 install matplotlib\n",
    "!pip3 install pandas"
   ]
  },
  {
   "cell_type": "code",
   "execution_count": 2,
   "id": "e54daa1c",
   "metadata": {},
   "outputs": [],
   "source": [
    "# Import what we need ...\n",
    "import os\n",
    "import numpy as np\n",
    "import matplotlib.pyplot as plt\n",
    "import pandas as pd\n",
    "import tensorflow as tf\n",
    "from residualmlp.residual_mlp import ResidualMLP"
   ]
  },
  {
   "cell_type": "code",
   "execution_count": 3,
   "id": "cbc7503c",
   "metadata": {},
   "outputs": [],
   "source": [
    "# Read the California housing data. \n",
    "df = pd.read_csv(\"https://storage.googleapis.com/ml_universities/california_housing_train.csv\", sep=\",\")"
   ]
  },
  {
   "cell_type": "code",
   "execution_count": 4,
   "id": "72fc239f",
   "metadata": {},
   "outputs": [
    {
     "name": "stdout",
     "output_type": "stream",
     "text": [
      "<class 'pandas.core.frame.DataFrame'>\n",
      "RangeIndex: 17000 entries, 0 to 16999\n",
      "Data columns (total 9 columns):\n",
      " #   Column              Non-Null Count  Dtype  \n",
      "---  ------              --------------  -----  \n",
      " 0   longitude           17000 non-null  float64\n",
      " 1   latitude            17000 non-null  float64\n",
      " 2   housing_median_age  17000 non-null  float64\n",
      " 3   total_rooms         17000 non-null  float64\n",
      " 4   total_bedrooms      17000 non-null  float64\n",
      " 5   population          17000 non-null  float64\n",
      " 6   households          17000 non-null  float64\n",
      " 7   median_income       17000 non-null  float64\n",
      " 8   median_house_value  17000 non-null  float64\n",
      "dtypes: float64(9)\n",
      "memory usage: 1.2 MB\n"
     ]
    }
   ],
   "source": [
    "# Let's see what this looks like.\n",
    "# In the real world, data would never be this clean... \n",
    "df.info()"
   ]
  },
  {
   "cell_type": "code",
   "execution_count": 5,
   "id": "842d8cf9",
   "metadata": {},
   "outputs": [],
   "source": [
    "# In a use-worthy model, we would bucketize and cross the lattitude and longitude.\n",
    "# and probably bucketize several of the continuous variables\n",
    "# Here we are just doing a simple example to demo how to work our API"
   ]
  },
  {
   "cell_type": "code",
   "execution_count": 6,
   "id": "67038a63",
   "metadata": {},
   "outputs": [
    {
     "data": {
      "text/html": [
       "<div>\n",
       "<style scoped>\n",
       "    .dataframe tbody tr th:only-of-type {\n",
       "        vertical-align: middle;\n",
       "    }\n",
       "\n",
       "    .dataframe tbody tr th {\n",
       "        vertical-align: top;\n",
       "    }\n",
       "\n",
       "    .dataframe thead th {\n",
       "        text-align: right;\n",
       "    }\n",
       "</style>\n",
       "<table border=\"1\" class=\"dataframe\">\n",
       "  <thead>\n",
       "    <tr style=\"text-align: right;\">\n",
       "      <th></th>\n",
       "      <th>longitude</th>\n",
       "      <th>latitude</th>\n",
       "      <th>housing_median_age</th>\n",
       "      <th>total_rooms</th>\n",
       "      <th>total_bedrooms</th>\n",
       "      <th>population</th>\n",
       "      <th>households</th>\n",
       "      <th>median_income</th>\n",
       "      <th>median_house_value</th>\n",
       "    </tr>\n",
       "  </thead>\n",
       "  <tbody>\n",
       "    <tr>\n",
       "      <th>1</th>\n",
       "      <td>-114.47</td>\n",
       "      <td>34.40</td>\n",
       "      <td>19.0</td>\n",
       "      <td>7650.0</td>\n",
       "      <td>1901.0</td>\n",
       "      <td>1129.0</td>\n",
       "      <td>463.0</td>\n",
       "      <td>1.8200</td>\n",
       "      <td>80100.0</td>\n",
       "    </tr>\n",
       "    <tr>\n",
       "      <th>2</th>\n",
       "      <td>-114.56</td>\n",
       "      <td>33.69</td>\n",
       "      <td>17.0</td>\n",
       "      <td>720.0</td>\n",
       "      <td>174.0</td>\n",
       "      <td>333.0</td>\n",
       "      <td>117.0</td>\n",
       "      <td>1.6509</td>\n",
       "      <td>85700.0</td>\n",
       "    </tr>\n",
       "    <tr>\n",
       "      <th>3</th>\n",
       "      <td>-114.57</td>\n",
       "      <td>33.64</td>\n",
       "      <td>14.0</td>\n",
       "      <td>1501.0</td>\n",
       "      <td>337.0</td>\n",
       "      <td>515.0</td>\n",
       "      <td>226.0</td>\n",
       "      <td>3.1917</td>\n",
       "      <td>73400.0</td>\n",
       "    </tr>\n",
       "    <tr>\n",
       "      <th>4</th>\n",
       "      <td>-114.57</td>\n",
       "      <td>33.57</td>\n",
       "      <td>20.0</td>\n",
       "      <td>1454.0</td>\n",
       "      <td>326.0</td>\n",
       "      <td>624.0</td>\n",
       "      <td>262.0</td>\n",
       "      <td>1.9250</td>\n",
       "      <td>65500.0</td>\n",
       "    </tr>\n",
       "    <tr>\n",
       "      <th>5</th>\n",
       "      <td>-114.58</td>\n",
       "      <td>33.63</td>\n",
       "      <td>29.0</td>\n",
       "      <td>1387.0</td>\n",
       "      <td>236.0</td>\n",
       "      <td>671.0</td>\n",
       "      <td>239.0</td>\n",
       "      <td>3.3438</td>\n",
       "      <td>74000.0</td>\n",
       "    </tr>\n",
       "  </tbody>\n",
       "</table>\n",
       "</div>"
      ],
      "text/plain": [
       "   longitude  latitude  housing_median_age  total_rooms  total_bedrooms  \\\n",
       "1    -114.47     34.40                19.0       7650.0          1901.0   \n",
       "2    -114.56     33.69                17.0        720.0           174.0   \n",
       "3    -114.57     33.64                14.0       1501.0           337.0   \n",
       "4    -114.57     33.57                20.0       1454.0           326.0   \n",
       "5    -114.58     33.63                29.0       1387.0           236.0   \n",
       "\n",
       "   population  households  median_income  median_house_value  \n",
       "1      1129.0       463.0         1.8200             80100.0  \n",
       "2       333.0       117.0         1.6509             85700.0  \n",
       "3       515.0       226.0         3.1917             73400.0  \n",
       "4       624.0       262.0         1.9250             65500.0  \n",
       "5       671.0       239.0         3.3438             74000.0  "
      ]
     },
     "execution_count": 6,
     "metadata": {},
     "output_type": "execute_result"
    }
   ],
   "source": [
    "# pseudo quasi random numbers between 0 and 1. \n",
    "# ~ 80% of them should be below .8 \n",
    "msk = np.random.rand(len(df)) < 0.8\n",
    "traindf = df[msk]\n",
    "evaldf = df[~msk]\n",
    "traindf.head()"
   ]
  },
  {
   "cell_type": "code",
   "execution_count": 7,
   "id": "06af295d",
   "metadata": {},
   "outputs": [],
   "source": [
    "# Pull label from df\n",
    "y_train = traindf.pop('median_house_value')"
   ]
  },
  {
   "cell_type": "code",
   "execution_count": 8,
   "id": "7fe65df2",
   "metadata": {},
   "outputs": [],
   "source": [
    "# Convert label to a numpy array\n",
    "y_train = y_train.to_numpy()"
   ]
  },
  {
   "cell_type": "code",
   "execution_count": 9,
   "id": "e3875246",
   "metadata": {},
   "outputs": [],
   "source": [
    "# Pull label from df\n",
    "y_eval = evaldf.pop('median_house_value')"
   ]
  },
  {
   "cell_type": "code",
   "execution_count": 10,
   "id": "b58ec6c8",
   "metadata": {},
   "outputs": [],
   "source": [
    "# Convert label to a numpy array\n",
    "y_eval = y_eval.to_numpy()"
   ]
  },
  {
   "cell_type": "code",
   "execution_count": 11,
   "id": "c51dc0db",
   "metadata": {},
   "outputs": [],
   "source": [
    "# Convert data - the features to a numpy array\n",
    "x_train = traindf.to_numpy()"
   ]
  },
  {
   "cell_type": "code",
   "execution_count": 12,
   "id": "7bf99abc",
   "metadata": {},
   "outputs": [],
   "source": [
    "# Convert data - the features to a numpy array\n",
    "x_eval = evaldf.to_numpy()"
   ]
  },
  {
   "cell_type": "markdown",
   "id": "7417b38a",
   "metadata": {},
   "source": [
    "## Here we build our model: \n",
    "### We start by setting the hyperparameters:\n",
    "\n",
    "1. LEARNING_RATE / learning_rate: The learning rate for the optimizer.\n",
    "2. INPUT_SHAPE, input_shape: The input shape for the model as a whole, In other words, the shape of one observation in your data. In our case, each observation has 9 columns. One was removed as the label, so 8 columns, so shape is 8.\n",
    "3. BASE_MODEL / base_model: If you were building a tandem model, starting with a pre-trained base model and passing the output of that model to the residual MLP we are building, then you would pass in that keras model object (e.g. and EfficientNetB7 model.). In the case of this demo, we are not doing this. We are passing our data and labels straight into a residual MLP, so base_model will be set to empty string '':\n",
    "4. BASE_MODEL_INPUT_SHAPE / base_model_input_shape: If you are using a base model with a different input shape than your data, you would enter the input shape for the base model, and the model built by make_model() would include a rescaling layer before between your input layer and your base model. For example, if you have training / test images of shape (32,32,3) and were using EfficientNet, pretrained on imagenet from keras applications having an input shape of (600,600,3), as your base_model, you would set the parameter 'base_model_input_shape' to (600,600,3).\n",
    "5. Flatten: Whether or not to put a Flatten layer before your data passes into the residual multi layer perceptron being built. This is usually set to True if you have a Conv2d layer as the last layer of your base model or otherwise have any data that will pass to your residualMLP model that is not a rank 1 tensor. Settign it to true will coerce the data being fed into your residualMLP model to a rank tensor. If you are building a tandem ConvolutionalNeuraNetworkModel->residualMLP model, this must be set to true, or the shape will raise an exception at the Concat layer(s) in the residualMLP model being built. Here, each observation is a rank 1 tensor, and it is going straight into our model with no upstream operation that will change its rank, so there is nothing to flatten. Flatten is set to False.\n",
    "6. BLOCKS / blocks: A 2d array. Each ith nested array will create a residualMLP block. See the image in readme.md for a visual of this. In each ith nested arry, you will find 3 positive integers (except l which can be positive or may be 0): j,k,l (from left to right). The positive integer j on the left of each nested array gives you control of how many Dense layers that this block will consist of. The second positive integer, k sets the number of Dense units in the first layer of the block. The third [0 or positive integer] l is how many LESS Dense units each succesive layer in the block will consist of than its predecessor. There is one additional obvious rule that the product of the first and third numbers, j and l must be < k, the second number, otherwise, you are asking the API to add some layer(s) with O Dense units or a negative number of Dense units. This will of course raise an exception and make you feel as embarassed as I did the first time I did this 😳. As a reminder, you must be concious of this when trying to run an auto-ml algorithym or running a gridsearch over permutations of these hyperparameters. A try .. except ... or better yet, a pre-screening of these permutations will be needed.\n",
    "7. RESIDUAL_BYPASS_DENSE_LAYERS / residual_bypass_dense_layers: If you want to include (a) Dense layer(s) in the residual bypass tensor, you would set this to a 2d array as we did below [[3],[3]], this will place a Dense layer with 3 units in the residual bypass of Block 1 and will place another Dense layer with 3 units in the resisual bypass of block 2. By default this is empty string \"\". If you set this, there must be a nested list for each blcok and may eb as many numbers in each blcok as your isel model architecture will have. Each ith nested 1d array would control the Dense layers in the residual bypass for the ith residual block. One layer will be inserted for each positive integer in the nested list and each layer will have the number of units as the integer.  If this is left as the default of '', then there will be no blocks in the residual bypass. You may add layers to one blocks's bypass and not the other like this: [[],[5]] See the image on readme.md. For this to make sense, please see the image on readme.md.The residual bypass is the through the network in yellow nodes on the right.).\n",
    "8. B_NORM_OR_DROPOUT_RESIDUAL_BYPASS_LAYERS / b_norm_or_dropout_residual_bypass_layers: You may insert BatchNormalization or dropout layers after each layer of the residual bypass. Options: Default \"dropout\" | \"bnorm\".\n",
    "9. DROPOUT_RATE_FOR_BYPASS_LAYERS / dropout_rate_for_bypass_layers: The global dropout rate for the dropout laters in the RESIDUAL BYPASSES (ignored if B_NORM_OR_DROPOUT_RESIDUAL_BYPASS_LAYERS is set to 'bnorm'). This usually performs best as dropout and often with a higher DROPOUT_RATE_FOR_BYPASS_LAYERS (e.g. 25%).\n",
    "10. B_NORM_OR_DROPOUT_LAST_LAYERS / b_norm_or_dropout_last_layers: After all last residual block, the hyperparameter FINAL_DENSE_LAYERS allows you to add a series (or just one) Dense layer(s). The hyperparameter b_norm_or_dropout_last_layers controls whether there will be a Dropout or BatchNormalization layer after each of these layer(s). This defaults to 'dropout' but can be set to 'bnorm'. It seems that about 60% of the time, dropout with the right dropout_rate will perform best, but be advised that these layers are more apt to internal covariate shift than the residual bypass layers. You amy want to experiment with both.  \n",
    "11. DROPOUT_RATE / dropout_rate: The dropout rate for the dropout layers after each final Dense layer inserted after the last residualMLP block by the parameter   \n",
    "12. FINAL_DENSE_LAYERS / final_dense_layers: A 1d array of positive integers: Each ith positive integer will insert a Dense layer after the last ResidualMLP block.\n",
    "13. NUMBER_OF_CLASSES = how many Dense units the final layer of the network should consist of / also the number of classes in your labels. For example, a simple linear regression model would have this parameter set to 1. So would a binary logistic regression problem. For a multi - class - classification problem, it would be the number of classes, eg 10 for a classification problem where there are 10 possible classes.\n",
    "14. FINAL_ACTIVATION - The activatinn fucntion e.g. tf.keras.activations.sigmoid - [no parentheses after it]. It defaults to tf.keras.activations.softmax. Since we are doing simple linear regression, the activation is None.\n",
    "15. LOSS - The loss that is appropriate for your problem. Here we are doign simpel linear regression, so the default chice is f.keras.losses.MeanSquaredError(), but tf.keras.losses.Huber() and tf.keras.losses.MeanAbsoluteError() are fair game. The default is: tf.keras.losses.CategoricalCrossentropy(from_logits=False), but that doesn't help us with this problem ... so we set it to None."
   ]
  },
  {
   "cell_type": "code",
   "execution_count": 22,
   "id": "a387fa37",
   "metadata": {},
   "outputs": [],
   "source": [
    "# Set the hyperparameters for the  \n",
    "\n",
    "PROBLEM_TYPE = 'regression'\n",
    "LEARNING_RATE = 0.007\n",
    "INPUT_SHAPE = 8\n",
    "BASE_MODEL = ''\n",
    "BASE_MODEL_INPUT_SHAPE = None\n",
    "FLATTEN = False\n",
    "BLOCKS = [[5,12,2],[5,12,2]]\n",
    "RESIDUAL_BYPASS_DENSE_LAYERS = [[3],[3]]\n",
    "B_NORM_OR_DROPOUT_RESIDUAL_BYPASS_LAYERS = 'bnorm'\n",
    "DROPOUT_RATE_FOR_BYPASS_LAYERS = 0.0\n",
    "B_NORM_OR_DROPOUT_LAST_LAYERS = 'bnorm'\n",
    "DROPOUT_RATE = 0.0\n",
    "FINAL_DENSE_LAYERS = [4,4]\n",
    "NUMBER_OF_CLASSES = 1\n",
    "FINAL_ACTIVATION = None\n",
    "LOSS = tf.keras.losses.MeanSquaredError()"
   ]
  },
  {
   "cell_type": "code",
   "execution_count": 23,
   "id": "a0aee21e",
   "metadata": {},
   "outputs": [],
   "source": [
    "res_mlp = ResidualMLP(problem_type = PROBLEM_TYPE,\n",
    "                      learning_rate=LEARNING_RATE,\n",
    "                      input_shape = INPUT_SHAPE,  \n",
    "                      base_model= BASE_MODEL,\n",
    "                      base_model_input_shape = BASE_MODEL_INPUT_SHAPE,\n",
    "                      flatten_after_base_model = FLATTEN,\n",
    "                      blocks = BLOCKS,\n",
    "                      residual_bypass_dense_layers = RESIDUAL_BYPASS_DENSE_LAYERS,\n",
    "                      b_norm_or_dropout_residual_bypass_layers=B_NORM_OR_DROPOUT_RESIDUAL_BYPASS_LAYERS,\n",
    "                      dropout_rate_for_bypass_layers=DROPOUT_RATE_FOR_BYPASS_LAYERS,\n",
    "                      b_norm_or_dropout_last_layers=B_NORM_OR_DROPOUT_LAST_LAYERS,\n",
    "                      dropout_rate=DROPOUT_RATE,\n",
    "                      final_dense_layers =\\\n",
    "                          FINAL_DENSE_LAYERS,\n",
    "                      number_of_classes = NUMBER_OF_CLASSES,\n",
    "                      final_activation = FINAL_ACTIVATION,\n",
    "                      loss = LOSS)\n",
    "model0001=\\\n",
    "    res_mlp.make_tandem_model()"
   ]
  },
  {
   "cell_type": "code",
   "execution_count": 24,
   "id": "c8f1df5c",
   "metadata": {},
   "outputs": [
    {
     "name": "stdout",
     "output_type": "stream",
     "text": [
      "Model: \"model_1\"\n",
      "__________________________________________________________________________________________________\n",
      "Layer (type)                    Output Shape         Param #     Connected to                     \n",
      "==================================================================================================\n",
      "input_2 (InputLayer)            [(None, 8)]          0                                            \n",
      "__________________________________________________________________________________________________\n",
      "dense_19 (Dense)                (None, 12)           108         input_2[0][0]                    \n",
      "__________________________________________________________________________________________________\n",
      "batch_normalization_20 (BatchNo (None, 12)           48          dense_19[0][0]                   \n",
      "__________________________________________________________________________________________________\n",
      "dense_21 (Dense)                (None, 12)           156         batch_normalization_20[0][0]     \n",
      "__________________________________________________________________________________________________\n",
      "batch_normalization_23 (BatchNo (None, 12)           48          dense_21[0][0]                   \n",
      "__________________________________________________________________________________________________\n",
      "dense_22 (Dense)                (None, 10)           130         batch_normalization_23[0][0]     \n",
      "__________________________________________________________________________________________________\n",
      "batch_normalization_24 (BatchNo (None, 10)           40          dense_22[0][0]                   \n",
      "__________________________________________________________________________________________________\n",
      "dense_23 (Dense)                (None, 8)            88          batch_normalization_24[0][0]     \n",
      "__________________________________________________________________________________________________\n",
      "batch_normalization_25 (BatchNo (None, 8)            32          dense_23[0][0]                   \n",
      "__________________________________________________________________________________________________\n",
      "dense_24 (Dense)                (None, 6)            54          batch_normalization_25[0][0]     \n",
      "__________________________________________________________________________________________________\n",
      "batch_normalization_26 (BatchNo (None, 6)            24          dense_24[0][0]                   \n",
      "__________________________________________________________________________________________________\n",
      "batch_normalization_21 (BatchNo (None, 12)           48          batch_normalization_20[0][0]     \n",
      "__________________________________________________________________________________________________\n",
      "dense_25 (Dense)                (None, 4)            28          batch_normalization_26[0][0]     \n",
      "__________________________________________________________________________________________________\n",
      "dense_20 (Dense)                (None, 3)            39          batch_normalization_21[0][0]     \n",
      "__________________________________________________________________________________________________\n",
      "batch_normalization_27 (BatchNo (None, 4)            16          dense_25[0][0]                   \n",
      "__________________________________________________________________________________________________\n",
      "batch_normalization_22 (BatchNo (None, 3)            12          dense_20[0][0]                   \n",
      "__________________________________________________________________________________________________\n",
      "concatenate_2 (Concatenate)     (None, 7)            0           batch_normalization_27[0][0]     \n",
      "                                                                 batch_normalization_22[0][0]     \n",
      "__________________________________________________________________________________________________\n",
      "dense_26 (Dense)                (None, 2)            16          concatenate_2[0][0]              \n",
      "__________________________________________________________________________________________________\n",
      "batch_normalization_28 (BatchNo (None, 2)            8           dense_26[0][0]                   \n",
      "__________________________________________________________________________________________________\n",
      "dense_27 (Dense)                (None, 12)           36          batch_normalization_28[0][0]     \n",
      "__________________________________________________________________________________________________\n",
      "batch_normalization_29 (BatchNo (None, 12)           48          dense_27[0][0]                   \n",
      "__________________________________________________________________________________________________\n",
      "dense_29 (Dense)                (None, 12)           156         batch_normalization_29[0][0]     \n",
      "__________________________________________________________________________________________________\n",
      "batch_normalization_32 (BatchNo (None, 12)           48          dense_29[0][0]                   \n",
      "__________________________________________________________________________________________________\n",
      "dense_30 (Dense)                (None, 10)           130         batch_normalization_32[0][0]     \n",
      "__________________________________________________________________________________________________\n",
      "batch_normalization_33 (BatchNo (None, 10)           40          dense_30[0][0]                   \n",
      "__________________________________________________________________________________________________\n",
      "dense_31 (Dense)                (None, 8)            88          batch_normalization_33[0][0]     \n",
      "__________________________________________________________________________________________________\n",
      "batch_normalization_34 (BatchNo (None, 8)            32          dense_31[0][0]                   \n",
      "__________________________________________________________________________________________________\n",
      "dense_32 (Dense)                (None, 6)            54          batch_normalization_34[0][0]     \n",
      "__________________________________________________________________________________________________\n",
      "batch_normalization_35 (BatchNo (None, 6)            24          dense_32[0][0]                   \n",
      "__________________________________________________________________________________________________\n",
      "batch_normalization_30 (BatchNo (None, 12)           48          batch_normalization_29[0][0]     \n",
      "__________________________________________________________________________________________________\n",
      "dense_33 (Dense)                (None, 4)            28          batch_normalization_35[0][0]     \n",
      "__________________________________________________________________________________________________\n",
      "dense_28 (Dense)                (None, 3)            39          batch_normalization_30[0][0]     \n",
      "__________________________________________________________________________________________________\n",
      "batch_normalization_36 (BatchNo (None, 4)            16          dense_33[0][0]                   \n",
      "__________________________________________________________________________________________________\n",
      "batch_normalization_31 (BatchNo (None, 3)            12          dense_28[0][0]                   \n",
      "__________________________________________________________________________________________________\n",
      "concatenate_3 (Concatenate)     (None, 7)            0           batch_normalization_36[0][0]     \n",
      "                                                                 batch_normalization_31[0][0]     \n",
      "__________________________________________________________________________________________________\n",
      "dense_34 (Dense)                (None, 2)            16          concatenate_3[0][0]              \n",
      "__________________________________________________________________________________________________\n",
      "batch_normalization_37 (BatchNo (None, 2)            8           dense_34[0][0]                   \n",
      "__________________________________________________________________________________________________\n",
      "dense_35 (Dense)                (None, 4)            12          batch_normalization_37[0][0]     \n",
      "__________________________________________________________________________________________________\n",
      "batch_normalization_38 (BatchNo (None, 4)            16          dense_35[0][0]                   \n",
      "__________________________________________________________________________________________________\n",
      "dense_36 (Dense)                (None, 4)            20          batch_normalization_38[0][0]     \n",
      "__________________________________________________________________________________________________\n",
      "batch_normalization_39 (BatchNo (None, 4)            16          dense_36[0][0]                   \n",
      "__________________________________________________________________________________________________\n",
      "dense_37 (Dense)                (None, 1)            5           batch_normalization_39[0][0]     \n",
      "==================================================================================================\n",
      "Total params: 1,787\n",
      "Trainable params: 1,495\n",
      "Non-trainable params: 292\n",
      "__________________________________________________________________________________________________\n"
     ]
    }
   ],
   "source": [
    "model0001.summary()"
   ]
  },
  {
   "cell_type": "code",
   "execution_count": 16,
   "id": "205e396f",
   "metadata": {},
   "outputs": [],
   "source": [
    "BATCH_SIZE = 50\n",
    "EPOCHS = 100\n",
    "PATIENCE = 15\n",
    "PATIENCE_MIN_DELTA = .005"
   ]
  },
  {
   "cell_type": "code",
   "execution_count": 17,
   "id": "0dcd1a2a",
   "metadata": {},
   "outputs": [
    {
     "name": "stderr",
     "output_type": "stream",
     "text": [
      "2022-01-10 08:28:48.051990: I tensorflow/core/profiler/lib/profiler_session.cc:131] Profiler session initializing.\n",
      "2022-01-10 08:28:48.052240: I tensorflow/core/profiler/lib/profiler_session.cc:146] Profiler session started.\n",
      "2022-01-10 08:28:48.053281: I tensorflow/core/profiler/internal/gpu/cupti_tracer.cc:1614] Profiler found 1 GPUs\n",
      "2022-01-10 08:28:48.338206: I tensorflow/core/profiler/lib/profiler_session.cc:164] Profiler session tear down.\n",
      "2022-01-10 08:28:48.338480: I tensorflow/core/profiler/internal/gpu/cupti_tracer.cc:1749] CUPTI activity buffer flushed\n"
     ]
    }
   ],
   "source": [
    "logdir = os.path.join(\"2022-01-10_21-27_logs\", 'results')\n",
    "tensorboard_callback = tf.keras.callbacks.TensorBoard(logdir, \n",
    "                                                      histogram_freq=1)"
   ]
  },
  {
   "cell_type": "code",
   "execution_count": 25,
   "id": "39d75778",
   "metadata": {},
   "outputs": [
    {
     "name": "stdout",
     "output_type": "stream",
     "text": [
      "Epoch 1/100\n",
      "  1/191 [..............................] - ETA: 19:18 - loss: 63094603776.0000 - root_mean_squared_error: 251186.3906 - mean_absolute_error: 221842.0625"
     ]
    },
    {
     "name": "stderr",
     "output_type": "stream",
     "text": [
      "2022-01-10 08:34:38.117827: I tensorflow/core/profiler/lib/profiler_session.cc:131] Profiler session initializing.\n",
      "2022-01-10 08:34:38.118328: I tensorflow/core/profiler/lib/profiler_session.cc:146] Profiler session started.\n"
     ]
    },
    {
     "name": "stdout",
     "output_type": "stream",
     "text": [
      "  2/191 [..............................] - ETA: 1:54 - loss: 53686358016.0000 - root_mean_squared_error: 231703.1719 - mean_absolute_error: 204178.0469 "
     ]
    },
    {
     "name": "stderr",
     "output_type": "stream",
     "text": [
      "2022-01-10 08:34:38.472165: I tensorflow/core/profiler/lib/profiler_session.cc:66] Profiler session collecting data.\n",
      "2022-01-10 08:34:38.472720: I tensorflow/core/profiler/internal/gpu/cupti_tracer.cc:1749] CUPTI activity buffer flushed\n",
      "2022-01-10 08:34:38.530472: I tensorflow/core/profiler/internal/gpu/cupti_collector.cc:673]  GpuTracer has collected 1693 callback api events and 1707 activity events. \n",
      "2022-01-10 08:34:38.578807: I tensorflow/core/profiler/lib/profiler_session.cc:164] Profiler session tear down.\n"
     ]
    },
    {
     "name": "stdout",
     "output_type": "stream",
     "text": [
      "  3/191 [..............................] - ETA: 1:33 - loss: 50268131328.0000 - root_mean_squared_error: 224205.5469 - mean_absolute_error: 196197.3594"
     ]
    },
    {
     "name": "stderr",
     "output_type": "stream",
     "text": [
      "2022-01-10 08:34:38.672914: I tensorflow/core/profiler/rpc/client/save_profile.cc:136] Creating directory: 2022-01-10_21-27_logs/results/train/plugins/profile/2022_01_10_08_34_38\n",
      "\n",
      "2022-01-10 08:34:38.706195: I tensorflow/core/profiler/rpc/client/save_profile.cc:142] Dumped gzipped tool data for trace.json.gz to 2022-01-10_21-27_logs/results/train/plugins/profile/2022_01_10_08_34_38/nwsk1kktjk.trace.json.gz\n",
      "2022-01-10 08:34:38.796527: I tensorflow/core/profiler/rpc/client/save_profile.cc:136] Creating directory: 2022-01-10_21-27_logs/results/train/plugins/profile/2022_01_10_08_34_38\n",
      "\n",
      "2022-01-10 08:34:38.803875: I tensorflow/core/profiler/rpc/client/save_profile.cc:142] Dumped gzipped tool data for memory_profile.json.gz to 2022-01-10_21-27_logs/results/train/plugins/profile/2022_01_10_08_34_38/nwsk1kktjk.memory_profile.json.gz\n",
      "2022-01-10 08:34:38.824964: I tensorflow/core/profiler/rpc/client/capture_profile.cc:251] Creating directory: 2022-01-10_21-27_logs/results/train/plugins/profile/2022_01_10_08_34_38\n",
      "Dumped tool data for xplane.pb to 2022-01-10_21-27_logs/results/train/plugins/profile/2022_01_10_08_34_38/nwsk1kktjk.xplane.pb\n",
      "Dumped tool data for overview_page.pb to 2022-01-10_21-27_logs/results/train/plugins/profile/2022_01_10_08_34_38/nwsk1kktjk.overview_page.pb\n",
      "Dumped tool data for input_pipeline.pb to 2022-01-10_21-27_logs/results/train/plugins/profile/2022_01_10_08_34_38/nwsk1kktjk.input_pipeline.pb\n",
      "Dumped tool data for tensorflow_stats.pb to 2022-01-10_21-27_logs/results/train/plugins/profile/2022_01_10_08_34_38/nwsk1kktjk.tensorflow_stats.pb\n",
      "Dumped tool data for kernel_stats.pb to 2022-01-10_21-27_logs/results/train/plugins/profile/2022_01_10_08_34_38/nwsk1kktjk.kernel_stats.pb\n",
      "\n"
     ]
    },
    {
     "name": "stdout",
     "output_type": "stream",
     "text": [
      "191/191 [==============================] - 14s 44ms/step - loss: 51957465088.0000 - root_mean_squared_error: 227941.7969 - mean_absolute_error: 198546.1719 - val_loss: 65752702976.0000 - val_root_mean_squared_error: 256422.8906 - val_mean_absolute_error: 226006.6250\n",
      "Epoch 2/100\n",
      "191/191 [==============================] - 7s 35ms/step - loss: 51948548096.0000 - root_mean_squared_error: 227922.2344 - mean_absolute_error: 198528.5469 - val_loss: 65744580608.0000 - val_root_mean_squared_error: 256407.0625 - val_mean_absolute_error: 225995.6250\n",
      "Epoch 3/100\n",
      "191/191 [==============================] - 6s 29ms/step - loss: 51930972160.0000 - root_mean_squared_error: 227883.6719 - mean_absolute_error: 198496.4375 - val_loss: 65748152320.0000 - val_root_mean_squared_error: 256414.0156 - val_mean_absolute_error: 226012.0156\n",
      "Epoch 4/100\n",
      "191/191 [==============================] - 6s 30ms/step - loss: 51904770048.0000 - root_mean_squared_error: 227826.1875 - mean_absolute_error: 198449.8125 - val_loss: 65669582848.0000 - val_root_mean_squared_error: 256260.7656 - val_mean_absolute_error: 225866.1562\n",
      "Epoch 5/100\n",
      "191/191 [==============================] - 6s 30ms/step - loss: 51870093312.0000 - root_mean_squared_error: 227750.0625 - mean_absolute_error: 198388.9531 - val_loss: 65467830272.0000 - val_root_mean_squared_error: 255866.8281 - val_mean_absolute_error: 225465.3281\n",
      "Epoch 6/100\n",
      "191/191 [==============================] - 6s 30ms/step - loss: 51827666944.0000 - root_mean_squared_error: 227656.9062 - mean_absolute_error: 198313.9688 - val_loss: 65432154112.0000 - val_root_mean_squared_error: 255797.0938 - val_mean_absolute_error: 225465.6719\n",
      "Epoch 7/100\n",
      "191/191 [==============================] - 6s 30ms/step - loss: 51776643072.0000 - root_mean_squared_error: 227544.8281 - mean_absolute_error: 198224.4688 - val_loss: 65320902656.0000 - val_root_mean_squared_error: 255579.5469 - val_mean_absolute_error: 225280.1094\n",
      "Epoch 8/100\n",
      "191/191 [==============================] - 6s 29ms/step - loss: 51716251648.0000 - root_mean_squared_error: 227412.0781 - mean_absolute_error: 198120.7500 - val_loss: 64884432896.0000 - val_root_mean_squared_error: 254724.2344 - val_mean_absolute_error: 224285.1562\n",
      "Epoch 9/100\n",
      "191/191 [==============================] - 6s 29ms/step - loss: 51652722688.0000 - root_mean_squared_error: 227272.3438 - mean_absolute_error: 198002.7031 - val_loss: 65177939968.0000 - val_root_mean_squared_error: 255299.7031 - val_mean_absolute_error: 225041.3438\n",
      "Epoch 10/100\n",
      "191/191 [==============================] - 6s 30ms/step - loss: 51578040320.0000 - root_mean_squared_error: 227107.9844 - mean_absolute_error: 197870.3125 - val_loss: 65177939968.0000 - val_root_mean_squared_error: 255299.7031 - val_mean_absolute_error: 225036.1094\n",
      "Epoch 11/100\n",
      "191/191 [==============================] - 6s 29ms/step - loss: 51493687296.0000 - root_mean_squared_error: 226922.2031 - mean_absolute_error: 197723.5781 - val_loss: 64791920640.0000 - val_root_mean_squared_error: 254542.5781 - val_mean_absolute_error: 224211.5000\n",
      "Epoch 12/100\n",
      "191/191 [==============================] - 6s 30ms/step - loss: 51402702848.0000 - root_mean_squared_error: 226721.6406 - mean_absolute_error: 197562.6250 - val_loss: 65691193344.0000 - val_root_mean_squared_error: 256302.9375 - val_mean_absolute_error: 226052.6250\n",
      "Epoch 13/100\n",
      "191/191 [==============================] - 6s 30ms/step - loss: 51302330368.0000 - root_mean_squared_error: 226500.1719 - mean_absolute_error: 197387.2969 - val_loss: 64636182528.0000 - val_root_mean_squared_error: 254236.4688 - val_mean_absolute_error: 223724.4062\n",
      "Epoch 14/100\n",
      "191/191 [==============================] - 6s 29ms/step - loss: 51196559360.0000 - root_mean_squared_error: 226266.5625 - mean_absolute_error: 197197.6562 - val_loss: 64547229696.0000 - val_root_mean_squared_error: 254061.4531 - val_mean_absolute_error: 223893.3750\n",
      "Epoch 15/100\n",
      "191/191 [==============================] - 6s 31ms/step - loss: 51081314304.0000 - root_mean_squared_error: 226011.7500 - mean_absolute_error: 196993.6719 - val_loss: 65352933376.0000 - val_root_mean_squared_error: 255642.2031 - val_mean_absolute_error: 225435.0469\n",
      "Epoch 16/100\n",
      "191/191 [==============================] - 6s 31ms/step - loss: 50957103104.0000 - root_mean_squared_error: 225736.7969 - mean_absolute_error: 196775.4219 - val_loss: 64160849920.0000 - val_root_mean_squared_error: 253299.9219 - val_mean_absolute_error: 223084.1094\n",
      "Epoch 17/100\n",
      "191/191 [==============================] - 6s 30ms/step - loss: 50824634368.0000 - root_mean_squared_error: 225443.1875 - mean_absolute_error: 196542.8438 - val_loss: 64136036352.0000 - val_root_mean_squared_error: 253250.9375 - val_mean_absolute_error: 222985.9375\n",
      "Epoch 18/100\n",
      "191/191 [==============================] - 7s 36ms/step - loss: 50685972480.0000 - root_mean_squared_error: 225135.4531 - mean_absolute_error: 196295.9844 - val_loss: 64754733056.0000 - val_root_mean_squared_error: 254469.5156 - val_mean_absolute_error: 224397.2344\n",
      "Epoch 19/100\n",
      "191/191 [==============================] - 6s 29ms/step - loss: 50538078208.0000 - root_mean_squared_error: 224806.7500 - mean_absolute_error: 196034.6875 - val_loss: 65050554368.0000 - val_root_mean_squared_error: 255050.0938 - val_mean_absolute_error: 225399.4375\n",
      "Epoch 20/100\n",
      "191/191 [==============================] - 6s 30ms/step - loss: 50393903104.0000 - root_mean_squared_error: 224485.8594 - mean_absolute_error: 195759.2344 - val_loss: 64383733760.0000 - val_root_mean_squared_error: 253739.5000 - val_mean_absolute_error: 223845.3594\n",
      "Epoch 21/100\n",
      "191/191 [==============================] - 6s 30ms/step - loss: 50220281856.0000 - root_mean_squared_error: 224098.8125 - mean_absolute_error: 195469.4219 - val_loss: 64504631296.0000 - val_root_mean_squared_error: 253977.6094 - val_mean_absolute_error: 224195.6562\n",
      "Epoch 22/100\n",
      "191/191 [==============================] - 6s 29ms/step - loss: 50056966144.0000 - root_mean_squared_error: 223734.1406 - mean_absolute_error: 195165.3594 - val_loss: 64642203648.0000 - val_root_mean_squared_error: 254248.3125 - val_mean_absolute_error: 224418.0000\n",
      "Epoch 23/100\n",
      "191/191 [==============================] - 6s 29ms/step - loss: 49888075776.0000 - root_mean_squared_error: 223356.3906 - mean_absolute_error: 194846.9531 - val_loss: 63335899136.0000 - val_root_mean_squared_error: 251666.2344 - val_mean_absolute_error: 222216.7969\n",
      "Epoch 24/100\n",
      "191/191 [==============================] - 6s 29ms/step - loss: 49695014912.0000 - root_mean_squared_error: 222923.7812 - mean_absolute_error: 194514.4062 - val_loss: 62277713920.0000 - val_root_mean_squared_error: 249555.0312 - val_mean_absolute_error: 218229.0781\n",
      "Epoch 25/100\n",
      "191/191 [==============================] - 6s 30ms/step - loss: 49505648640.0000 - root_mean_squared_error: 222498.6406 - mean_absolute_error: 194167.2500 - val_loss: 66752020480.0000 - val_root_mean_squared_error: 258364.1094 - val_mean_absolute_error: 228488.8125\n",
      "Epoch 26/100\n",
      "191/191 [==============================] - 6s 29ms/step - loss: 49301327872.0000 - root_mean_squared_error: 222039.0156 - mean_absolute_error: 193805.9844 - val_loss: 66758709248.0000 - val_root_mean_squared_error: 258377.0625 - val_mean_absolute_error: 228615.3438\n",
      "Epoch 27/100\n",
      "191/191 [==============================] - 6s 31ms/step - loss: 49095102464.0000 - root_mean_squared_error: 221574.1406 - mean_absolute_error: 193430.3750 - val_loss: 60691402752.0000 - val_root_mean_squared_error: 246356.2500 - val_mean_absolute_error: 216229.2031\n",
      "Epoch 28/100\n",
      "191/191 [==============================] - 6s 30ms/step - loss: 48882565120.0000 - root_mean_squared_error: 221094.0156 - mean_absolute_error: 193040.4375 - val_loss: 61222449152.0000 - val_root_mean_squared_error: 247431.7031 - val_mean_absolute_error: 217887.9844\n",
      "Epoch 29/100\n",
      "191/191 [==============================] - 6s 30ms/step - loss: 48647774208.0000 - root_mean_squared_error: 220562.4062 - mean_absolute_error: 192636.2344 - val_loss: 61580406784.0000 - val_root_mean_squared_error: 248153.9844 - val_mean_absolute_error: 218510.9531\n",
      "Epoch 30/100\n",
      "191/191 [==============================] - 6s 30ms/step - loss: 48414408704.0000 - root_mean_squared_error: 220032.7344 - mean_absolute_error: 192217.7812 - val_loss: 64362868736.0000 - val_root_mean_squared_error: 253698.3906 - val_mean_absolute_error: 224464.1250\n",
      "Epoch 31/100\n",
      "191/191 [==============================] - 6s 29ms/step - loss: 48192421888.0000 - root_mean_squared_error: 219527.7188 - mean_absolute_error: 191785.0312 - val_loss: 65331822592.0000 - val_root_mean_squared_error: 255600.9062 - val_mean_absolute_error: 226333.4688\n",
      "Epoch 32/100\n",
      "191/191 [==============================] - 6s 29ms/step - loss: 47942250496.0000 - root_mean_squared_error: 218957.1875 - mean_absolute_error: 191337.7969 - val_loss: 66845286400.0000 - val_root_mean_squared_error: 258544.5469 - val_mean_absolute_error: 229348.2188\n",
      "Epoch 33/100\n",
      "191/191 [==============================] - 6s 30ms/step - loss: 47679381504.0000 - root_mean_squared_error: 218356.0938 - mean_absolute_error: 190876.4062 - val_loss: 60472877056.0000 - val_root_mean_squared_error: 245912.3281 - val_mean_absolute_error: 216680.9844\n",
      "Epoch 34/100\n",
      "191/191 [==============================] - 6s 30ms/step - loss: 47435759616.0000 - root_mean_squared_error: 217797.5156 - mean_absolute_error: 190401.3281 - val_loss: 60888432640.0000 - val_root_mean_squared_error: 246755.8125 - val_mean_absolute_error: 217677.1875\n",
      "Epoch 35/100\n",
      "191/191 [==============================] - 6s 29ms/step - loss: 47166185472.0000 - root_mean_squared_error: 217177.7812 - mean_absolute_error: 189910.9219 - val_loss: 55604727808.0000 - val_root_mean_squared_error: 235806.5469 - val_mean_absolute_error: 203471.3594\n",
      "Epoch 36/100\n",
      "191/191 [==============================] - 6s 30ms/step - loss: 46889328640.0000 - root_mean_squared_error: 216539.4219 - mean_absolute_error: 189406.8125 - val_loss: 50357186560.0000 - val_root_mean_squared_error: 224404.0625 - val_mean_absolute_error: 192660.9844\n",
      "Epoch 37/100\n",
      "191/191 [==============================] - 6s 30ms/step - loss: 46607101952.0000 - root_mean_squared_error: 215886.7812 - mean_absolute_error: 188888.4062 - val_loss: 62932385792.0000 - val_root_mean_squared_error: 250863.2812 - val_mean_absolute_error: 222934.4531\n",
      "Epoch 38/100\n",
      "191/191 [==============================] - 6s 30ms/step - loss: 46307053568.0000 - root_mean_squared_error: 215190.7344 - mean_absolute_error: 188354.9062 - val_loss: 64055779328.0000 - val_root_mean_squared_error: 253092.4219 - val_mean_absolute_error: 224099.6875\n",
      "Epoch 39/100\n",
      "191/191 [==============================] - 6s 29ms/step - loss: 46031593472.0000 - root_mean_squared_error: 214549.7500 - mean_absolute_error: 187808.1250 - val_loss: 60021059584.0000 - val_root_mean_squared_error: 244991.9531 - val_mean_absolute_error: 216663.6562\n",
      "Epoch 40/100\n",
      "191/191 [==============================] - 6s 29ms/step - loss: 45726212096.0000 - root_mean_squared_error: 213836.8750 - mean_absolute_error: 187246.1406 - val_loss: 50961133568.0000 - val_root_mean_squared_error: 225745.7344 - val_mean_absolute_error: 196201.1406\n",
      "Epoch 41/100\n",
      "191/191 [==============================] - 6s 30ms/step - loss: 45420306432.0000 - root_mean_squared_error: 213120.4062 - mean_absolute_error: 186670.6875 - val_loss: 60896698368.0000 - val_root_mean_squared_error: 246772.5625 - val_mean_absolute_error: 219354.5781\n",
      "Epoch 42/100\n",
      "191/191 [==============================] - 6s 29ms/step - loss: 45119856640.0000 - root_mean_squared_error: 212414.3438 - mean_absolute_error: 186080.3125 - val_loss: 47838195712.0000 - val_root_mean_squared_error: 218719.4375 - val_mean_absolute_error: 185249.2344\n",
      "Epoch 43/100\n",
      "191/191 [==============================] - 6s 30ms/step - loss: 44803858432.0000 - root_mean_squared_error: 211669.2188 - mean_absolute_error: 185476.0312 - val_loss: 55397089280.0000 - val_root_mean_squared_error: 235365.8594 - val_mean_absolute_error: 206885.5156\n",
      "Epoch 44/100\n",
      "191/191 [==============================] - 6s 30ms/step - loss: 44466782208.0000 - root_mean_squared_error: 210871.4844 - mean_absolute_error: 184857.4062 - val_loss: 50781663232.0000 - val_root_mean_squared_error: 225347.8750 - val_mean_absolute_error: 195504.5781\n",
      "Epoch 45/100\n",
      "191/191 [==============================] - 7s 36ms/step - loss: 44149780480.0000 - root_mean_squared_error: 210118.4844 - mean_absolute_error: 184227.9844 - val_loss: 68111699968.0000 - val_root_mean_squared_error: 260982.2031 - val_mean_absolute_error: 232397.8594\n",
      "Epoch 46/100\n",
      "191/191 [==============================] - 6s 29ms/step - loss: 43811172352.0000 - root_mean_squared_error: 209311.1875 - mean_absolute_error: 183578.0312 - val_loss: 68730806272.0000 - val_root_mean_squared_error: 262165.5938 - val_mean_absolute_error: 232280.4688\n",
      "Epoch 47/100\n",
      "191/191 [==============================] - 6s 30ms/step - loss: 43461869568.0000 - root_mean_squared_error: 208475.1094 - mean_absolute_error: 182921.8906 - val_loss: 57997189120.0000 - val_root_mean_squared_error: 240826.0469 - val_mean_absolute_error: 213068.3750\n",
      "Epoch 48/100\n",
      "191/191 [==============================] - 6s 29ms/step - loss: 43129962496.0000 - root_mean_squared_error: 207677.5469 - mean_absolute_error: 182241.3750 - val_loss: 54180179968.0000 - val_root_mean_squared_error: 232766.3594 - val_mean_absolute_error: 199353.5469\n",
      "Epoch 49/100\n",
      "191/191 [==============================] - 6s 30ms/step - loss: 42762551296.0000 - root_mean_squared_error: 206791.0781 - mean_absolute_error: 181550.2656 - val_loss: 52560576512.0000 - val_root_mean_squared_error: 229260.9375 - val_mean_absolute_error: 194824.7344\n",
      "Epoch 50/100\n",
      "191/191 [==============================] - 6s 29ms/step - loss: 42412924928.0000 - root_mean_squared_error: 205943.9844 - mean_absolute_error: 180849.3750 - val_loss: 59650920448.0000 - val_root_mean_squared_error: 244235.3750 - val_mean_absolute_error: 217988.0469\n",
      "Epoch 51/100\n",
      "191/191 [==============================] - 6s 29ms/step - loss: 42074009600.0000 - root_mean_squared_error: 205119.5000 - mean_absolute_error: 180128.2031 - val_loss: 68203565056.0000 - val_root_mean_squared_error: 261158.1250 - val_mean_absolute_error: 232962.8125\n",
      "Epoch 52/100\n",
      "191/191 [==============================] - 6s 30ms/step - loss: 41741193216.0000 - root_mean_squared_error: 204306.6094 - mean_absolute_error: 179397.0781 - val_loss: 46909276160.0000 - val_root_mean_squared_error: 216585.4688 - val_mean_absolute_error: 181933.5000\n",
      "Epoch 53/100\n",
      "191/191 [==============================] - 6s 30ms/step - loss: 41324306432.0000 - root_mean_squared_error: 203283.8125 - mean_absolute_error: 178648.2031 - val_loss: 39859638272.0000 - val_root_mean_squared_error: 199648.7656 - val_mean_absolute_error: 171584.5625\n",
      "Epoch 54/100\n",
      "191/191 [==============================] - 6s 31ms/step - loss: 40941121536.0000 - root_mean_squared_error: 202339.1250 - mean_absolute_error: 177886.9219 - val_loss: 66133544960.0000 - val_root_mean_squared_error: 257164.4219 - val_mean_absolute_error: 228416.5938\n",
      "Epoch 55/100\n",
      "191/191 [==============================] - 6s 31ms/step - loss: 40540782592.0000 - root_mean_squared_error: 201347.4219 - mean_absolute_error: 177107.9531 - val_loss: 48106663936.0000 - val_root_mean_squared_error: 219332.3125 - val_mean_absolute_error: 192622.5156\n",
      "Epoch 56/100\n",
      "191/191 [==============================] - 7s 37ms/step - loss: 40159313920.0000 - root_mean_squared_error: 200397.8906 - mean_absolute_error: 176319.8750 - val_loss: 69699715072.0000 - val_root_mean_squared_error: 264007.0312 - val_mean_absolute_error: 228370.1250\n",
      "Epoch 57/100\n",
      "191/191 [==============================] - 6s 30ms/step - loss: 39763238912.0000 - root_mean_squared_error: 199407.2188 - mean_absolute_error: 175517.7812 - val_loss: 66745692160.0000 - val_root_mean_squared_error: 258351.8750 - val_mean_absolute_error: 231523.1406\n",
      "Epoch 58/100\n",
      "191/191 [==============================] - 6s 30ms/step - loss: 39358738432.0000 - root_mean_squared_error: 198390.3594 - mean_absolute_error: 174700.5000 - val_loss: 42419519488.0000 - val_root_mean_squared_error: 205959.9844 - val_mean_absolute_error: 178975.2969\n",
      "Epoch 59/100\n",
      "191/191 [==============================] - 7s 36ms/step - loss: 38929932288.0000 - root_mean_squared_error: 197306.6875 - mean_absolute_error: 173864.8438 - val_loss: 71960461312.0000 - val_root_mean_squared_error: 268254.4688 - val_mean_absolute_error: 242856.7500\n",
      "Epoch 60/100\n",
      "191/191 [==============================] - 6s 30ms/step - loss: 38553899008.0000 - root_mean_squared_error: 196351.4688 - mean_absolute_error: 173014.5000 - val_loss: 28927250432.0000 - val_root_mean_squared_error: 170080.1250 - val_mean_absolute_error: 130832.9141\n",
      "Epoch 61/100\n",
      "191/191 [==============================] - 6s 29ms/step - loss: 38180356096.0000 - root_mean_squared_error: 195397.9375 - mean_absolute_error: 172159.6094 - val_loss: 59380887552.0000 - val_root_mean_squared_error: 243681.9375 - val_mean_absolute_error: 218701.5312\n",
      "Epoch 62/100\n",
      "191/191 [==============================] - 6s 30ms/step - loss: 37752401920.0000 - root_mean_squared_error: 194299.7656 - mean_absolute_error: 171290.8906 - val_loss: 43945955328.0000 - val_root_mean_squared_error: 209632.9062 - val_mean_absolute_error: 160694.0156\n",
      "Epoch 63/100\n",
      "191/191 [==============================] - 6s 29ms/step - loss: 37303070720.0000 - root_mean_squared_error: 193140.0312 - mean_absolute_error: 170399.3594 - val_loss: 57592664064.0000 - val_root_mean_squared_error: 239984.7031 - val_mean_absolute_error: 214353.4844\n",
      "Epoch 64/100\n",
      "191/191 [==============================] - 6s 30ms/step - loss: 36975288320.0000 - root_mean_squared_error: 192289.5938 - mean_absolute_error: 169488.5781 - val_loss: 66690990080.0000 - val_root_mean_squared_error: 258245.9844 - val_mean_absolute_error: 221210.2500\n",
      "Epoch 65/100\n",
      "191/191 [==============================] - 6s 30ms/step - loss: 36520443904.0000 - root_mean_squared_error: 191103.2188 - mean_absolute_error: 168584.2969 - val_loss: 47985401856.0000 - val_root_mean_squared_error: 219055.7031 - val_mean_absolute_error: 195004.2344\n",
      "Epoch 66/100\n",
      "191/191 [==============================] - 7s 36ms/step - loss: 36030865408.0000 - root_mean_squared_error: 189817.9688 - mean_absolute_error: 167658.4062 - val_loss: 73310683136.0000 - val_root_mean_squared_error: 270759.4375 - val_mean_absolute_error: 244874.4062\n",
      "Epoch 67/100\n",
      "191/191 [==============================] - 6s 30ms/step - loss: 35628449792.0000 - root_mean_squared_error: 188755.0000 - mean_absolute_error: 166691.2812 - val_loss: 41148751872.0000 - val_root_mean_squared_error: 202851.5469 - val_mean_absolute_error: 176421.1250\n",
      "Epoch 68/100\n",
      "191/191 [==============================] - 6s 29ms/step - loss: 35187621888.0000 - root_mean_squared_error: 187583.6406 - mean_absolute_error: 165730.2500 - val_loss: 45682110464.0000 - val_root_mean_squared_error: 213733.7188 - val_mean_absolute_error: 186091.7031\n",
      "Epoch 69/100\n",
      "191/191 [==============================] - 6s 30ms/step - loss: 34751422464.0000 - root_mean_squared_error: 186417.3281 - mean_absolute_error: 164753.4375 - val_loss: 27146221568.0000 - val_root_mean_squared_error: 164761.1094 - val_mean_absolute_error: 134636.8594\n",
      "Epoch 70/100\n",
      "191/191 [==============================] - 6s 30ms/step - loss: 34277574656.0000 - root_mean_squared_error: 185142.0469 - mean_absolute_error: 163770.0312 - val_loss: 41794056192.0000 - val_root_mean_squared_error: 204435.9375 - val_mean_absolute_error: 181592.4844\n",
      "Epoch 71/100\n",
      "191/191 [==============================] - 6s 30ms/step - loss: 33903732736.0000 - root_mean_squared_error: 184129.6562 - mean_absolute_error: 162776.7500 - val_loss: 63397076992.0000 - val_root_mean_squared_error: 251787.7656 - val_mean_absolute_error: 226766.9219\n",
      "Epoch 72/100\n",
      "191/191 [==============================] - 6s 29ms/step - loss: 33463386112.0000 - root_mean_squared_error: 182930.0000 - mean_absolute_error: 161765.7812 - val_loss: 39721127936.0000 - val_root_mean_squared_error: 199301.6094 - val_mean_absolute_error: 173501.0938\n",
      "Epoch 73/100\n",
      "191/191 [==============================] - 6s 30ms/step - loss: 33000849408.0000 - root_mean_squared_error: 181661.3594 - mean_absolute_error: 160740.5000 - val_loss: 68379254784.0000 - val_root_mean_squared_error: 261494.2812 - val_mean_absolute_error: 237413.4531\n",
      "Epoch 74/100\n",
      "191/191 [==============================] - 6s 29ms/step - loss: 32539588608.0000 - root_mean_squared_error: 180387.3281 - mean_absolute_error: 159683.7969 - val_loss: 37972881408.0000 - val_root_mean_squared_error: 194866.3125 - val_mean_absolute_error: 165346.5625\n",
      "Epoch 75/100\n",
      "191/191 [==============================] - 7s 36ms/step - loss: 32086312960.0000 - root_mean_squared_error: 179126.5312 - mean_absolute_error: 158604.0938 - val_loss: 44041109504.0000 - val_root_mean_squared_error: 209859.7344 - val_mean_absolute_error: 185797.5938\n",
      "Epoch 76/100\n",
      "191/191 [==============================] - 6s 30ms/step - loss: 31645358080.0000 - root_mean_squared_error: 177891.4219 - mean_absolute_error: 157572.7344 - val_loss: 58630299648.0000 - val_root_mean_squared_error: 242136.9375 - val_mean_absolute_error: 220646.2500\n",
      "Epoch 77/100\n",
      "191/191 [==============================] - 6s 30ms/step - loss: 31251830784.0000 - root_mean_squared_error: 176781.8750 - mean_absolute_error: 156483.8438 - val_loss: 63951597568.0000 - val_root_mean_squared_error: 252886.5312 - val_mean_absolute_error: 230079.3750\n",
      "Epoch 78/100\n",
      "191/191 [==============================] - 6s 30ms/step - loss: 30781368320.0000 - root_mean_squared_error: 175446.2031 - mean_absolute_error: 155387.8281 - val_loss: 67576565760.0000 - val_root_mean_squared_error: 259954.9375 - val_mean_absolute_error: 237889.0156\n",
      "Epoch 79/100\n",
      "191/191 [==============================] - 6s 29ms/step - loss: 30272112640.0000 - root_mean_squared_error: 173988.8281 - mean_absolute_error: 154243.5469 - val_loss: 39390818304.0000 - val_root_mean_squared_error: 198471.2031 - val_mean_absolute_error: 176719.3281\n",
      "Epoch 80/100\n",
      "191/191 [==============================] - 6s 31ms/step - loss: 29865551872.0000 - root_mean_squared_error: 172816.5156 - mean_absolute_error: 153126.3906 - val_loss: 50238525440.0000 - val_root_mean_squared_error: 224139.5156 - val_mean_absolute_error: 201680.4531\n",
      "Epoch 81/100\n",
      "191/191 [==============================] - 6s 30ms/step - loss: 29388617728.0000 - root_mean_squared_error: 171431.0938 - mean_absolute_error: 152021.1875 - val_loss: 18719240192.0000 - val_root_mean_squared_error: 136818.2812 - val_mean_absolute_error: 110177.1016\n",
      "Epoch 82/100\n",
      "191/191 [==============================] - 6s 30ms/step - loss: 28996186112.0000 - root_mean_squared_error: 170282.6562 - mean_absolute_error: 150813.7656 - val_loss: 45103144960.0000 - val_root_mean_squared_error: 212375.0156 - val_mean_absolute_error: 191702.6094\n",
      "Epoch 83/100\n",
      "191/191 [==============================] - 6s 29ms/step - loss: 28581900288.0000 - root_mean_squared_error: 169061.8281 - mean_absolute_error: 149710.0469 - val_loss: 28897372160.0000 - val_root_mean_squared_error: 169992.2656 - val_mean_absolute_error: 150346.7344\n",
      "Epoch 84/100\n",
      "191/191 [==============================] - 6s 30ms/step - loss: 28022743040.0000 - root_mean_squared_error: 167399.9375 - mean_absolute_error: 148495.5625 - val_loss: 37622341632.0000 - val_root_mean_squared_error: 193964.7969 - val_mean_absolute_error: 176441.2969\n",
      "Epoch 85/100\n",
      "191/191 [==============================] - 6s 29ms/step - loss: 27631769600.0000 - root_mean_squared_error: 166228.0625 - mean_absolute_error: 147290.1250 - val_loss: 41832165376.0000 - val_root_mean_squared_error: 204529.1250 - val_mean_absolute_error: 185513.7500\n",
      "Epoch 86/100\n",
      "191/191 [==============================] - 6s 30ms/step - loss: 27126732800.0000 - root_mean_squared_error: 164701.9531 - mean_absolute_error: 146077.5469 - val_loss: 17257259008.0000 - val_root_mean_squared_error: 131366.8750 - val_mean_absolute_error: 106121.5156\n",
      "Epoch 87/100\n",
      "191/191 [==============================] - 6s 30ms/step - loss: 26627123200.0000 - root_mean_squared_error: 163178.1875 - mean_absolute_error: 144884.9844 - val_loss: 27183022080.0000 - val_root_mean_squared_error: 164872.7500 - val_mean_absolute_error: 146999.8438\n",
      "Epoch 88/100\n",
      "191/191 [==============================] - 6s 31ms/step - loss: 26259910656.0000 - root_mean_squared_error: 162049.0938 - mean_absolute_error: 143659.3125 - val_loss: 27421489152.0000 - val_root_mean_squared_error: 165594.3438 - val_mean_absolute_error: 143018.5156\n",
      "Epoch 89/100\n",
      "191/191 [==============================] - 6s 30ms/step - loss: 25885163520.0000 - root_mean_squared_error: 160888.6719 - mean_absolute_error: 142480.2500 - val_loss: 32815169536.0000 - val_root_mean_squared_error: 181149.5781 - val_mean_absolute_error: 164421.7656\n",
      "Epoch 90/100\n",
      "191/191 [==============================] - 6s 29ms/step - loss: 25351034880.0000 - root_mean_squared_error: 159220.0781 - mean_absolute_error: 141160.1875 - val_loss: 8201958400.0000 - val_root_mean_squared_error: 90564.6641 - val_mean_absolute_error: 68088.4375\n",
      "Epoch 91/100\n",
      "191/191 [==============================] - 6s 30ms/step - loss: 24937695232.0000 - root_mean_squared_error: 157916.7344 - mean_absolute_error: 139897.1875 - val_loss: 19536816128.0000 - val_root_mean_squared_error: 139774.1562 - val_mean_absolute_error: 111542.9766\n",
      "Epoch 92/100\n",
      "191/191 [==============================] - 6s 30ms/step - loss: 24468432896.0000 - root_mean_squared_error: 156423.8906 - mean_absolute_error: 138681.1875 - val_loss: 23008964608.0000 - val_root_mean_squared_error: 151687.0625 - val_mean_absolute_error: 128107.5312\n",
      "Epoch 93/100\n",
      "191/191 [==============================] - 5s 29ms/step - loss: 24058773504.0000 - root_mean_squared_error: 155108.9062 - mean_absolute_error: 137327.5938 - val_loss: 77255426048.0000 - val_root_mean_squared_error: 277948.5938 - val_mean_absolute_error: 257940.9062\n",
      "Epoch 94/100\n",
      "191/191 [==============================] - 6s 29ms/step - loss: 23597854720.0000 - root_mean_squared_error: 153615.9375 - mean_absolute_error: 136062.4219 - val_loss: 46938021888.0000 - val_root_mean_squared_error: 216651.8438 - val_mean_absolute_error: 197832.4062\n",
      "Epoch 95/100\n",
      "191/191 [==============================] - 6s 30ms/step - loss: 23195338752.0000 - root_mean_squared_error: 152300.1562 - mean_absolute_error: 134854.2969 - val_loss: 18077214720.0000 - val_root_mean_squared_error: 134451.5312 - val_mean_absolute_error: 114479.7969\n",
      "Epoch 96/100\n",
      "191/191 [==============================] - 6s 29ms/step - loss: 22682724352.0000 - root_mean_squared_error: 150607.8438 - mean_absolute_error: 133383.6250 - val_loss: 40483016704.0000 - val_root_mean_squared_error: 201203.9219 - val_mean_absolute_error: 175499.1562\n",
      "Epoch 97/100\n",
      "191/191 [==============================] - 6s 30ms/step - loss: 22331226112.0000 - root_mean_squared_error: 149436.3594 - mean_absolute_error: 132084.0312 - val_loss: 49595338752.0000 - val_root_mean_squared_error: 222700.1094 - val_mean_absolute_error: 206146.8750\n",
      "Epoch 98/100\n",
      "191/191 [==============================] - 6s 30ms/step - loss: 21840193536.0000 - root_mean_squared_error: 147784.2812 - mean_absolute_error: 130724.3125 - val_loss: 21411346432.0000 - val_root_mean_squared_error: 146326.1719 - val_mean_absolute_error: 128520.5078\n",
      "Epoch 99/100\n",
      "191/191 [==============================] - 6s 29ms/step - loss: 21362010112.0000 - root_mean_squared_error: 146157.4844 - mean_absolute_error: 129312.6094 - val_loss: 35821309952.0000 - val_root_mean_squared_error: 189265.1875 - val_mean_absolute_error: 173085.2188\n",
      "Epoch 100/100\n",
      "191/191 [==============================] - 6s 30ms/step - loss: 21041106944.0000 - root_mean_squared_error: 145055.5156 - mean_absolute_error: 128120.4531 - val_loss: 15888834560.0000 - val_root_mean_squared_error: 126050.9219 - val_mean_absolute_error: 106556.2500\n"
     ]
    }
   ],
   "source": [
    "history = model0001.fit(x=x_train,  \n",
    "                    y=y_train, \n",
    "                    batch_size=BATCH_SIZE, \n",
    "                    epochs=EPOCHS,      \n",
    "                    verbose='auto', \n",
    "                    callbacks=[tf.keras.callbacks.\\\n",
    "                               EarlyStopping(monitor='val_loss',\n",
    "                                             patience=PATIENCE,\n",
    "                                             min_delta=PATIENCE_MIN_DELTA,\n",
    "                                             restore_best_weights=True),\n",
    "                            tensorboard_callback], \n",
    "                    validation_split=0.3, \n",
    "                    validation_data=None, \n",
    "                    shuffle=True,\n",
    "                    class_weight=None, \n",
    "                    sample_weight=None, \n",
    "                    initial_epoch=0, \n",
    "                    steps_per_epoch=None, \n",
    "                    validation_steps=None, \n",
    "                    validation_batch_size=10, \n",
    "                    validation_freq=1, \n",
    "                    max_queue_size=10, \n",
    "                    workers=5, \n",
    "                    use_multiprocessing=True)"
   ]
  },
  {
   "cell_type": "code",
   "execution_count": 26,
   "id": "b9c48dbe",
   "metadata": {},
   "outputs": [],
   "source": [
    "hy = pd.DataFrame(history.history)"
   ]
  },
  {
   "cell_type": "code",
   "execution_count": 27,
   "id": "d02d00aa",
   "metadata": {},
   "outputs": [
    {
     "data": {
      "text/plain": [
       "<AxesSubplot:>"
      ]
     },
     "execution_count": 27,
     "metadata": {},
     "output_type": "execute_result"
    },
    {
     "data": {
      "image/png": "[encoded data removed]",
      "text/plain": [
       "<Figure size 432x288 with 1 Axes>"
      ]
     },
     "metadata": {
      "needs_background": "light"
     },
     "output_type": "display_data"
    }
   ],
   "source": [
    "hy[['root_mean_squared_error','val_root_mean_squared_error']].plot()"
   ]
  },
  {
   "cell_type": "code",
   "execution_count": 28,
   "id": "edd259b4",
   "metadata": {},
   "outputs": [
    {
     "name": "stderr",
     "output_type": "stream",
     "text": [
      "2022-01-10 08:47:15.762442: W tensorflow/python/util/util.cc:348] Sets are not currently considered sequences, but this may change in the future, so consider avoiding using them.\n"
     ]
    },
    {
     "name": "stdout",
     "output_type": "stream",
     "text": [
      "INFO:tensorflow:Assets written to: 2022-01-10_02-46_exported_ca_housing_model/assets\n"
     ]
    }
   ],
   "source": [
    "model0001.save('2022-01-10_02-46_exported_ca_housing_model')"
   ]
  },
  {
   "cell_type": "code",
   "execution_count": 29,
   "id": "7bc0e3f8",
   "metadata": {},
   "outputs": [
    {
     "data": {
      "text/plain": [
       "val_root_mean_squared_error    90564.664062\n",
       "dtype: float64"
      ]
     },
     "execution_count": 29,
     "metadata": {},
     "output_type": "execute_result"
    }
   ],
   "source": [
    "hy[['val_root_mean_squared_error']].min()"
   ]
  },
  {
   "cell_type": "code",
   "execution_count": 30,
   "id": "aa42bd49",
   "metadata": {},
   "outputs": [
    {
     "data": {
      "text/plain": [
       "val_root_mean_squared_error    277948.59375\n",
       "dtype: float64"
      ]
     },
     "execution_count": 30,
     "metadata": {},
     "output_type": "execute_result"
    }
   ],
   "source": [
    "hy[['val_root_mean_squared_error']].max()"
   ]
  },
  {
   "cell_type": "code",
   "execution_count": 28,
   "id": "56e73318",
   "metadata": {},
   "outputs": [],
   "source": [
    "# Obviously this not a good run, overfitting, training data needs preprocessing, neural network. \n",
    "# architecture does not fit this specific problem, and several hyperparameters are way off,\n",
    "# but ths does demonstrate the API aand syntax.\n",
    "# I will post a better examle run later."
   ]
  }
 ],
 "metadata": {
  "kernelspec": {
   "display_name": "Python 3 (ipykernel)",
   "language": "python",
   "name": "python3"
  },
  "language_info": {
   "codemirror_mode": {
    "name": "ipython",
    "version": 3
   },
   "file_extension": ".py",
   "mimetype": "text/x-python",
   "name": "python",
   "nbconvert_exporter": "python",
   "pygments_lexer": "ipython3",
   "version": "3.8.10"
  }
 },
 "nbformat": 4,
 "nbformat_minor": 5
}
