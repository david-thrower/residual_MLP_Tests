{
 "cells": [
  {
   "cell_type": "markdown",
   "id": "9cc2d5a9",
   "metadata": {},
   "source": [
    "# A simple demo of the residualmlp python package\n",
    "## This is a regression case pure resudual multi layer perceptron with no base model. \n",
    "\n",
    "1. Purpose:\n",
    "    1. This is a simple demo of the residualmlp python package that generates resisual_mlp models.\n",
    "2. Please note:\n",
    "    1. This version of the demo neither demonstrates an optimal neural network architecture nor does any preprocessing on the data, even though doing so would boost the performance of the model.This demo sumply demonstrates how to use the API and the syntax.\n",
    "    2. For a more complete example, see the demo for the tandem EfficientNetB7->residualMLP model discussed in the readme.md."
   ]
  },
  {
   "cell_type": "code",
   "execution_count": 1,
   "id": "3d647318",
   "metadata": {},
   "outputs": [
    {
     "name": "stdout",
     "output_type": "stream",
     "text": [
      "\u001b[31mERROR: Could not find a version that satisfies the requirement upgrade (from versions: none)\u001b[0m\n",
      "\u001b[31mERROR: No matching distribution found for upgrade\u001b[0m\n",
      "\u001b[33mWARNING: You are using pip version 21.2.4; however, version 21.3.1 is available.\n",
      "You should consider upgrading via the '/usr/bin/python -m pip install --upgrade pip' command.\u001b[0m\n",
      "Collecting matplotlib\n",
      "  Downloading matplotlib-3.5.1-cp38-cp38-manylinux_2_5_x86_64.manylinux1_x86_64.whl (11.3 MB)\n",
      "\u001b[K     |████████████████████████████████| 11.3 MB 16.6 MB/s eta 0:00:01\n",
      "\u001b[?25hCollecting pillow>=6.2.0\n",
      "  Downloading Pillow-9.0.0-cp38-cp38-manylinux_2_17_x86_64.manylinux2014_x86_64.whl (4.3 MB)\n",
      "\u001b[K     |████████████████████████████████| 4.3 MB 29.0 MB/s eta 0:00:01\n",
      "\u001b[?25hRequirement already satisfied: packaging>=20.0 in /usr/local/lib/python3.8/dist-packages (from matplotlib) (21.0)\n",
      "Collecting cycler>=0.10\n",
      "  Downloading cycler-0.11.0-py3-none-any.whl (6.4 kB)\n",
      "Requirement already satisfied: python-dateutil>=2.7 in /usr/local/lib/python3.8/dist-packages (from matplotlib) (2.8.2)\n",
      "Collecting kiwisolver>=1.0.1\n",
      "  Downloading kiwisolver-1.3.2-cp38-cp38-manylinux_2_5_x86_64.manylinux1_x86_64.whl (1.2 MB)\n",
      "\u001b[K     |████████████████████████████████| 1.2 MB 27.9 MB/s eta 0:00:01\n",
      "\u001b[?25hRequirement already satisfied: numpy>=1.17 in /usr/local/lib/python3.8/dist-packages (from matplotlib) (1.19.4)\n",
      "Requirement already satisfied: pyparsing>=2.2.1 in /usr/local/lib/python3.8/dist-packages (from matplotlib) (2.4.7)\n",
      "Collecting fonttools>=4.22.0\n",
      "  Downloading fonttools-4.28.5-py3-none-any.whl (890 kB)\n",
      "\u001b[K     |████████████████████████████████| 890 kB 37.3 MB/s eta 0:00:01\n",
      "\u001b[?25hRequirement already satisfied: six>=1.5 in /usr/local/lib/python3.8/dist-packages (from python-dateutil>=2.7->matplotlib) (1.15.0)\n",
      "Installing collected packages: pillow, kiwisolver, fonttools, cycler, matplotlib\n",
      "Successfully installed cycler-0.11.0 fonttools-4.28.5 kiwisolver-1.3.2 matplotlib-3.5.1 pillow-9.0.0\n",
      "\u001b[33mWARNING: Running pip as the 'root' user can result in broken permissions and conflicting behaviour with the system package manager. It is recommended to use a virtual environment instead: https://pip.pypa.io/warnings/venv\u001b[0m\n",
      "\u001b[33mWARNING: You are using pip version 21.2.4; however, version 21.3.1 is available.\n",
      "You should consider upgrading via the '/usr/bin/python -m pip install --upgrade pip' command.\u001b[0m\n",
      "Collecting pandas\n",
      "  Downloading pandas-1.3.5-cp38-cp38-manylinux_2_17_x86_64.manylinux2014_x86_64.whl (11.5 MB)\n",
      "\u001b[K     |████████████████████████████████| 11.5 MB 20.4 MB/s eta 0:00:01    |███████████████████             | 6.8 MB 20.4 MB/s eta 0:00:01\n",
      "\u001b[?25hRequirement already satisfied: python-dateutil>=2.7.3 in /usr/local/lib/python3.8/dist-packages (from pandas) (2.8.2)\n",
      "Requirement already satisfied: numpy>=1.17.3 in /usr/local/lib/python3.8/dist-packages (from pandas) (1.19.4)\n",
      "Requirement already satisfied: pytz>=2017.3 in /usr/local/lib/python3.8/dist-packages (from pandas) (2021.1)\n",
      "Requirement already satisfied: six>=1.5 in /usr/local/lib/python3.8/dist-packages (from python-dateutil>=2.7.3->pandas) (1.15.0)\n",
      "Installing collected packages: pandas\n",
      "Successfully installed pandas-1.3.5\n",
      "\u001b[33mWARNING: Running pip as the 'root' user can result in broken permissions and conflicting behaviour with the system package manager. It is recommended to use a virtual environment instead: https://pip.pypa.io/warnings/venv\u001b[0m\n",
      "\u001b[33mWARNING: You are using pip version 21.2.4; however, version 21.3.1 is available.\n",
      "You should consider upgrading via the '/usr/bin/python -m pip install --upgrade pip' command.\u001b[0m\n"
     ]
    }
   ],
   "source": [
    "# Install anything missing\n",
    "!python -m pip install upgrade pip\n",
    "!pip3 install matplotlib\n",
    "!pip3 install pandas"
   ]
  },
  {
   "cell_type": "code",
   "execution_count": 2,
   "id": "e54daa1c",
   "metadata": {},
   "outputs": [],
   "source": [
    "# Import what we need ...\n",
    "import os\n",
    "import numpy as np\n",
    "import matplotlib.pyplot as plt\n",
    "import pandas as pd\n",
    "import tensorflow as tf\n",
    "from residualmlp.residual_mlp import ResidualMLP"
   ]
  },
  {
   "cell_type": "code",
   "execution_count": 3,
   "id": "cbc7503c",
   "metadata": {},
   "outputs": [],
   "source": [
    "# Read the California housing data. \n",
    "df = pd.read_csv(\"https://storage.googleapis.com/ml_universities/california_housing_train.csv\", sep=\",\")"
   ]
  },
  {
   "cell_type": "code",
   "execution_count": 4,
   "id": "72fc239f",
   "metadata": {},
   "outputs": [
    {
     "name": "stdout",
     "output_type": "stream",
     "text": [
      "<class 'pandas.core.frame.DataFrame'>\n",
      "RangeIndex: 17000 entries, 0 to 16999\n",
      "Data columns (total 9 columns):\n",
      " #   Column              Non-Null Count  Dtype  \n",
      "---  ------              --------------  -----  \n",
      " 0   longitude           17000 non-null  float64\n",
      " 1   latitude            17000 non-null  float64\n",
      " 2   housing_median_age  17000 non-null  float64\n",
      " 3   total_rooms         17000 non-null  float64\n",
      " 4   total_bedrooms      17000 non-null  float64\n",
      " 5   population          17000 non-null  float64\n",
      " 6   households          17000 non-null  float64\n",
      " 7   median_income       17000 non-null  float64\n",
      " 8   median_house_value  17000 non-null  float64\n",
      "dtypes: float64(9)\n",
      "memory usage: 1.2 MB\n"
     ]
    }
   ],
   "source": [
    "# Let's see what this looks like.\n",
    "# In the real world, data would never be this clean... \n",
    "df.info()"
   ]
  },
  {
   "cell_type": "code",
   "execution_count": 5,
   "id": "842d8cf9",
   "metadata": {},
   "outputs": [],
   "source": [
    "# In a use-worthy model, we would bucketize and cross the lattitude and longitude.\n",
    "# and probably bucketize several of the continuous variables\n",
    "# Here we are just doing a simple example to demo how to work our API"
   ]
  },
  {
   "cell_type": "code",
   "execution_count": 6,
   "id": "67038a63",
   "metadata": {},
   "outputs": [
    {
     "data": {
      "text/html": [
       "<div>\n",
       "<style scoped>\n",
       "    .dataframe tbody tr th:only-of-type {\n",
       "        vertical-align: middle;\n",
       "    }\n",
       "\n",
       "    .dataframe tbody tr th {\n",
       "        vertical-align: top;\n",
       "    }\n",
       "\n",
       "    .dataframe thead th {\n",
       "        text-align: right;\n",
       "    }\n",
       "</style>\n",
       "<table border=\"1\" class=\"dataframe\">\n",
       "  <thead>\n",
       "    <tr style=\"text-align: right;\">\n",
       "      <th></th>\n",
       "      <th>longitude</th>\n",
       "      <th>latitude</th>\n",
       "      <th>housing_median_age</th>\n",
       "      <th>total_rooms</th>\n",
       "      <th>total_bedrooms</th>\n",
       "      <th>population</th>\n",
       "      <th>households</th>\n",
       "      <th>median_income</th>\n",
       "      <th>median_house_value</th>\n",
       "    </tr>\n",
       "  </thead>\n",
       "  <tbody>\n",
       "    <tr>\n",
       "      <th>1</th>\n",
       "      <td>-114.47</td>\n",
       "      <td>34.40</td>\n",
       "      <td>19.0</td>\n",
       "      <td>7650.0</td>\n",
       "      <td>1901.0</td>\n",
       "      <td>1129.0</td>\n",
       "      <td>463.0</td>\n",
       "      <td>1.8200</td>\n",
       "      <td>80100.0</td>\n",
       "    </tr>\n",
       "    <tr>\n",
       "      <th>2</th>\n",
       "      <td>-114.56</td>\n",
       "      <td>33.69</td>\n",
       "      <td>17.0</td>\n",
       "      <td>720.0</td>\n",
       "      <td>174.0</td>\n",
       "      <td>333.0</td>\n",
       "      <td>117.0</td>\n",
       "      <td>1.6509</td>\n",
       "      <td>85700.0</td>\n",
       "    </tr>\n",
       "    <tr>\n",
       "      <th>3</th>\n",
       "      <td>-114.57</td>\n",
       "      <td>33.64</td>\n",
       "      <td>14.0</td>\n",
       "      <td>1501.0</td>\n",
       "      <td>337.0</td>\n",
       "      <td>515.0</td>\n",
       "      <td>226.0</td>\n",
       "      <td>3.1917</td>\n",
       "      <td>73400.0</td>\n",
       "    </tr>\n",
       "    <tr>\n",
       "      <th>4</th>\n",
       "      <td>-114.57</td>\n",
       "      <td>33.57</td>\n",
       "      <td>20.0</td>\n",
       "      <td>1454.0</td>\n",
       "      <td>326.0</td>\n",
       "      <td>624.0</td>\n",
       "      <td>262.0</td>\n",
       "      <td>1.9250</td>\n",
       "      <td>65500.0</td>\n",
       "    </tr>\n",
       "    <tr>\n",
       "      <th>5</th>\n",
       "      <td>-114.58</td>\n",
       "      <td>33.63</td>\n",
       "      <td>29.0</td>\n",
       "      <td>1387.0</td>\n",
       "      <td>236.0</td>\n",
       "      <td>671.0</td>\n",
       "      <td>239.0</td>\n",
       "      <td>3.3438</td>\n",
       "      <td>74000.0</td>\n",
       "    </tr>\n",
       "  </tbody>\n",
       "</table>\n",
       "</div>"
      ],
      "text/plain": [
       "   longitude  latitude  housing_median_age  total_rooms  total_bedrooms  \\\n",
       "1    -114.47     34.40                19.0       7650.0          1901.0   \n",
       "2    -114.56     33.69                17.0        720.0           174.0   \n",
       "3    -114.57     33.64                14.0       1501.0           337.0   \n",
       "4    -114.57     33.57                20.0       1454.0           326.0   \n",
       "5    -114.58     33.63                29.0       1387.0           236.0   \n",
       "\n",
       "   population  households  median_income  median_house_value  \n",
       "1      1129.0       463.0         1.8200             80100.0  \n",
       "2       333.0       117.0         1.6509             85700.0  \n",
       "3       515.0       226.0         3.1917             73400.0  \n",
       "4       624.0       262.0         1.9250             65500.0  \n",
       "5       671.0       239.0         3.3438             74000.0  "
      ]
     },
     "execution_count": 6,
     "metadata": {},
     "output_type": "execute_result"
    }
   ],
   "source": [
    "# pseudo quasi random numbers between 0 and 1. \n",
    "# ~ 80% of them should be below .8 \n",
    "msk = np.random.rand(len(df)) < 0.8\n",
    "traindf = df[msk]\n",
    "evaldf = df[~msk]\n",
    "traindf.head()"
   ]
  },
  {
   "cell_type": "code",
   "execution_count": 7,
   "id": "06af295d",
   "metadata": {},
   "outputs": [],
   "source": [
    "# Pull label from df\n",
    "y_train = traindf.pop('median_house_value')"
   ]
  },
  {
   "cell_type": "code",
   "execution_count": 8,
   "id": "7fe65df2",
   "metadata": {},
   "outputs": [],
   "source": [
    "# Convert label to a numpy array\n",
    "y_train = y_train.to_numpy()"
   ]
  },
  {
   "cell_type": "code",
   "execution_count": 9,
   "id": "e3875246",
   "metadata": {},
   "outputs": [],
   "source": [
    "# Pull label from df\n",
    "y_eval = evaldf.pop('median_house_value')"
   ]
  },
  {
   "cell_type": "code",
   "execution_count": 10,
   "id": "b58ec6c8",
   "metadata": {},
   "outputs": [],
   "source": [
    "# Convert label to a numpy array\n",
    "y_eval = y_eval.to_numpy()"
   ]
  },
  {
   "cell_type": "code",
   "execution_count": 11,
   "id": "c51dc0db",
   "metadata": {},
   "outputs": [],
   "source": [
    "# Convert data - the features to a numpy array\n",
    "x_train = traindf.to_numpy()"
   ]
  },
  {
   "cell_type": "code",
   "execution_count": 12,
   "id": "7bf99abc",
   "metadata": {},
   "outputs": [],
   "source": [
    "# Convert data - the features to a numpy array\n",
    "x_eval = evaldf.to_numpy()"
   ]
  },
  {
   "cell_type": "markdown",
   "id": "7417b38a",
   "metadata": {},
   "source": [
    "## Here we build our model: \n",
    "### We start by setting the hyperparameters:\n",
    "\n",
    "1. LEARNING_RATE / learning_rate: The learning rate for the optimizer.\n",
    "2. INPUT_SHAPE, input_shape: The input shape for the model as a whole, In other words, the shape of one observation in your data. In our case, each observation has 9 columns. One was removed as the label, so 8 columns, so shape is 8.\n",
    "3. BASE_MODEL / base_model: If you were building a tandem model, starting with a pre-trained base model and passing the output of that model to the residual MLP we are building, then you would pass in that keras model object (e.g. and EfficientNetB7 model.). In the case of this demo, we are not doing this. We are passing our data and labels straight into a residual MLP, so base_model will be set to empty string '':\n",
    "4. BASE_MODEL_INPUT_SHAPE / base_model_input_shape: If you are using a base model with a different input shape than your data, you would enter the input shape for the base model, and the model built by make_model() would include a rescaling layer before between your input layer and your base model. For example, if you have training / test images of shape (32,32,3) and were using EfficientNet, pretrained on imagenet from keras applications having an input shape of (600,600,3), as your base_model, you would set the parameter 'base_model_input_shape' to (600,600,3).\n",
    "5. Flatten: Whether or not to put a Flatten layer before your data passes into the residual multi layer perceptron being built. This is usually set to True if you have a Conv2d layer as the last layer of your base model or otherwise have any data that will pass to your residualMLP model that is not a rank 1 tensor. Settign it to true will coerce the data being fed into your residualMLP model to a rank tensor. If you are building a tandem ConvolutionalNeuraNetworkModel->residualMLP model, this must be set to true, or the shape will raise an exception at the Concat layer(s) in the residualMLP model being built. Here, each observation is a rank 1 tensor, and it is going straight into our model with no upstream operation that will change its rank, so there is nothing to flatten. Flatten is set to False.\n",
    "6. BLOCKS / blocks: A 2d array. Each ith nested array will create a residualMLP block. See the image in readme.md for a visual of this. In each ith nested arry, you will find 3 positive integers (except l which can be positive or may be 0): j,k,l (from left to right). The positive integer j on the left of each nested array gives you control of how many Dense layers that this block will consist of. The second positive integer, k sets the number of Dense units in the first layer of the block. The third [0 or positive integer] l is how many LESS Dense units each succesive layer in the block will consist of than its predecessor. There is one additional obvious rule that the product of the first and third numbers, j and l must be < k, the second number, otherwise, you are asking the API to add some layer(s) with O Dense units or a negative number of Dense units. This will of course raise an exception and make you feel as embarassed as I did the first time I did this 😳. As a reminder, you must be concious of this when trying to run an auto-ml algorithym or running a gridsearch over permutations of these hyperparameters. A try .. except ... or better yet, a pre-screening of these permutations will be needed.\n",
    "7. RESIDUAL_BYPASS_DENSE_LAYERS / residual_bypass_dense_layers: If you want to include (a) Dense layer(s) in the residual bypass tensor, you would set this to a 2d array as we did below [[3],[3]], this will place a Dense layer with 3 units in the residual bypass of Block 1 and will place another Dense layer with 3 units in the resisual bypass of block 2. By default this is empty string \"\". If you set this, there must be a nested list for each blcok and may eb as many numbers in each blcok as your isel model architecture will have. Each ith nested 1d array would control the Dense layers in the residual bypass for the ith residual block. One layer will be inserted for each positive integer in the nested list and each layer will have the number of units as the integer.  If this is left as the default of '', then there will be no blocks in the residual bypass. You may add layers to one blocks's bypass and not the other like this: [[],[5]] See the image on readme.md. For this to make sense, please see the image on readme.md.The residual bypass is the through the network in yellow nodes on the right.).\n",
    "8. B_NORM_OR_DROPOUT_RESIDUAL_BYPASS_LAYERS / b_norm_or_dropout_residual_bypass_layers: You may insert BatchNormalization or dropout layers after each layer of the residual bypass. Options: Default \"dropout\" | \"bnorm\".\n",
    "9. DROPOUT_RATE_FOR_BYPASS_LAYERS / dropout_rate_for_bypass_layers: The global dropout rate for the dropout laters in the RESIDUAL BYPASSES (ignored if B_NORM_OR_DROPOUT_RESIDUAL_BYPASS_LAYERS is set to 'bnorm'). This usually performs best as dropout and often with a higher DROPOUT_RATE_FOR_BYPASS_LAYERS (e.g. 25%).\n",
    "10. B_NORM_OR_DROPOUT_LAST_LAYERS / b_norm_or_dropout_last_layers: After all last residual block, the hyperparameter FINAL_DENSE_LAYERS allows you to add a series (or just one) Dense layer(s). The hyperparameter b_norm_or_dropout_last_layers controls whether there will be a Dropout or BatchNormalization layer after each of these layer(s). This defaults to 'dropout' but can be set to 'bnorm'. It seems that about 60% of the time, dropout with the right dropout_rate will perform best, but be advised that these layers are more apt to internal covariate shift than the residual bypass layers. You amy want to experiment with both.  \n",
    "11. DROPOUT_RATE / dropout_rate: The dropout rate for the dropout layers after each final Dense layer inserted after the last residualMLP block by the parameter   \n",
    "12. FINAL_DENSE_LAYERS / final_dense_layers: A 1d array of positive integers: Each ith positive integer will insert a Dense layer after the last ResidualMLP block.\n",
    "13. NUMBER_OF_CLASSES = how many Dense units the final layer of the network should consist of / also the number of classes in your labels. For example, a simple linear regression model would have this parameter set to 1. So would a binary logistic regression problem. For a multi - class - classification problem, it would be the number of classes, eg 10 for a classification problem where there are 10 possible classes.\n",
    "14. FINAL_ACTIVATION - The activatinn fucntion e.g. tf.keras.activations.sigmoid - [no parentheses after it]. It defaults to tf.keras.activations.softmax. Since we are doing simple linear regression, the activation is None.\n",
    "15. LOSS - The loss that is appropriate for your problem. Here we are doign simpel linear regression, so the default chice is f.keras.losses.MeanSquaredError(), but tf.keras.losses.Huber() and tf.keras.losses.MeanAbsoluteError() are fair game. The default is: tf.keras.losses.CategoricalCrossentropy(from_logits=False), but that doesn't help us with this problem ... so we set it to None."
   ]
  },
  {
   "cell_type": "code",
   "execution_count": 13,
   "id": "a387fa37",
   "metadata": {},
   "outputs": [],
   "source": [
    "# Set the hyperparameters for the  \n",
    "\n",
    "PROBLEM_TYPE = 'regression'\n",
    "LEARNING_RATE = 0.007\n",
    "INPUT_SHAPE = 8\n",
    "BASE_MODEL = ''\n",
    "BASE_MODEL_INPUT_SHAPE = None\n",
    "FLATTEN = False\n",
    "BLOCKS = [[5,12,2],[5,12,2]]\n",
    "RESIDUAL_BYPASS_DENSE_LAYERS = [[3],[3]]\n",
    "B_NORM_OR_DROPOUT_RESIDUAL_BYPASS_LAYERS = 'bnorm'\n",
    "DROPOUT_RATE_FOR_BYPASS_LAYERS = 0.0\n",
    "B_NORM_OR_DROPOUT_LAST_LAYERS = 'bnorm'\n",
    "DROPOUT_RATE = 0.0\n",
    "FINAL_DENSE_LAYERS = [4,4]\n",
    "NUMBER_OF_CLASSES = 1\n",
    "FINAL_ACTIVATION = None\n",
    "LOSS = tf.keras.losses.MeanSquaredError()"
   ]
  },
  {
   "cell_type": "code",
   "execution_count": 14,
   "id": "a0aee21e",
   "metadata": {},
   "outputs": [
    {
     "name": "stderr",
     "output_type": "stream",
     "text": [
      "2022-01-12 00:37:30.485616: I tensorflow/stream_executor/cuda/cuda_gpu_executor.cc:1050] successful NUMA node read from SysFS had negative value (-1), but there must be at least one NUMA node, so returning NUMA node zero\n",
      "2022-01-12 00:37:30.499924: I tensorflow/stream_executor/cuda/cuda_gpu_executor.cc:1050] successful NUMA node read from SysFS had negative value (-1), but there must be at least one NUMA node, so returning NUMA node zero\n",
      "2022-01-12 00:37:30.500868: I tensorflow/stream_executor/cuda/cuda_gpu_executor.cc:1050] successful NUMA node read from SysFS had negative value (-1), but there must be at least one NUMA node, so returning NUMA node zero\n",
      "2022-01-12 00:37:30.503844: I tensorflow/stream_executor/cuda/cuda_gpu_executor.cc:1050] successful NUMA node read from SysFS had negative value (-1), but there must be at least one NUMA node, so returning NUMA node zero\n",
      "2022-01-12 00:37:30.504740: I tensorflow/stream_executor/cuda/cuda_gpu_executor.cc:1050] successful NUMA node read from SysFS had negative value (-1), but there must be at least one NUMA node, so returning NUMA node zero\n",
      "2022-01-12 00:37:30.505652: I tensorflow/stream_executor/cuda/cuda_gpu_executor.cc:1050] successful NUMA node read from SysFS had negative value (-1), but there must be at least one NUMA node, so returning NUMA node zero\n",
      "2022-01-12 00:37:31.329070: I tensorflow/stream_executor/cuda/cuda_gpu_executor.cc:1050] successful NUMA node read from SysFS had negative value (-1), but there must be at least one NUMA node, so returning NUMA node zero\n",
      "2022-01-12 00:37:31.329834: I tensorflow/stream_executor/cuda/cuda_gpu_executor.cc:1050] successful NUMA node read from SysFS had negative value (-1), but there must be at least one NUMA node, so returning NUMA node zero\n",
      "2022-01-12 00:37:31.330434: I tensorflow/stream_executor/cuda/cuda_gpu_executor.cc:1050] successful NUMA node read from SysFS had negative value (-1), but there must be at least one NUMA node, so returning NUMA node zero\n",
      "2022-01-12 00:37:31.330975: I tensorflow/core/common_runtime/gpu/gpu_device.cc:1510] Created device /job:localhost/replica:0/task:0/device:GPU:0 with 7261 MB memory:  -> device: 0, name: Quadro P4000, pci bus id: 0000:00:05.0, compute capability: 6.1\n"
     ]
    }
   ],
   "source": [
    "res_mlp = ResidualMLP(problem_type = PROBLEM_TYPE,\n",
    "                      learning_rate=LEARNING_RATE,\n",
    "                      input_shape = INPUT_SHAPE,  \n",
    "                      base_model= BASE_MODEL,\n",
    "                      base_model_input_shape = BASE_MODEL_INPUT_SHAPE,\n",
    "                      flatten_after_base_model = FLATTEN,\n",
    "                      blocks = BLOCKS,\n",
    "                      residual_bypass_dense_layers = RESIDUAL_BYPASS_DENSE_LAYERS,\n",
    "                      b_norm_or_dropout_residual_bypass_layers=B_NORM_OR_DROPOUT_RESIDUAL_BYPASS_LAYERS,\n",
    "                      dropout_rate_for_bypass_layers=DROPOUT_RATE_FOR_BYPASS_LAYERS,\n",
    "                      b_norm_or_dropout_last_layers=B_NORM_OR_DROPOUT_LAST_LAYERS,\n",
    "                      dropout_rate=DROPOUT_RATE,\n",
    "                      final_dense_layers =\\\n",
    "                          FINAL_DENSE_LAYERS,\n",
    "                      number_of_classes = NUMBER_OF_CLASSES,\n",
    "                      final_activation = FINAL_ACTIVATION,\n",
    "                      loss = LOSS)\n",
    "model0001=\\\n",
    "    res_mlp.make_tandem_model()"
   ]
  },
  {
   "cell_type": "code",
   "execution_count": 15,
   "id": "c8f1df5c",
   "metadata": {},
   "outputs": [
    {
     "name": "stdout",
     "output_type": "stream",
     "text": [
      "Model: \"model\"\n",
      "__________________________________________________________________________________________________\n",
      "Layer (type)                    Output Shape         Param #     Connected to                     \n",
      "==================================================================================================\n",
      "input_1 (InputLayer)            [(None, 8)]          0                                            \n",
      "__________________________________________________________________________________________________\n",
      "dense (Dense)                   (None, 12)           108         input_1[0][0]                    \n",
      "__________________________________________________________________________________________________\n",
      "batch_normalization (BatchNorma (None, 12)           48          dense[0][0]                      \n",
      "__________________________________________________________________________________________________\n",
      "dense_2 (Dense)                 (None, 12)           156         batch_normalization[0][0]        \n",
      "__________________________________________________________________________________________________\n",
      "batch_normalization_3 (BatchNor (None, 12)           48          dense_2[0][0]                    \n",
      "__________________________________________________________________________________________________\n",
      "dense_3 (Dense)                 (None, 10)           130         batch_normalization_3[0][0]      \n",
      "__________________________________________________________________________________________________\n",
      "batch_normalization_4 (BatchNor (None, 10)           40          dense_3[0][0]                    \n",
      "__________________________________________________________________________________________________\n",
      "dense_4 (Dense)                 (None, 8)            88          batch_normalization_4[0][0]      \n",
      "__________________________________________________________________________________________________\n",
      "batch_normalization_5 (BatchNor (None, 8)            32          dense_4[0][0]                    \n",
      "__________________________________________________________________________________________________\n",
      "dense_5 (Dense)                 (None, 6)            54          batch_normalization_5[0][0]      \n",
      "__________________________________________________________________________________________________\n",
      "batch_normalization_6 (BatchNor (None, 6)            24          dense_5[0][0]                    \n",
      "__________________________________________________________________________________________________\n",
      "batch_normalization_1 (BatchNor (None, 12)           48          dense[0][0]                      \n",
      "__________________________________________________________________________________________________\n",
      "dense_6 (Dense)                 (None, 4)            28          batch_normalization_6[0][0]      \n",
      "__________________________________________________________________________________________________\n",
      "dense_1 (Dense)                 (None, 3)            39          batch_normalization_1[0][0]      \n",
      "__________________________________________________________________________________________________\n",
      "batch_normalization_7 (BatchNor (None, 4)            16          dense_6[0][0]                    \n",
      "__________________________________________________________________________________________________\n",
      "batch_normalization_2 (BatchNor (None, 3)            12          dense_1[0][0]                    \n",
      "__________________________________________________________________________________________________\n",
      "concatenate (Concatenate)       (None, 7)            0           batch_normalization_7[0][0]      \n",
      "                                                                 batch_normalization_2[0][0]      \n",
      "__________________________________________________________________________________________________\n",
      "dense_7 (Dense)                 (None, 2)            16          concatenate[0][0]                \n",
      "__________________________________________________________________________________________________\n",
      "batch_normalization_8 (BatchNor (None, 2)            8           dense_7[0][0]                    \n",
      "__________________________________________________________________________________________________\n",
      "dense_8 (Dense)                 (None, 12)           36          batch_normalization_8[0][0]      \n",
      "__________________________________________________________________________________________________\n",
      "batch_normalization_9 (BatchNor (None, 12)           48          dense_8[0][0]                    \n",
      "__________________________________________________________________________________________________\n",
      "dense_10 (Dense)                (None, 12)           156         batch_normalization_9[0][0]      \n",
      "__________________________________________________________________________________________________\n",
      "batch_normalization_12 (BatchNo (None, 12)           48          dense_10[0][0]                   \n",
      "__________________________________________________________________________________________________\n",
      "dense_11 (Dense)                (None, 10)           130         batch_normalization_12[0][0]     \n",
      "__________________________________________________________________________________________________\n",
      "batch_normalization_13 (BatchNo (None, 10)           40          dense_11[0][0]                   \n",
      "__________________________________________________________________________________________________\n",
      "dense_12 (Dense)                (None, 8)            88          batch_normalization_13[0][0]     \n",
      "__________________________________________________________________________________________________\n",
      "batch_normalization_14 (BatchNo (None, 8)            32          dense_12[0][0]                   \n",
      "__________________________________________________________________________________________________\n",
      "dense_13 (Dense)                (None, 6)            54          batch_normalization_14[0][0]     \n",
      "__________________________________________________________________________________________________\n",
      "batch_normalization_15 (BatchNo (None, 6)            24          dense_13[0][0]                   \n",
      "__________________________________________________________________________________________________\n",
      "batch_normalization_10 (BatchNo (None, 12)           48          dense_8[0][0]                    \n",
      "__________________________________________________________________________________________________\n",
      "dense_14 (Dense)                (None, 4)            28          batch_normalization_15[0][0]     \n",
      "__________________________________________________________________________________________________\n",
      "dense_9 (Dense)                 (None, 3)            39          batch_normalization_10[0][0]     \n",
      "__________________________________________________________________________________________________\n",
      "batch_normalization_16 (BatchNo (None, 4)            16          dense_14[0][0]                   \n",
      "__________________________________________________________________________________________________\n",
      "batch_normalization_11 (BatchNo (None, 3)            12          dense_9[0][0]                    \n",
      "__________________________________________________________________________________________________\n",
      "concatenate_1 (Concatenate)     (None, 7)            0           batch_normalization_16[0][0]     \n",
      "                                                                 batch_normalization_11[0][0]     \n",
      "__________________________________________________________________________________________________\n",
      "dense_15 (Dense)                (None, 2)            16          concatenate_1[0][0]              \n",
      "__________________________________________________________________________________________________\n",
      "batch_normalization_17 (BatchNo (None, 2)            8           dense_15[0][0]                   \n",
      "__________________________________________________________________________________________________\n",
      "dense_16 (Dense)                (None, 4)            12          batch_normalization_17[0][0]     \n",
      "__________________________________________________________________________________________________\n",
      "batch_normalization_18 (BatchNo (None, 4)            16          dense_16[0][0]                   \n",
      "__________________________________________________________________________________________________\n",
      "dense_17 (Dense)                (None, 4)            20          batch_normalization_18[0][0]     \n",
      "__________________________________________________________________________________________________\n",
      "batch_normalization_19 (BatchNo (None, 4)            16          dense_17[0][0]                   \n",
      "__________________________________________________________________________________________________\n",
      "dense_18 (Dense)                (None, 1)            5           batch_normalization_19[0][0]     \n",
      "==================================================================================================\n",
      "Total params: 1,787\n",
      "Trainable params: 1,495\n",
      "Non-trainable params: 292\n",
      "__________________________________________________________________________________________________\n"
     ]
    }
   ],
   "source": [
    "model0001.summary()"
   ]
  },
  {
   "cell_type": "code",
   "execution_count": 16,
   "id": "205e396f",
   "metadata": {},
   "outputs": [],
   "source": [
    "BATCH_SIZE = 50\n",
    "EPOCHS = 100\n",
    "PATIENCE = 15\n",
    "PATIENCE_MIN_DELTA = .005"
   ]
  },
  {
   "cell_type": "code",
   "execution_count": 17,
   "id": "0dcd1a2a",
   "metadata": {},
   "outputs": [
    {
     "name": "stderr",
     "output_type": "stream",
     "text": [
      "2022-01-12 01:04:45.493923: I tensorflow/core/profiler/lib/profiler_session.cc:131] Profiler session initializing.\n",
      "2022-01-12 01:04:45.493970: I tensorflow/core/profiler/lib/profiler_session.cc:146] Profiler session started.\n",
      "2022-01-12 01:04:45.495403: I tensorflow/core/profiler/internal/gpu/cupti_tracer.cc:1614] Profiler found 1 GPUs\n",
      "2022-01-12 01:04:45.782250: I tensorflow/core/profiler/lib/profiler_session.cc:164] Profiler session tear down.\n",
      "2022-01-12 01:04:45.782591: I tensorflow/core/profiler/internal/gpu/cupti_tracer.cc:1749] CUPTI activity buffer flushed\n"
     ]
    }
   ],
   "source": [
    "logdir = os.path.join(\"2022-01-10_21-27_logs\", 'results')\n",
    "tensorboard_callback = tf.keras.callbacks.TensorBoard(logdir, \n",
    "                                                      histogram_freq=1)"
   ]
  },
  {
   "cell_type": "code",
   "execution_count": 18,
   "id": "39d75778",
   "metadata": {},
   "outputs": [
    {
     "name": "stderr",
     "output_type": "stream",
     "text": [
      "2022-01-12 01:04:52.526404: I tensorflow/compiler/mlir/mlir_graph_optimization_pass.cc:185] None of the MLIR Optimization Passes are enabled (registered 2)\n"
     ]
    },
    {
     "name": "stdout",
     "output_type": "stream",
     "text": [
      "Epoch 1/100\n",
      "  1/191 [..............................] - ETA: 21:42 - loss: 64524804096.0000 - root_mean_squared_error: 254017.3281 - mean_absolute_error: 219050.0938"
     ]
    },
    {
     "name": "stderr",
     "output_type": "stream",
     "text": [
      "2022-01-12 01:04:59.644254: I tensorflow/core/profiler/lib/profiler_session.cc:131] Profiler session initializing.\n",
      "2022-01-12 01:04:59.644324: I tensorflow/core/profiler/lib/profiler_session.cc:146] Profiler session started.\n"
     ]
    },
    {
     "name": "stdout",
     "output_type": "stream",
     "text": [
      "  2/191 [..............................] - ETA: 1:48 - loss: 57553252352.0000 - root_mean_squared_error: 239902.5781 - mean_absolute_error: 208876.0781 "
     ]
    },
    {
     "name": "stderr",
     "output_type": "stream",
     "text": [
      "2022-01-12 01:04:59.975391: I tensorflow/core/profiler/lib/profiler_session.cc:66] Profiler session collecting data.\n",
      "2022-01-12 01:04:59.975916: I tensorflow/core/profiler/internal/gpu/cupti_tracer.cc:1749] CUPTI activity buffer flushed\n",
      "2022-01-12 01:05:00.070808: I tensorflow/core/profiler/internal/gpu/cupti_collector.cc:673]  GpuTracer has collected 1676 callback api events and 1690 activity events. \n",
      "2022-01-12 01:05:00.119686: I tensorflow/core/profiler/lib/profiler_session.cc:164] Profiler session tear down.\n",
      "2022-01-12 01:05:00.232640: I tensorflow/core/profiler/rpc/client/save_profile.cc:136] Creating directory: 2022-01-10_21-27_logs/results/train/plugins/profile/2022_01_12_01_05_00\n",
      "\n",
      "2022-01-12 01:05:00.273397: I tensorflow/core/profiler/rpc/client/save_profile.cc:142] Dumped gzipped tool data for trace.json.gz to 2022-01-10_21-27_logs/results/train/plugins/profile/2022_01_12_01_05_00/nwwf2rtodh.trace.json.gz\n",
      "2022-01-12 01:05:00.354949: I tensorflow/core/profiler/rpc/client/save_profile.cc:136] Creating directory: 2022-01-10_21-27_logs/results/train/plugins/profile/2022_01_12_01_05_00\n",
      "\n",
      "2022-01-12 01:05:00.364246: I tensorflow/core/profiler/rpc/client/save_profile.cc:142] Dumped gzipped tool data for memory_profile.json.gz to 2022-01-10_21-27_logs/results/train/plugins/profile/2022_01_12_01_05_00/nwwf2rtodh.memory_profile.json.gz\n"
     ]
    },
    {
     "name": "stdout",
     "output_type": "stream",
     "text": [
      "  9/191 [>.............................] - ETA: 27s - loss: 57503674368.0000 - root_mean_squared_error: 239799.2344 - mean_absolute_error: 204522.9219"
     ]
    },
    {
     "name": "stderr",
     "output_type": "stream",
     "text": [
      "2022-01-12 01:05:00.437227: I tensorflow/core/profiler/rpc/client/capture_profile.cc:251] Creating directory: 2022-01-10_21-27_logs/results/train/plugins/profile/2022_01_12_01_05_00\n",
      "Dumped tool data for xplane.pb to 2022-01-10_21-27_logs/results/train/plugins/profile/2022_01_12_01_05_00/nwwf2rtodh.xplane.pb\n",
      "Dumped tool data for overview_page.pb to 2022-01-10_21-27_logs/results/train/plugins/profile/2022_01_12_01_05_00/nwwf2rtodh.overview_page.pb\n",
      "Dumped tool data for input_pipeline.pb to 2022-01-10_21-27_logs/results/train/plugins/profile/2022_01_12_01_05_00/nwwf2rtodh.input_pipeline.pb\n",
      "Dumped tool data for tensorflow_stats.pb to 2022-01-10_21-27_logs/results/train/plugins/profile/2022_01_12_01_05_00/nwwf2rtodh.tensorflow_stats.pb\n",
      "Dumped tool data for kernel_stats.pb to 2022-01-10_21-27_logs/results/train/plugins/profile/2022_01_12_01_05_00/nwwf2rtodh.kernel_stats.pb\n",
      "\n"
     ]
    },
    {
     "name": "stdout",
     "output_type": "stream",
     "text": [
      "191/191 [==============================] - 14s 37ms/step - loss: 51893125120.0000 - root_mean_squared_error: 227800.6250 - mean_absolute_error: 198354.3906 - val_loss: 67396952064.0000 - val_root_mean_squared_error: 259609.2344 - val_mean_absolute_error: 229136.3125\n",
      "Epoch 2/100\n",
      "191/191 [==============================] - 5s 29ms/step - loss: 51883659264.0000 - root_mean_squared_error: 227779.8438 - mean_absolute_error: 198336.4219 - val_loss: 67399090176.0000 - val_root_mean_squared_error: 259613.3438 - val_mean_absolute_error: 229143.0312\n",
      "Epoch 3/100\n",
      "191/191 [==============================] - 5s 28ms/step - loss: 51867017216.0000 - root_mean_squared_error: 227743.3125 - mean_absolute_error: 198304.1406 - val_loss: 67405021184.0000 - val_root_mean_squared_error: 259624.7656 - val_mean_absolute_error: 229173.0469\n",
      "Epoch 4/100\n",
      "191/191 [==============================] - 5s 29ms/step - loss: 51840389120.0000 - root_mean_squared_error: 227684.8438 - mean_absolute_error: 198257.3594 - val_loss: 67333185536.0000 - val_root_mean_squared_error: 259486.3906 - val_mean_absolute_error: 229057.6094\n",
      "Epoch 5/100\n",
      "191/191 [==============================] - 5s 29ms/step - loss: 51806310400.0000 - root_mean_squared_error: 227610.0000 - mean_absolute_error: 198196.2188 - val_loss: 67400208384.0000 - val_root_mean_squared_error: 259615.5000 - val_mean_absolute_error: 229176.2656\n",
      "Epoch 6/100\n",
      "191/191 [==============================] - 5s 28ms/step - loss: 51763073024.0000 - root_mean_squared_error: 227514.9844 - mean_absolute_error: 198120.8281 - val_loss: 67050291200.0000 - val_root_mean_squared_error: 258940.7031 - val_mean_absolute_error: 228526.7969\n",
      "Epoch 7/100\n",
      "191/191 [==============================] - 5s 28ms/step - loss: 51710734336.0000 - root_mean_squared_error: 227399.9375 - mean_absolute_error: 198031.0156 - val_loss: 67222589440.0000 - val_root_mean_squared_error: 259273.1875 - val_mean_absolute_error: 228896.1875\n",
      "Epoch 8/100\n",
      "191/191 [==============================] - 6s 29ms/step - loss: 51650928640.0000 - root_mean_squared_error: 227268.4062 - mean_absolute_error: 197926.9062 - val_loss: 66867826688.0000 - val_root_mean_squared_error: 258588.1406 - val_mean_absolute_error: 228212.7344\n",
      "Epoch 9/100\n",
      "191/191 [==============================] - 5s 28ms/step - loss: 51581681664.0000 - root_mean_squared_error: 227116.0000 - mean_absolute_error: 197808.5312 - val_loss: 66573254656.0000 - val_root_mean_squared_error: 258017.9375 - val_mean_absolute_error: 227624.6875\n",
      "Epoch 10/100\n",
      "191/191 [==============================] - 6s 30ms/step - loss: 51508080640.0000 - root_mean_squared_error: 226953.9062 - mean_absolute_error: 197675.7812 - val_loss: 66057322496.0000 - val_root_mean_squared_error: 257016.1875 - val_mean_absolute_error: 226470.9688\n",
      "Epoch 11/100\n",
      "191/191 [==============================] - 5s 28ms/step - loss: 51424202752.0000 - root_mean_squared_error: 226769.0469 - mean_absolute_error: 197528.6875 - val_loss: 67024838656.0000 - val_root_mean_squared_error: 258891.5625 - val_mean_absolute_error: 228618.0156\n",
      "Epoch 12/100\n",
      "191/191 [==============================] - 5s 28ms/step - loss: 51333283840.0000 - root_mean_squared_error: 226568.5000 - mean_absolute_error: 197367.4062 - val_loss: 66991144960.0000 - val_root_mean_squared_error: 258826.4688 - val_mean_absolute_error: 228642.8906\n",
      "Epoch 13/100\n",
      "191/191 [==============================] - 5s 29ms/step - loss: 51229380608.0000 - root_mean_squared_error: 226339.0781 - mean_absolute_error: 197191.6562 - val_loss: 65720463360.0000 - val_root_mean_squared_error: 256360.0312 - val_mean_absolute_error: 226124.8750\n",
      "Epoch 14/100\n",
      "191/191 [==============================] - 5s 28ms/step - loss: 51125821440.0000 - root_mean_squared_error: 226110.2031 - mean_absolute_error: 197001.5781 - val_loss: 66531897344.0000 - val_root_mean_squared_error: 257937.7812 - val_mean_absolute_error: 227822.4062\n",
      "Epoch 15/100\n",
      "191/191 [==============================] - 5s 29ms/step - loss: 51014705152.0000 - root_mean_squared_error: 225864.3438 - mean_absolute_error: 196797.3438 - val_loss: 67674660864.0000 - val_root_mean_squared_error: 260143.5312 - val_mean_absolute_error: 229952.0156\n",
      "Epoch 16/100\n",
      "191/191 [==============================] - 5s 29ms/step - loss: 50884145152.0000 - root_mean_squared_error: 225575.1406 - mean_absolute_error: 196578.7031 - val_loss: 66616741888.0000 - val_root_mean_squared_error: 258102.1875 - val_mean_absolute_error: 227940.3906\n",
      "Epoch 17/100\n",
      "191/191 [==============================] - 5s 29ms/step - loss: 50751279104.0000 - root_mean_squared_error: 225280.4375 - mean_absolute_error: 196345.7812 - val_loss: 65828909056.0000 - val_root_mean_squared_error: 256571.4531 - val_mean_absolute_error: 226529.4219\n",
      "Epoch 18/100\n",
      "191/191 [==============================] - 5s 29ms/step - loss: 50615943168.0000 - root_mean_squared_error: 224979.8594 - mean_absolute_error: 196098.5938 - val_loss: 66304888832.0000 - val_root_mean_squared_error: 257497.3594 - val_mean_absolute_error: 227778.8281\n",
      "Epoch 19/100\n",
      "191/191 [==============================] - 6s 29ms/step - loss: 50463117312.0000 - root_mean_squared_error: 224639.9688 - mean_absolute_error: 195837.0000 - val_loss: 65512964096.0000 - val_root_mean_squared_error: 255954.9844 - val_mean_absolute_error: 225939.2656\n",
      "Epoch 20/100\n",
      "191/191 [==============================] - 5s 28ms/step - loss: 50307366912.0000 - root_mean_squared_error: 224293.0312 - mean_absolute_error: 195561.2344 - val_loss: 64573288448.0000 - val_root_mean_squared_error: 254112.7500 - val_mean_absolute_error: 224193.5156\n",
      "Epoch 21/100\n",
      "191/191 [==============================] - 5s 29ms/step - loss: 50147389440.0000 - root_mean_squared_error: 223936.1250 - mean_absolute_error: 195271.0938 - val_loss: 67892289536.0000 - val_root_mean_squared_error: 260561.4844 - val_mean_absolute_error: 230509.3281\n",
      "Epoch 22/100\n",
      "191/191 [==============================] - 6s 29ms/step - loss: 49972760576.0000 - root_mean_squared_error: 223545.8750 - mean_absolute_error: 194966.6406 - val_loss: 61909680128.0000 - val_root_mean_squared_error: 248816.5469 - val_mean_absolute_error: 218357.4844\n",
      "Epoch 23/100\n",
      "191/191 [==============================] - 5s 29ms/step - loss: 49825173504.0000 - root_mean_squared_error: 223215.5312 - mean_absolute_error: 194647.8750 - val_loss: 67323711488.0000 - val_root_mean_squared_error: 259468.1250 - val_mean_absolute_error: 229499.6875\n",
      "Epoch 24/100\n",
      "191/191 [==============================] - 5s 28ms/step - loss: 49645731840.0000 - root_mean_squared_error: 222813.2188 - mean_absolute_error: 194314.8594 - val_loss: 65190338560.0000 - val_root_mean_squared_error: 255323.9844 - val_mean_absolute_error: 225805.6562\n",
      "Epoch 25/100\n",
      "191/191 [==============================] - 5s 28ms/step - loss: 49422196736.0000 - root_mean_squared_error: 222311.0312 - mean_absolute_error: 193967.5000 - val_loss: 65842745344.0000 - val_root_mean_squared_error: 256598.4062 - val_mean_absolute_error: 227072.0156\n",
      "Epoch 26/100\n",
      "191/191 [==============================] - 5s 28ms/step - loss: 49216495616.0000 - root_mean_squared_error: 221847.9062 - mean_absolute_error: 193605.9375 - val_loss: 66702946304.0000 - val_root_mean_squared_error: 258269.1250 - val_mean_absolute_error: 228810.6719\n",
      "Epoch 27/100\n",
      "191/191 [==============================] - 5s 28ms/step - loss: 49006931968.0000 - root_mean_squared_error: 221375.0938 - mean_absolute_error: 193230.0156 - val_loss: 64498790400.0000 - val_root_mean_squared_error: 253966.1250 - val_mean_absolute_error: 224903.1562\n",
      "Epoch 28/100\n",
      "191/191 [==============================] - 5s 28ms/step - loss: 48784236544.0000 - root_mean_squared_error: 220871.5312 - mean_absolute_error: 192839.7031 - val_loss: 60841754624.0000 - val_root_mean_squared_error: 246661.2031 - val_mean_absolute_error: 217387.8906\n",
      "Epoch 29/100\n",
      "191/191 [==============================] - 5s 28ms/step - loss: 48559292416.0000 - root_mean_squared_error: 220361.7344 - mean_absolute_error: 192435.2656 - val_loss: 68425625600.0000 - val_root_mean_squared_error: 261582.9219 - val_mean_absolute_error: 232129.7656\n",
      "Epoch 30/100\n",
      "191/191 [==============================] - 5s 28ms/step - loss: 48337178624.0000 - root_mean_squared_error: 219857.1719 - mean_absolute_error: 192016.4688 - val_loss: 61720576000.0000 - val_root_mean_squared_error: 248436.2656 - val_mean_absolute_error: 219387.5312\n",
      "Epoch 31/100\n",
      "191/191 [==============================] - 5s 29ms/step - loss: 48094408704.0000 - root_mean_squared_error: 219304.3750 - mean_absolute_error: 191583.3281 - val_loss: 66367062016.0000 - val_root_mean_squared_error: 257618.0469 - val_mean_absolute_error: 228924.2656\n",
      "Epoch 32/100\n",
      "191/191 [==============================] - 5s 28ms/step - loss: 47852847104.0000 - root_mean_squared_error: 218752.9375 - mean_absolute_error: 191135.8750 - val_loss: 63516196864.0000 - val_root_mean_squared_error: 252024.1875 - val_mean_absolute_error: 223698.4688\n",
      "Epoch 33/100\n",
      "191/191 [==============================] - 5s 28ms/step - loss: 47593644032.0000 - root_mean_squared_error: 218159.6719 - mean_absolute_error: 190674.1719 - val_loss: 66236678144.0000 - val_root_mean_squared_error: 257364.8750 - val_mean_absolute_error: 228442.5312\n",
      "Epoch 34/100\n",
      "191/191 [==============================] - 6s 29ms/step - loss: 47312621568.0000 - root_mean_squared_error: 217514.6406 - mean_absolute_error: 190198.1094 - val_loss: 61210017792.0000 - val_root_mean_squared_error: 247406.5781 - val_mean_absolute_error: 218454.4688\n",
      "Epoch 35/100\n",
      "191/191 [==============================] - 5s 29ms/step - loss: 47054450688.0000 - root_mean_squared_error: 216920.3750 - mean_absolute_error: 189707.8281 - val_loss: 56911122432.0000 - val_root_mean_squared_error: 238560.5156 - val_mean_absolute_error: 208892.7500\n",
      "Epoch 36/100\n",
      "191/191 [==============================] - 6s 29ms/step - loss: 46776713216.0000 - root_mean_squared_error: 216279.2500 - mean_absolute_error: 189203.8750 - val_loss: 59707260928.0000 - val_root_mean_squared_error: 244350.6875 - val_mean_absolute_error: 216100.3438\n",
      "Epoch 37/100\n",
      "191/191 [==============================] - 6s 29ms/step - loss: 46508675072.0000 - root_mean_squared_error: 215658.7031 - mean_absolute_error: 188685.1406 - val_loss: 59714224128.0000 - val_root_mean_squared_error: 244364.9375 - val_mean_absolute_error: 216908.5625\n",
      "Epoch 38/100\n",
      "191/191 [==============================] - 6s 29ms/step - loss: 46225072128.0000 - root_mean_squared_error: 215000.1719 - mean_absolute_error: 188151.8125 - val_loss: 59859300352.0000 - val_root_mean_squared_error: 244661.6094 - val_mean_absolute_error: 216646.1094\n",
      "Epoch 39/100\n",
      "191/191 [==============================] - 5s 28ms/step - loss: 45923491840.0000 - root_mean_squared_error: 214297.6719 - mean_absolute_error: 187604.5156 - val_loss: 64700321792.0000 - val_root_mean_squared_error: 254362.5781 - val_mean_absolute_error: 226798.1250\n",
      "Epoch 40/100\n",
      "191/191 [==============================] - 5s 28ms/step - loss: 45606752256.0000 - root_mean_squared_error: 213557.3750 - mean_absolute_error: 187042.3594 - val_loss: 65088458752.0000 - val_root_mean_squared_error: 255124.3906 - val_mean_absolute_error: 227694.7344\n",
      "Epoch 41/100\n",
      "191/191 [==============================] - 6s 29ms/step - loss: 45298647040.0000 - root_mean_squared_error: 212834.7812 - mean_absolute_error: 186466.6250 - val_loss: 52126474240.0000 - val_root_mean_squared_error: 228312.2188 - val_mean_absolute_error: 198615.4688\n",
      "Epoch 42/100\n",
      "191/191 [==============================] - 5s 28ms/step - loss: 45001662464.0000 - root_mean_squared_error: 212135.9531 - mean_absolute_error: 185877.3750 - val_loss: 55250595840.0000 - val_root_mean_squared_error: 235054.4531 - val_mean_absolute_error: 206625.7969\n",
      "Epoch 43/100\n",
      "191/191 [==============================] - 6s 29ms/step - loss: 44661161984.0000 - root_mean_squared_error: 211331.8750 - mean_absolute_error: 185273.1562 - val_loss: 57211564032.0000 - val_root_mean_squared_error: 239189.3906 - val_mean_absolute_error: 212913.2812\n",
      "Epoch 44/100\n",
      "191/191 [==============================] - 5s 28ms/step - loss: 44326834176.0000 - root_mean_squared_error: 210539.3906 - mean_absolute_error: 184653.8281 - val_loss: 61803864064.0000 - val_root_mean_squared_error: 248603.8281 - val_mean_absolute_error: 220643.9062\n",
      "Epoch 45/100\n",
      "191/191 [==============================] - 5s 28ms/step - loss: 44002373632.0000 - root_mean_squared_error: 209767.4219 - mean_absolute_error: 184021.5000 - val_loss: 46326358016.0000 - val_root_mean_squared_error: 215235.5781 - val_mean_absolute_error: 183333.2500\n",
      "Epoch 46/100\n",
      "191/191 [==============================] - 5s 29ms/step - loss: 43693600768.0000 - root_mean_squared_error: 209030.1406 - mean_absolute_error: 183373.3750 - val_loss: 60467544064.0000 - val_root_mean_squared_error: 245901.4844 - val_mean_absolute_error: 219558.9844\n",
      "Epoch 47/100\n",
      "191/191 [==============================] - 5s 28ms/step - loss: 43332648960.0000 - root_mean_squared_error: 208164.9531 - mean_absolute_error: 182712.2344 - val_loss: 67674697728.0000 - val_root_mean_squared_error: 260143.6094 - val_mean_absolute_error: 231943.1094\n",
      "Epoch 48/100\n",
      "191/191 [==============================] - 5s 28ms/step - loss: 42996719616.0000 - root_mean_squared_error: 207356.5000 - mean_absolute_error: 182038.6094 - val_loss: 66862669824.0000 - val_root_mean_squared_error: 258578.1719 - val_mean_absolute_error: 231003.1406\n",
      "Epoch 49/100\n",
      "191/191 [==============================] - 5s 28ms/step - loss: 42632425472.0000 - root_mean_squared_error: 206476.2188 - mean_absolute_error: 181345.2812 - val_loss: 59546583040.0000 - val_root_mean_squared_error: 244021.6875 - val_mean_absolute_error: 218141.6250\n",
      "Epoch 50/100\n",
      "191/191 [==============================] - 5s 28ms/step - loss: 42258923520.0000 - root_mean_squared_error: 205569.7500 - mean_absolute_error: 180639.6406 - val_loss: 50982207488.0000 - val_root_mean_squared_error: 225792.4062 - val_mean_absolute_error: 199155.5312\n",
      "Epoch 51/100\n",
      "191/191 [==============================] - 5s 28ms/step - loss: 41921687552.0000 - root_mean_squared_error: 204747.8594 - mean_absolute_error: 179927.7188 - val_loss: 60527185920.0000 - val_root_mean_squared_error: 246022.7344 - val_mean_absolute_error: 220163.5156\n",
      "Epoch 52/100\n",
      "191/191 [==============================] - 5s 28ms/step - loss: 41539678208.0000 - root_mean_squared_error: 203812.8438 - mean_absolute_error: 179188.8438 - val_loss: 45687037952.0000 - val_root_mean_squared_error: 213745.2656 - val_mean_absolute_error: 186148.4688\n",
      "Epoch 53/100\n",
      "191/191 [==============================] - 5s 29ms/step - loss: 41145475072.0000 - root_mean_squared_error: 202843.4688 - mean_absolute_error: 178440.5469 - val_loss: 47777853440.0000 - val_root_mean_squared_error: 218581.4688 - val_mean_absolute_error: 190793.1875\n",
      "Epoch 54/100\n",
      "191/191 [==============================] - 5s 29ms/step - loss: 40824680448.0000 - root_mean_squared_error: 202051.1875 - mean_absolute_error: 177685.3906 - val_loss: 45804236800.0000 - val_root_mean_squared_error: 214019.2344 - val_mean_absolute_error: 187934.9844\n",
      "Epoch 55/100\n",
      "191/191 [==============================] - 5s 28ms/step - loss: 40396058624.0000 - root_mean_squared_error: 200987.7031 - mean_absolute_error: 176904.3281 - val_loss: 55391768576.0000 - val_root_mean_squared_error: 235354.5625 - val_mean_absolute_error: 212821.1406\n",
      "Epoch 56/100\n",
      "191/191 [==============================] - 5s 29ms/step - loss: 39993536512.0000 - root_mean_squared_error: 199983.8438 - mean_absolute_error: 176112.2188 - val_loss: 37753311232.0000 - val_root_mean_squared_error: 194302.1250 - val_mean_absolute_error: 163640.2969\n",
      "Epoch 57/100\n",
      "191/191 [==============================] - 5s 28ms/step - loss: 39633715200.0000 - root_mean_squared_error: 199082.1875 - mean_absolute_error: 175309.4688 - val_loss: 64945713152.0000 - val_root_mean_squared_error: 254844.4844 - val_mean_absolute_error: 229204.8906\n",
      "Epoch 58/100\n",
      "191/191 [==============================] - 6s 29ms/step - loss: 39184257024.0000 - root_mean_squared_error: 197950.1406 - mean_absolute_error: 174493.0781 - val_loss: 45872308224.0000 - val_root_mean_squared_error: 214178.2188 - val_mean_absolute_error: 188827.6094\n",
      "Epoch 59/100\n",
      "191/191 [==============================] - 5s 29ms/step - loss: 38822121472.0000 - root_mean_squared_error: 197033.2969 - mean_absolute_error: 173673.8750 - val_loss: 47409184768.0000 - val_root_mean_squared_error: 217736.5000 - val_mean_absolute_error: 193298.7656\n",
      "Epoch 60/100\n",
      "191/191 [==============================] - 5s 29ms/step - loss: 38360100864.0000 - root_mean_squared_error: 195857.3438 - mean_absolute_error: 172811.7188 - val_loss: 41506045952.0000 - val_root_mean_squared_error: 203730.3281 - val_mean_absolute_error: 178191.0781\n",
      "Epoch 61/100\n",
      "191/191 [==============================] - 6s 29ms/step - loss: 38024675328.0000 - root_mean_squared_error: 194999.1719 - mean_absolute_error: 171956.5625 - val_loss: 50203684864.0000 - val_root_mean_squared_error: 224061.7812 - val_mean_absolute_error: 200203.6875\n",
      "Epoch 62/100\n",
      "191/191 [==============================] - 5s 28ms/step - loss: 37558677504.0000 - root_mean_squared_error: 193800.6094 - mean_absolute_error: 171076.0000 - val_loss: 40977641472.0000 - val_root_mean_squared_error: 202429.3438 - val_mean_absolute_error: 177687.7500\n",
      "Epoch 63/100\n",
      "191/191 [==============================] - 5s 29ms/step - loss: 37157220352.0000 - root_mean_squared_error: 192762.0938 - mean_absolute_error: 170187.5469 - val_loss: 55909621760.0000 - val_root_mean_squared_error: 236452.1562 - val_mean_absolute_error: 211500.6250\n",
      "Epoch 64/100\n",
      "191/191 [==============================] - 5s 29ms/step - loss: 36714602496.0000 - root_mean_squared_error: 191610.5469 - mean_absolute_error: 169281.9219 - val_loss: 42221346816.0000 - val_root_mean_squared_error: 205478.3281 - val_mean_absolute_error: 180888.9219\n",
      "Epoch 65/100\n",
      "191/191 [==============================] - 6s 29ms/step - loss: 36320903168.0000 - root_mean_squared_error: 190580.4375 - mean_absolute_error: 168359.6250 - val_loss: 53118103552.0000 - val_root_mean_squared_error: 230473.6562 - val_mean_absolute_error: 206558.3125\n",
      "Epoch 66/100\n",
      "191/191 [==============================] - 5s 28ms/step - loss: 35844403200.0000 - root_mean_squared_error: 189326.1875 - mean_absolute_error: 167429.7500 - val_loss: 41701277696.0000 - val_root_mean_squared_error: 204208.9062 - val_mean_absolute_error: 179745.0625\n",
      "Epoch 67/100\n",
      "191/191 [==============================] - 6s 29ms/step - loss: 35414700032.0000 - root_mean_squared_error: 188187.9531 - mean_absolute_error: 166480.9375 - val_loss: 41763008512.0000 - val_root_mean_squared_error: 204360.0000 - val_mean_absolute_error: 179768.9844\n",
      "Epoch 68/100\n",
      "191/191 [==============================] - 6s 29ms/step - loss: 34960990208.0000 - root_mean_squared_error: 186978.5781 - mean_absolute_error: 165516.0156 - val_loss: 58753961984.0000 - val_root_mean_squared_error: 242392.1562 - val_mean_absolute_error: 219486.5000\n",
      "Epoch 69/100\n",
      "191/191 [==============================] - 5s 28ms/step - loss: 34592276480.0000 - root_mean_squared_error: 185989.9844 - mean_absolute_error: 164549.6406 - val_loss: 39858147328.0000 - val_root_mean_squared_error: 199645.0625 - val_mean_absolute_error: 175908.0156\n",
      "Epoch 70/100\n",
      "191/191 [==============================] - 5s 28ms/step - loss: 34112053248.0000 - root_mean_squared_error: 184694.4844 - mean_absolute_error: 163566.8125 - val_loss: 57911435264.0000 - val_root_mean_squared_error: 240647.9531 - val_mean_absolute_error: 215665.2812\n",
      "Epoch 71/100\n",
      "191/191 [==============================] - 6s 29ms/step - loss: 33665787904.0000 - root_mean_squared_error: 183482.3906 - mean_absolute_error: 162551.0781 - val_loss: 40980488192.0000 - val_root_mean_squared_error: 202436.3750 - val_mean_absolute_error: 181880.4844\n"
     ]
    }
   ],
   "source": [
    "history = model0001.fit(x=x_train,  \n",
    "                    y=y_train, \n",
    "                    batch_size=BATCH_SIZE, \n",
    "                    epochs=EPOCHS,      \n",
    "                    verbose='auto', \n",
    "                    callbacks=[tf.keras.callbacks.\\\n",
    "                               EarlyStopping(monitor='val_loss',\n",
    "                                             patience=PATIENCE,\n",
    "                                             min_delta=PATIENCE_MIN_DELTA,\n",
    "                                             restore_best_weights=True),\n",
    "                            tensorboard_callback], \n",
    "                    validation_split=0.3, \n",
    "                    validation_data=None, \n",
    "                    shuffle=True,\n",
    "                    class_weight=None, \n",
    "                    sample_weight=None, \n",
    "                    initial_epoch=0, \n",
    "                    steps_per_epoch=None, \n",
    "                    validation_steps=None, \n",
    "                    validation_batch_size=10, \n",
    "                    validation_freq=1, \n",
    "                    max_queue_size=10, \n",
    "                    workers=5, \n",
    "                    use_multiprocessing=True)"
   ]
  },
  {
   "cell_type": "code",
   "execution_count": 19,
   "id": "b9c48dbe",
   "metadata": {},
   "outputs": [],
   "source": [
    "hy = pd.DataFrame(history.history)"
   ]
  },
  {
   "cell_type": "code",
   "execution_count": 20,
   "id": "d02d00aa",
   "metadata": {},
   "outputs": [
    {
     "data": {
      "text/plain": [
       "<AxesSubplot:>"
      ]
     },
     "execution_count": 20,
     "metadata": {},
     "output_type": "execute_result"
    },
    {
     "data": {
      "image/png": "[encoded data removed]",
      "text/plain": [
       "<Figure size 432x288 with 1 Axes>"
      ]
     },
     "metadata": {
      "needs_background": "light"
     },
     "output_type": "display_data"
    }
   ],
   "source": [
    "hy[['root_mean_squared_error','val_root_mean_squared_error']].plot()"
   ]
  },
  {
   "cell_type": "code",
   "execution_count": 21,
   "id": "edd259b4",
   "metadata": {},
   "outputs": [
    {
     "name": "stderr",
     "output_type": "stream",
     "text": [
      "2022-01-12 01:12:59.415180: W tensorflow/python/util/util.cc:348] Sets are not currently considered sequences, but this may change in the future, so consider avoiding using them.\n"
     ]
    },
    {
     "name": "stdout",
     "output_type": "stream",
     "text": [
      "INFO:tensorflow:Assets written to: 2022-01-10_02-46_exported_ca_housing_model/assets\n"
     ]
    }
   ],
   "source": [
    "model0001.save('2022-01-10_02-46_exported_ca_housing_model')"
   ]
  },
  {
   "cell_type": "code",
   "execution_count": 22,
   "id": "7bc0e3f8",
   "metadata": {},
   "outputs": [
    {
     "data": {
      "text/plain": [
       "val_root_mean_squared_error    194302.125\n",
       "dtype: float64"
      ]
     },
     "execution_count": 22,
     "metadata": {},
     "output_type": "execute_result"
    }
   ],
   "source": [
    "hy[['val_root_mean_squared_error']].min()"
   ]
  },
  {
   "cell_type": "code",
   "execution_count": 23,
   "id": "aa42bd49",
   "metadata": {},
   "outputs": [
    {
     "data": {
      "text/plain": [
       "val_root_mean_squared_error    261582.921875\n",
       "dtype: float64"
      ]
     },
     "execution_count": 23,
     "metadata": {},
     "output_type": "execute_result"
    }
   ],
   "source": [
    "hy[['val_root_mean_squared_error']].max()"
   ]
  },
  {
   "cell_type": "code",
   "execution_count": 24,
   "id": "56e73318",
   "metadata": {},
   "outputs": [],
   "source": [
    "# Obviously this not a good run, overfitting, training data needs preprocessing, neural network. \n",
    "# architecture does not fit this specific problem, and several hyperparameters are way off,\n",
    "# but ths does demonstrate the API aand syntax.\n",
    "# I will post a better examle run later."
   ]
  },
  {
   "cell_type": "code",
   "execution_count": null,
   "id": "8fde03d1",
   "metadata": {},
   "outputs": [],
   "source": []
  }
 ],
 "metadata": {
  "kernelspec": {
   "display_name": "Python 3 (ipykernel)",
   "language": "python",
   "name": "python3"
  },
  "language_info": {
   "codemirror_mode": {
    "name": "ipython",
    "version": 3
   },
   "file_extension": ".py",
   "mimetype": "text/x-python",
   "name": "python",
   "nbconvert_exporter": "python",
   "pygments_lexer": "ipython3",
   "version": "3.8.10"
  }
 },
 "nbformat": 4,
 "nbformat_minor": 5
}
