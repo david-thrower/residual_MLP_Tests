{
 "cells": [
  {
   "cell_type": "code",
   "execution_count": 2,
   "id": "c264891b",
   "metadata": {},
   "outputs": [
    {
     "name": "stdout",
     "output_type": "stream",
     "text": [
      "Collecting pandas\n",
      "  Downloading pandas-1.4.1-cp38-cp38-manylinux_2_17_x86_64.manylinux2014_x86_64.whl (11.7 MB)\n",
      "\u001b[K     |████████████████████████████████| 11.7 MB 17.6 MB/s eta 0:00:01\n",
      "\u001b[?25hRequirement already satisfied: numpy>=1.18.5 in /usr/local/lib/python3.8/dist-packages (from pandas) (1.19.4)\n",
      "Requirement already satisfied: python-dateutil>=2.8.1 in /usr/local/lib/python3.8/dist-packages (from pandas) (2.8.2)\n",
      "Requirement already satisfied: pytz>=2020.1 in /usr/local/lib/python3.8/dist-packages (from pandas) (2021.1)\n",
      "Requirement already satisfied: six>=1.5 in /usr/local/lib/python3.8/dist-packages (from python-dateutil>=2.8.1->pandas) (1.15.0)\n",
      "Installing collected packages: pandas\n",
      "Successfully installed pandas-1.4.1\n",
      "\u001b[33mWARNING: Running pip as the 'root' user can result in broken permissions and conflicting behaviour with the system package manager. It is recommended to use a virtual environment instead: https://pip.pypa.io/warnings/venv\u001b[0m\n",
      "\u001b[33mWARNING: You are using pip version 21.2.4; however, version 22.0.3 is available.\n",
      "You should consider upgrading via the '/usr/bin/python -m pip install --upgrade pip' command.\u001b[0m\n",
      "Collecting pendulum\n",
      "  Downloading pendulum-2.1.2-cp38-cp38-manylinux1_x86_64.whl (155 kB)\n",
      "\u001b[K     |████████████████████████████████| 155 kB 20.2 MB/s eta 0:00:01\n",
      "\u001b[?25hCollecting pytzdata>=2020.1\n",
      "  Downloading pytzdata-2020.1-py2.py3-none-any.whl (489 kB)\n",
      "\u001b[K     |████████████████████████████████| 489 kB 34.7 MB/s eta 0:00:01\n",
      "\u001b[?25hRequirement already satisfied: python-dateutil<3.0,>=2.6 in /usr/local/lib/python3.8/dist-packages (from pendulum) (2.8.2)\n",
      "Requirement already satisfied: six>=1.5 in /usr/local/lib/python3.8/dist-packages (from python-dateutil<3.0,>=2.6->pendulum) (1.15.0)\n",
      "Installing collected packages: pytzdata, pendulum\n",
      "Successfully installed pendulum-2.1.2 pytzdata-2020.1\n",
      "\u001b[33mWARNING: Running pip as the 'root' user can result in broken permissions and conflicting behaviour with the system package manager. It is recommended to use a virtual environment instead: https://pip.pypa.io/warnings/venv\u001b[0m\n",
      "\u001b[33mWARNING: You are using pip version 21.2.4; however, version 22.0.3 is available.\n",
      "You should consider upgrading via the '/usr/bin/python -m pip install --upgrade pip' command.\u001b[0m\n",
      "Collecting keras_tuner\n",
      "  Downloading keras_tuner-1.1.0-py3-none-any.whl (98 kB)\n",
      "\u001b[K     |████████████████████████████████| 98 kB 10.6 MB/s eta 0:00:01\n",
      "\u001b[?25hRequirement already satisfied: numpy in /usr/local/lib/python3.8/dist-packages (from keras_tuner) (1.19.4)\n",
      "Collecting kt-legacy\n",
      "  Downloading kt_legacy-1.0.4-py3-none-any.whl (9.6 kB)\n",
      "Requirement already satisfied: scipy in /usr/local/lib/python3.8/dist-packages (from keras_tuner) (1.4.1)\n",
      "Requirement already satisfied: tensorboard in /usr/local/lib/python3.8/dist-packages (from keras_tuner) (2.6.0)\n",
      "Requirement already satisfied: requests in /usr/local/lib/python3.8/dist-packages (from keras_tuner) (2.26.0)\n",
      "Requirement already satisfied: packaging in /usr/local/lib/python3.8/dist-packages (from keras_tuner) (21.0)\n",
      "Requirement already satisfied: ipython in /usr/local/lib/python3.8/dist-packages (from keras_tuner) (7.27.0)\n",
      "Requirement already satisfied: pygments in /usr/local/lib/python3.8/dist-packages (from ipython->keras_tuner) (2.10.0)\n",
      "Requirement already satisfied: pexpect>4.3 in /usr/local/lib/python3.8/dist-packages (from ipython->keras_tuner) (4.7.0)\n",
      "Requirement already satisfied: matplotlib-inline in /usr/local/lib/python3.8/dist-packages (from ipython->keras_tuner) (0.1.3)\n",
      "Requirement already satisfied: backcall in /usr/local/lib/python3.8/dist-packages (from ipython->keras_tuner) (0.2.0)\n",
      "Requirement already satisfied: traitlets>=4.2 in /usr/local/lib/python3.8/dist-packages (from ipython->keras_tuner) (5.1.0)\n",
      "Requirement already satisfied: decorator in /usr/local/lib/python3.8/dist-packages (from ipython->keras_tuner) (5.1.0)\n",
      "Requirement already satisfied: jedi>=0.16 in /usr/local/lib/python3.8/dist-packages (from ipython->keras_tuner) (0.18.0)\n",
      "Requirement already satisfied: pickleshare in /usr/local/lib/python3.8/dist-packages (from ipython->keras_tuner) (0.7.5)\n",
      "Requirement already satisfied: prompt-toolkit!=3.0.0,!=3.0.1,<3.1.0,>=2.0.0 in /usr/local/lib/python3.8/dist-packages (from ipython->keras_tuner) (3.0.20)\n",
      "Requirement already satisfied: setuptools>=18.5 in /usr/local/lib/python3.8/dist-packages (from ipython->keras_tuner) (58.1.0)\n",
      "Requirement already satisfied: parso<0.9.0,>=0.8.0 in /usr/local/lib/python3.8/dist-packages (from jedi>=0.16->ipython->keras_tuner) (0.8.2)\n",
      "Requirement already satisfied: ptyprocess>=0.5 in /usr/local/lib/python3.8/dist-packages (from pexpect>4.3->ipython->keras_tuner) (0.7.0)\n",
      "Requirement already satisfied: wcwidth in /usr/local/lib/python3.8/dist-packages (from prompt-toolkit!=3.0.0,!=3.0.1,<3.1.0,>=2.0.0->ipython->keras_tuner) (0.2.5)\n",
      "Requirement already satisfied: pyparsing>=2.0.2 in /usr/local/lib/python3.8/dist-packages (from packaging->keras_tuner) (2.4.7)\n",
      "Requirement already satisfied: certifi>=2017.4.17 in /usr/local/lib/python3.8/dist-packages (from requests->keras_tuner) (2021.5.30)\n",
      "Requirement already satisfied: charset-normalizer~=2.0.0 in /usr/local/lib/python3.8/dist-packages (from requests->keras_tuner) (2.0.6)\n",
      "Requirement already satisfied: idna<4,>=2.5 in /usr/local/lib/python3.8/dist-packages (from requests->keras_tuner) (3.2)\n",
      "Requirement already satisfied: urllib3<1.27,>=1.21.1 in /usr/local/lib/python3.8/dist-packages (from requests->keras_tuner) (1.26.7)\n",
      "Requirement already satisfied: google-auth<2,>=1.6.3 in /usr/local/lib/python3.8/dist-packages (from tensorboard->keras_tuner) (1.35.0)\n",
      "Requirement already satisfied: tensorboard-data-server<0.7.0,>=0.6.0 in /usr/local/lib/python3.8/dist-packages (from tensorboard->keras_tuner) (0.6.1)\n",
      "Requirement already satisfied: grpcio>=1.24.3 in /usr/local/lib/python3.8/dist-packages (from tensorboard->keras_tuner) (1.39.0)\n",
      "Requirement already satisfied: werkzeug>=0.11.15 in /usr/local/lib/python3.8/dist-packages (from tensorboard->keras_tuner) (2.0.1)\n",
      "Requirement already satisfied: google-auth-oauthlib<0.5,>=0.4.1 in /usr/local/lib/python3.8/dist-packages (from tensorboard->keras_tuner) (0.4.6)\n",
      "Requirement already satisfied: absl-py>=0.4 in /usr/local/lib/python3.8/dist-packages (from tensorboard->keras_tuner) (0.12.0)\n",
      "Requirement already satisfied: tensorboard-plugin-wit>=1.6.0 in /usr/local/lib/python3.8/dist-packages (from tensorboard->keras_tuner) (1.8.0)\n",
      "Requirement already satisfied: wheel>=0.26 in /usr/local/lib/python3.8/dist-packages (from tensorboard->keras_tuner) (0.37.0)\n",
      "Requirement already satisfied: protobuf>=3.6.0 in /usr/local/lib/python3.8/dist-packages (from tensorboard->keras_tuner) (3.17.3)\n",
      "Requirement already satisfied: markdown>=2.6.8 in /usr/local/lib/python3.8/dist-packages (from tensorboard->keras_tuner) (3.3.4)\n",
      "Requirement already satisfied: six in /usr/local/lib/python3.8/dist-packages (from absl-py>=0.4->tensorboard->keras_tuner) (1.15.0)\n",
      "Requirement already satisfied: rsa<5,>=3.1.4 in /usr/local/lib/python3.8/dist-packages (from google-auth<2,>=1.6.3->tensorboard->keras_tuner) (4.7.2)\n",
      "Requirement already satisfied: pyasn1-modules>=0.2.1 in /usr/local/lib/python3.8/dist-packages (from google-auth<2,>=1.6.3->tensorboard->keras_tuner) (0.2.8)\n",
      "Requirement already satisfied: cachetools<5.0,>=2.0.0 in /usr/local/lib/python3.8/dist-packages (from google-auth<2,>=1.6.3->tensorboard->keras_tuner) (4.2.2)\n",
      "Requirement already satisfied: requests-oauthlib>=0.7.0 in /usr/local/lib/python3.8/dist-packages (from google-auth-oauthlib<0.5,>=0.4.1->tensorboard->keras_tuner) (1.3.0)\n",
      "Requirement already satisfied: pyasn1<0.5.0,>=0.4.6 in /usr/local/lib/python3.8/dist-packages (from pyasn1-modules>=0.2.1->google-auth<2,>=1.6.3->tensorboard->keras_tuner) (0.4.8)\n",
      "Requirement already satisfied: oauthlib>=3.0.0 in /usr/local/lib/python3.8/dist-packages (from requests-oauthlib>=0.7.0->google-auth-oauthlib<0.5,>=0.4.1->tensorboard->keras_tuner) (3.1.1)\n",
      "Installing collected packages: kt-legacy, keras-tuner\n",
      "Successfully installed keras-tuner-1.1.0 kt-legacy-1.0.4\n",
      "\u001b[33mWARNING: Running pip as the 'root' user can result in broken permissions and conflicting behaviour with the system package manager. It is recommended to use a virtual environment instead: https://pip.pypa.io/warnings/venv\u001b[0m\n",
      "\u001b[33mWARNING: You are using pip version 21.2.4; however, version 22.0.3 is available.\n",
      "You should consider upgrading via the '/usr/bin/python -m pip install --upgrade pip' command.\u001b[0m\n"
     ]
    }
   ],
   "source": [
    "!pip3 install pandas\n",
    "!pip3 install pendulum\n",
    "!pip3 install keras_tuner"
   ]
  },
  {
   "cell_type": "code",
   "execution_count": 3,
   "id": "5fac14ae",
   "metadata": {},
   "outputs": [],
   "source": [
    "import tensorflow as tf"
   ]
  },
  {
   "cell_type": "code",
   "execution_count": 4,
   "id": "2ff71cf0",
   "metadata": {},
   "outputs": [
    {
     "name": "stdout",
     "output_type": "stream",
     "text": [
      "Downloading data from https://www.cs.toronto.edu/~kriz/cifar-10-python.tar.gz\n",
      "170500096/170498071 [==============================] - 10s 0us/step\n",
      "170508288/170498071 [==============================] - 10s 0us/step\n"
     ]
    },
    {
     "name": "stderr",
     "output_type": "stream",
     "text": [
      "2022-02-15 06:37:23.912774: I tensorflow/stream_executor/cuda/cuda_gpu_executor.cc:1050] successful NUMA node read from SysFS had negative value (-1), but there must be at least one NUMA node, so returning NUMA node zero\n",
      "2022-02-15 06:37:23.923033: I tensorflow/stream_executor/cuda/cuda_gpu_executor.cc:1050] successful NUMA node read from SysFS had negative value (-1), but there must be at least one NUMA node, so returning NUMA node zero\n",
      "2022-02-15 06:37:23.923646: I tensorflow/stream_executor/cuda/cuda_gpu_executor.cc:1050] successful NUMA node read from SysFS had negative value (-1), but there must be at least one NUMA node, so returning NUMA node zero\n",
      "2022-02-15 06:37:23.925789: I tensorflow/stream_executor/cuda/cuda_gpu_executor.cc:1050] successful NUMA node read from SysFS had negative value (-1), but there must be at least one NUMA node, so returning NUMA node zero\n",
      "2022-02-15 06:37:23.926400: I tensorflow/stream_executor/cuda/cuda_gpu_executor.cc:1050] successful NUMA node read from SysFS had negative value (-1), but there must be at least one NUMA node, so returning NUMA node zero\n",
      "2022-02-15 06:37:23.926932: I tensorflow/stream_executor/cuda/cuda_gpu_executor.cc:1050] successful NUMA node read from SysFS had negative value (-1), but there must be at least one NUMA node, so returning NUMA node zero\n",
      "2022-02-15 06:37:24.680943: I tensorflow/stream_executor/cuda/cuda_gpu_executor.cc:1050] successful NUMA node read from SysFS had negative value (-1), but there must be at least one NUMA node, so returning NUMA node zero\n",
      "2022-02-15 06:37:24.681512: I tensorflow/stream_executor/cuda/cuda_gpu_executor.cc:1050] successful NUMA node read from SysFS had negative value (-1), but there must be at least one NUMA node, so returning NUMA node zero\n",
      "2022-02-15 06:37:24.682046: I tensorflow/stream_executor/cuda/cuda_gpu_executor.cc:1050] successful NUMA node read from SysFS had negative value (-1), but there must be at least one NUMA node, so returning NUMA node zero\n",
      "2022-02-15 06:37:24.682551: I tensorflow/core/common_runtime/gpu/gpu_device.cc:1510] Created device /job:localhost/replica:0/task:0/device:GPU:0 with 6696 MB memory:  -> device: 0, name: Quadro RTX 4000, pci bus id: 0000:00:05.0, compute capability: 7.5\n"
     ]
    },
    {
     "name": "stdout",
     "output_type": "stream",
     "text": [
      "Downloading data from https://storage.googleapis.com/keras-applications/efficientnetb7.h5\n",
      "268328960/268326632 [==============================] - 12s 0us/step\n",
      "268337152/268326632 [==============================] - 12s 0us/step\n"
     ]
    }
   ],
   "source": [
    "\n",
    "\n",
    "BASE_MODEL_INPUT_SHAPE = (600,600,3)\n",
    "\n",
    "cifar = tf.keras.datasets.cifar10.load_data()\n",
    "(x_train, y_train), (x_test, y_test) = cifar\n",
    "\n",
    "\n",
    "mod_with_fc_raw = tf.keras.applications.efficientnet.EfficientNetB7(\n",
    "    include_top=True, weights='imagenet', input_tensor=None,\n",
    "    input_shape = BASE_MODEL_INPUT_SHAPE, pooling='max', classes=1000\n",
    ")\n",
    "\n",
    "# Make the deepest conv2d layer trainable, leave everything else\n",
    "# as not trainable\n",
    "for layer in mod_with_fc_raw.layers:\n",
    "    layer.trainable = False\n",
    "# Last conv2d layer. This we want to train .\n",
    "mod_with_fc_raw.layers[-6].trainable = True\n",
    "\n",
    "# Create the final base model\n",
    "# (remove the final Dense and BatchNormalization layers ...) \n",
    "efficient_net_b_7_transferable_base_model =\\\n",
    "    tf.keras.Model(inputs=mod_with_fc_raw.layers[0].input, \n",
    "                    outputs=mod_with_fc_raw.layers[-3].output)\n"
   ]
  },
  {
   "cell_type": "code",
   "execution_count": 19,
   "id": "8e2fefe6",
   "metadata": {},
   "outputs": [],
   "source": [
    "TRAINING_SET_SIZE = 1000\n",
    "\n",
    "y_train_ohe = tf.one_hot([i[0] for i in  y_train],10)\n",
    "indexes_for_rows = tf.range(0,y_train.shape[0])\n",
    "shuffled_indexes = tf.random.shuffle(indexes_for_rows)\n",
    "selected_indexes = shuffled_indexes[:TRAINING_SET_SIZE]\n",
    "selected_x_train = x_train[selected_indexes,:,:,:]\n",
    "selected_y_train_ohe = y_train_ohe.numpy()[selected_indexes,:]"
   ]
  },
  {
   "cell_type": "code",
   "execution_count": 5,
   "id": "80d43ba6",
   "metadata": {},
   "outputs": [],
   "source": [
    "from residualmlp.residual_mlp import ResidualMLP"
   ]
  },
  {
   "cell_type": "code",
   "execution_count": 6,
   "id": "ad584cf5",
   "metadata": {},
   "outputs": [
    {
     "data": {
      "text/plain": [
       "FullArgSpec(args=['self', 'problem_type', 'learning_rate', 'minimum_learning_rate', 'maximum_learning_rate', 'number_of_learning_rates_to_try', 'input_shape', 'bw_images', 'base_model', 'base_model_input_shape', 'base_model_hyperparameters', 'flatten_after_base_model', 'blocks', 'minimum_number_of_blocks', 'maximum_number_of_blocks', 'minimum_number_of_layers_per_block', 'maximum_number_of_layers_per_block', 'minimum_neurons_per_block_layer', 'maximum_neurons_per_block_layer', 'n_options_of_neurons_per_layer_to_try', 'minimum_neurons_per_block_layer_decay', 'maximum_neurons_per_block_layer_decay', 'residual_bypass_dense_layers', 'b_norm_or_dropout_residual_bypass_layers', 'dropout_rate_for_bypass_layers', 'minimum_dropout_rate_for_bypass_layers', 'maximim_dropout_rate_for_bypass_layers', 'n_options_dropout_rate_for_bypass_layers', 'inter_block_layers_per_block', 'minimum_inter_block_layers_per_block', 'maximum_inter_block_layers_per_block', 'n_options_inter_block_layers_per_block', 'b_norm_or_dropout_last_layers', 'dropout_rate', 'minimum_dropout_rate', 'maximum_dropout_rate', 'n_options_dropout_rate', 'activation', 'final_dense_layers', 'minimum_final_dense_layers', 'maximum_final_dense_layers', 'n_options_final_dense_layers', 'number_of_classes', 'final_activation', 'loss'], varargs=None, varkw=None, defaults=('classification', 0.0007, 7e-05, 0.7, 5, (32, 32, 3), False, '', (600, 600, 3), {}, True, [[5, 400, 50]], 1, 7, 1, 7, 3, 30, 7, 1, 7, [], 'dropout', 0.35, 0.01, 0.7, 7, [], 3, 30, 7, 'dropout', 0.2, 0.01, 0.7, 7, <function relu at 0x7ff0fd8f4040>, [75, 35], 0, 30, 2, 10, <function softmax at 0x7ff11e684790>, <keras.losses.CategoricalCrossentropy object at 0x7ff034787f70>), kwonlyargs=[], kwonlydefaults=None, annotations={})"
      ]
     },
     "execution_count": 6,
     "metadata": {},
     "output_type": "execute_result"
    }
   ],
   "source": [
    "from inspect import getfullargspec\n",
    "getfullargspec(ResidualMLP)"
   ]
  },
  {
   "cell_type": "code",
   "execution_count": 17,
   "id": "fea060dd",
   "metadata": {},
   "outputs": [
    {
     "data": {
      "text/plain": [
       "<tf.Tensor: shape=(10, 200), dtype=float32, numpy=\n",
       "array([[0.        , 0.07617854, 0.        , ..., 0.        , 0.        ,\n",
       "        0.        ],\n",
       "       [0.06186103, 0.        , 0.13261008, ..., 0.        , 0.06380671,\n",
       "        0.        ],\n",
       "       [0.        , 0.        , 0.19236365, ..., 0.        , 0.        ,\n",
       "        0.        ],\n",
       "       ...,\n",
       "       [0.        , 0.02141286, 0.08560591, ..., 0.        , 0.        ,\n",
       "        0.        ],\n",
       "       [0.        , 0.00703841, 0.03448487, ..., 0.        , 0.10118318,\n",
       "        0.        ],\n",
       "       [0.        , 0.        , 0.07446887, ..., 0.        , 0.        ,\n",
       "        0.        ]], dtype=float32)>"
      ]
     },
     "execution_count": 17,
     "metadata": {},
     "output_type": "execute_result"
    }
   ],
   "source": [
    "# [batch, timesteps, feature]\n",
    "\n",
    "BATCH = 5\n",
    "STEPS = 20\n",
    "NEURONS_GRU_MLP = 50\n",
    "NEURONS_EFF_MLP = 50\n",
    "\n",
    "inp = tf.keras.layers.Input(shape=(32,32,3))\n",
    "x = tf.keras.layers.Resizing(600,600)(inp)\n",
    "y = inp\n",
    "\n",
    "x = efficient_net_b_7_transferable_base_model(x)\n",
    "x = tf.keras.layers.BatchNormalization()(x)\n",
    "x = tf.keras.layers.Dense(NEURONS_EFF_MLP,\n",
    "                        activation=tf.keras.activations.relu, \n",
    "                        kernel_initializer=tf.keras.initializers.GlorotNormal)(x)\n",
    "x_residual = x\n",
    "\n",
    "x = tf.keras.layers.BatchNormalization()(x)\n",
    "x = tf.keras.layers.Dense(NEURONS_EFF_MLP,\n",
    "                        activation=tf.keras.activations.relu, \n",
    "                        kernel_initializer=tf.keras.initializers.GlorotNormal)(x)\n",
    "x = tf.keras.layers.Concatenate(axis=1)([x,x_residual])\n",
    "\n",
    "y_ch0 = y[:,:,:,0] # tf.keras.layers.Flatten()\n",
    "y_ch1 = y[:,:,:,1] # tf.keras.layers.Flatten()(\n",
    "y_ch2 = y[:,:,:,2] # tf.keras.layers.Flatten()()\n",
    "\n",
    "y_ch0, y_ch0_state  = tf.keras.layers.GRU(32,input_shape=(None,32,32),return_sequences=True, return_state=True)(y_ch0)\n",
    "y_ch1, y_ch1_state  = tf.keras.layers.GRU(32,input_shape=(None,32,32),return_sequences=True, return_state=True)(y_ch1)\n",
    "y_ch2, y_ch2_state  = tf.keras.layers.GRU(32,input_shape=(None,32,32),return_sequences=True, return_state=True)(y_ch2)\n",
    "\n",
    "y_ch0 = tf.keras.layers.GRU(32,input_shape=(None,32,32))([y_ch0,y_ch0_state])\n",
    "y_ch1 = tf.keras.layers.GRU(32,input_shape=(None,32,32))([y_ch1,y_ch1_state])\n",
    "y_ch2 = tf.keras.layers.GRU(32,input_shape=(None,32,32))([y_ch2,y_ch2_state])\n",
    "\n",
    "y = tf.keras.layers.Concatenate(axis=1)([y_ch0,y_ch1,y_ch2])\n",
    "\n",
    "y = tf.keras.layers.BatchNormalization()(y)\n",
    "y = tf.keras.layers.Dense(NEURONS_GRU_MLP,\n",
    "                        activation=tf.keras.activations.relu, \n",
    "                        kernel_initializer=tf.keras.initializers.GlorotNormal)(y)\n",
    "\n",
    "y_residual = y\n",
    "\n",
    "y = tf.keras.layers.BatchNormalization()(y)\n",
    "y = tf.keras.layers.Dense(NEURONS_GRU_MLP,\n",
    "                        activation=tf.keras.activations.relu, \n",
    "                        kernel_initializer=tf.keras.initializers.GlorotNormal)(y)\n",
    "y = tf.keras.layers.Concatenate(axis=1)([y,y_residual])\n",
    "\n",
    "final_base_model_output = tf.keras.layers.Concatenate(axis=1)([x,y])\n",
    "\n",
    "concatenated_efficientnet_gru_model = tf.keras.Model(inputs=inp,outputs=final_base_model_output)\n",
    "\n",
    "concatenated_efficientnet_gru_model(x_train[:10])\n",
    "\n"
   ]
  },
  {
   "cell_type": "code",
   "execution_count": 23,
   "id": "2ccff325",
   "metadata": {},
   "outputs": [
    {
     "name": "stdout",
     "output_type": "stream",
     "text": [
      "Model: \"model_7\"\n",
      "__________________________________________________________________________________________________\n",
      "Layer (type)                    Output Shape         Param #     Connected to                     \n",
      "==================================================================================================\n",
      "input_9 (InputLayer)            [(None, 32, 32, 3)]  0                                            \n",
      "__________________________________________________________________________________________________\n",
      "tf.__operators__.getitem_21 (Sl (None, 32, 32)       0           input_9[0][0]                    \n",
      "__________________________________________________________________________________________________\n",
      "tf.__operators__.getitem_22 (Sl (None, 32, 32)       0           input_9[0][0]                    \n",
      "__________________________________________________________________________________________________\n",
      "tf.__operators__.getitem_23 (Sl (None, 32, 32)       0           input_9[0][0]                    \n",
      "__________________________________________________________________________________________________\n",
      "gru_42 (GRU)                    [(None, 32, 32), (No 6336        tf.__operators__.getitem_21[0][0]\n",
      "__________________________________________________________________________________________________\n",
      "gru_43 (GRU)                    [(None, 32, 32), (No 6336        tf.__operators__.getitem_22[0][0]\n",
      "__________________________________________________________________________________________________\n",
      "gru_44 (GRU)                    [(None, 32, 32), (No 6336        tf.__operators__.getitem_23[0][0]\n",
      "__________________________________________________________________________________________________\n",
      "resizing_7 (Resizing)           (None, 600, 600, 3)  0           input_9[0][0]                    \n",
      "__________________________________________________________________________________________________\n",
      "gru_45 (GRU)                    (None, 32)           6336        gru_42[0][0]                     \n",
      "                                                                 gru_42[0][1]                     \n",
      "__________________________________________________________________________________________________\n",
      "gru_46 (GRU)                    (None, 32)           6336        gru_43[0][0]                     \n",
      "                                                                 gru_43[0][1]                     \n",
      "__________________________________________________________________________________________________\n",
      "gru_47 (GRU)                    (None, 32)           6336        gru_44[0][0]                     \n",
      "                                                                 gru_44[0][1]                     \n",
      "__________________________________________________________________________________________________\n",
      "model (Functional)              (None, 2560)         64097687    resizing_7[0][0]                 \n",
      "__________________________________________________________________________________________________\n",
      "concatenate_23 (Concatenate)    (None, 96)           0           gru_45[0][0]                     \n",
      "                                                                 gru_46[0][0]                     \n",
      "                                                                 gru_47[0][0]                     \n",
      "__________________________________________________________________________________________________\n",
      "batch_normalization_24 (BatchNo (None, 2560)         10240       model[7][0]                      \n",
      "__________________________________________________________________________________________________\n",
      "batch_normalization_26 (BatchNo (None, 96)           384         concatenate_23[0][0]             \n",
      "__________________________________________________________________________________________________\n",
      "dense_23 (Dense)                (None, 50)           128050      batch_normalization_24[0][0]     \n",
      "__________________________________________________________________________________________________\n",
      "dense_25 (Dense)                (None, 50)           4850        batch_normalization_26[0][0]     \n",
      "__________________________________________________________________________________________________\n",
      "batch_normalization_25 (BatchNo (None, 50)           200         dense_23[0][0]                   \n",
      "__________________________________________________________________________________________________\n",
      "batch_normalization_27 (BatchNo (None, 50)           200         dense_25[0][0]                   \n",
      "__________________________________________________________________________________________________\n",
      "dense_24 (Dense)                (None, 50)           2550        batch_normalization_25[0][0]     \n",
      "__________________________________________________________________________________________________\n",
      "dense_26 (Dense)                (None, 50)           2550        batch_normalization_27[0][0]     \n",
      "__________________________________________________________________________________________________\n",
      "concatenate_22 (Concatenate)    (None, 100)          0           dense_24[0][0]                   \n",
      "                                                                 dense_23[0][0]                   \n",
      "__________________________________________________________________________________________________\n",
      "concatenate_24 (Concatenate)    (None, 100)          0           dense_26[0][0]                   \n",
      "                                                                 dense_25[0][0]                   \n",
      "__________________________________________________________________________________________________\n",
      "concatenate_25 (Concatenate)    (None, 200)          0           concatenate_22[0][0]             \n",
      "                                                                 concatenate_24[0][0]             \n",
      "==================================================================================================\n",
      "Total params: 64,284,727\n",
      "Trainable params: 1,819,928\n",
      "Non-trainable params: 62,464,799\n",
      "__________________________________________________________________________________________________\n"
     ]
    }
   ],
   "source": [
    "concatenated_efficientnet_gru_model.summary()"
   ]
  },
  {
   "cell_type": "code",
   "execution_count": 32,
   "id": "34603c04",
   "metadata": {},
   "outputs": [],
   "source": [
    "\n",
    "# test base model by itself\n",
    "\n",
    "inp_test = tf.keras.layers.Input(shape=(32,32,3))\n",
    "x = concatenated_efficientnet_gru_model(inp_test)\n",
    "output_test = tf.keras.layers.Dense(10,activation=\"softmax\")(x)\n",
    "test_model = tf.keras.Model(inputs=inp_test,outputs=output_test)\n",
    "\n",
    "test_model.compile(optimizer=\\\n",
    "                     tf.keras.optimizers.Adam(\n",
    "                         .0001, \n",
    "                         clipnorm=1.0),\n",
    "                         loss=tf.keras.losses.CategoricalCrossentropy(), \n",
    "                         metrics=[tf.keras.metrics.TopKCategoricalAccuracy(k = 1)])"
   ]
  },
  {
   "cell_type": "code",
   "execution_count": 18,
   "id": "c291f2f8",
   "metadata": {},
   "outputs": [],
   "source": [
    "# Train base model:"
   ]
  },
  {
   "cell_type": "code",
   "execution_count": 33,
   "id": "101ade9c",
   "metadata": {},
   "outputs": [
    {
     "name": "stderr",
     "output_type": "stream",
     "text": [
      "2022-02-15 07:09:53.259512: I tensorflow/core/profiler/lib/profiler_session.cc:131] Profiler session initializing.\n",
      "2022-02-15 07:09:53.259557: I tensorflow/core/profiler/lib/profiler_session.cc:146] Profiler session started.\n",
      "2022-02-15 07:09:53.701729: I tensorflow/core/profiler/lib/profiler_session.cc:164] Profiler session tear down.\n",
      "2022-02-15 07:09:53.702063: I tensorflow/core/profiler/internal/gpu/cupti_tracer.cc:1749] CUPTI activity buffer flushed\n"
     ]
    },
    {
     "name": "stdout",
     "output_type": "stream",
     "text": [
      "Epoch 1/10\n",
      "  1/140 [..............................] - ETA: 46:39 - loss: 3.4724 - top_k_categorical_accuracy: 0.0000e+00"
     ]
    },
    {
     "name": "stderr",
     "output_type": "stream",
     "text": [
      "2022-02-15 07:10:15.703146: I tensorflow/core/profiler/lib/profiler_session.cc:131] Profiler session initializing.\n",
      "2022-02-15 07:10:15.703206: I tensorflow/core/profiler/lib/profiler_session.cc:146] Profiler session started.\n"
     ]
    },
    {
     "name": "stdout",
     "output_type": "stream",
     "text": [
      "\b\b\b\b\b\b\b\b\b\b\b\b\b\b\b\b\b\b\b\b\b\b\b\b\b\b\b\b\b\b\b\b\b\b\b\b\b\b\b\b\b\b\b\b\b\b\b\b\b\b\b\b\b\b\b\b\b\b\b\b\b\b\b\b\b\b\b\b\b\b\b\b\b\b\b\b\b\b\b\b\b\b\b\b\b\b\b\b\b\b\b\b\b\b\b\b\b\b\b\b\b\b\b\b\b\b\b\b\b\r",
      "  2/140 [..............................] - ETA: 4:49 - loss: 3.0297 - top_k_categorical_accuracy: 0.1000     "
     ]
    },
    {
     "name": "stderr",
     "output_type": "stream",
     "text": [
      "2022-02-15 07:10:16.937668: I tensorflow/core/profiler/lib/profiler_session.cc:66] Profiler session collecting data.\n",
      "2022-02-15 07:10:16.938234: I tensorflow/core/profiler/internal/gpu/cupti_tracer.cc:1749] CUPTI activity buffer flushed\n",
      "2022-02-15 07:10:17.029178: I tensorflow/core/profiler/internal/gpu/cupti_collector.cc:673]  GpuTracer has collected 5169 callback api events and 4821 activity events. \n",
      "2022-02-15 07:10:17.132387: I tensorflow/core/profiler/lib/profiler_session.cc:164] Profiler session tear down.\n",
      "2022-02-15 07:10:17.304608: I tensorflow/core/profiler/rpc/client/save_profile.cc:136] Creating directory: logs/2022-02-15_efficientnet_concat_gru_model_TB/train/plugins/profile/2022_02_15_07_10_17\n",
      "\n",
      "2022-02-15 07:10:17.373686: I tensorflow/core/profiler/rpc/client/save_profile.cc:142] Dumped gzipped tool data for trace.json.gz to logs/2022-02-15_efficientnet_concat_gru_model_TB/train/plugins/profile/2022_02_15_07_10_17/na45u7x1si.trace.json.gz\n",
      "2022-02-15 07:10:17.512950: I tensorflow/core/profiler/rpc/client/save_profile.cc:136] Creating directory: logs/2022-02-15_efficientnet_concat_gru_model_TB/train/plugins/profile/2022_02_15_07_10_17\n",
      "\n",
      "2022-02-15 07:10:17.545138: I tensorflow/core/profiler/rpc/client/save_profile.cc:142] Dumped gzipped tool data for memory_profile.json.gz to logs/2022-02-15_efficientnet_concat_gru_model_TB/train/plugins/profile/2022_02_15_07_10_17/na45u7x1si.memory_profile.json.gz\n",
      "2022-02-15 07:10:17.574385: I tensorflow/core/profiler/rpc/client/capture_profile.cc:251] Creating directory: logs/2022-02-15_efficientnet_concat_gru_model_TB/train/plugins/profile/2022_02_15_07_10_17\n",
      "Dumped tool data for xplane.pb to logs/2022-02-15_efficientnet_concat_gru_model_TB/train/plugins/profile/2022_02_15_07_10_17/na45u7x1si.xplane.pb\n",
      "Dumped tool data for overview_page.pb to logs/2022-02-15_efficientnet_concat_gru_model_TB/train/plugins/profile/2022_02_15_07_10_17/na45u7x1si.overview_page.pb\n",
      "Dumped tool data for input_pipeline.pb to logs/2022-02-15_efficientnet_concat_gru_model_TB/train/plugins/profile/2022_02_15_07_10_17/na45u7x1si.input_pipeline.pb\n",
      "Dumped tool data for tensorflow_stats.pb to logs/2022-02-15_efficientnet_concat_gru_model_TB/train/plugins/profile/2022_02_15_07_10_17/na45u7x1si.tensorflow_stats.pb\n",
      "Dumped tool data for kernel_stats.pb to logs/2022-02-15_efficientnet_concat_gru_model_TB/train/plugins/profile/2022_02_15_07_10_17/na45u7x1si.kernel_stats.pb\n",
      "\n"
     ]
    },
    {
     "name": "stdout",
     "output_type": "stream",
     "text": [
      "140/140 [==============================] - 84s 456ms/step - loss: 1.8449 - top_k_categorical_accuracy: 0.3486 - val_loss: 1.5545 - val_top_k_categorical_accuracy: 0.5967\n",
      "Epoch 2/10\n",
      "140/140 [==============================] - 56s 399ms/step - loss: 0.8290 - top_k_categorical_accuracy: 0.7257 - val_loss: 0.8769 - val_top_k_categorical_accuracy: 0.7467\n",
      "Epoch 3/10\n",
      "140/140 [==============================] - 56s 400ms/step - loss: 0.5069 - top_k_categorical_accuracy: 0.8529 - val_loss: 0.6809 - val_top_k_categorical_accuracy: 0.7767\n",
      "Epoch 4/10\n",
      "140/140 [==============================] - 56s 400ms/step - loss: 0.3956 - top_k_categorical_accuracy: 0.8771 - val_loss: 0.6608 - val_top_k_categorical_accuracy: 0.8033\n",
      "Epoch 5/10\n",
      "140/140 [==============================] - 56s 400ms/step - loss: 0.3103 - top_k_categorical_accuracy: 0.9029 - val_loss: 0.6735 - val_top_k_categorical_accuracy: 0.8067\n",
      "Epoch 6/10\n",
      "140/140 [==============================] - 56s 400ms/step - loss: 0.2850 - top_k_categorical_accuracy: 0.9114 - val_loss: 0.6612 - val_top_k_categorical_accuracy: 0.8067\n",
      "Epoch 7/10\n",
      "140/140 [==============================] - 56s 400ms/step - loss: 0.1958 - top_k_categorical_accuracy: 0.9486 - val_loss: 0.7173 - val_top_k_categorical_accuracy: 0.8000\n"
     ]
    }
   ],
   "source": [
    "import os\n",
    "BATCH_SIZE = 5\n",
    "PATIENCE = 3\n",
    "PATIENCE_MIN_DELTA = .002\n",
    "RESULTS_DIR_FOR_FINAL_MODEL = \"2022-02-15_efficientnet_concat_gru_model\"\n",
    "\n",
    "logdir_final_model = os.path.join(\"logs\",\n",
    "                                  RESULTS_DIR_FOR_FINAL_MODEL + \"_TB\")\n",
    "tensorboard_callback_final =\\\n",
    "    tf.keras.callbacks.TensorBoard(logdir_final_model, histogram_freq=1)\n",
    "\n",
    "history = test_model.fit(x=selected_x_train,  \n",
    "                    y=selected_y_train_ohe, \n",
    "                    batch_size=BATCH_SIZE, \n",
    "                    epochs=10,      \n",
    "                    verbose='auto', \n",
    "                    callbacks=[tf.keras.callbacks.\\\n",
    "                               EarlyStopping(monitor='val_loss',\n",
    "                                             patience=PATIENCE,\n",
    "                                             min_delta=PATIENCE_MIN_DELTA,\n",
    "                                             restore_best_weights=True),\n",
    "                            tensorboard_callback_final], \n",
    "                    validation_split=0.3,\n",
    "                    validation_data=None,\n",
    "                    shuffle=True,\n",
    "                    class_weight=None, \n",
    "                    sample_weight=None, \n",
    "                    initial_epoch=0, \n",
    "                    steps_per_epoch=None, \n",
    "                    validation_steps=None, \n",
    "                    validation_batch_size=10, \n",
    "                    validation_freq=1, \n",
    "                    max_queue_size=10, \n",
    "                    workers=5, \n",
    "                    use_multiprocessing=True)"
   ]
  },
  {
   "cell_type": "code",
   "execution_count": 39,
   "id": "f8e17f81",
   "metadata": {},
   "outputs": [
    {
     "name": "stdout",
     "output_type": "stream",
     "text": [
      "Collecting matplotlib\n",
      "  Downloading matplotlib-3.5.1-cp38-cp38-manylinux_2_5_x86_64.manylinux1_x86_64.whl (11.3 MB)\n",
      "\u001b[K     |████████████████████████████████| 11.3 MB 20.6 MB/s eta 0:00:01\n",
      "\u001b[?25hRequirement already satisfied: numpy>=1.17 in /usr/local/lib/python3.8/dist-packages (from matplotlib) (1.19.4)\n",
      "Collecting pillow>=6.2.0\n",
      "  Downloading Pillow-9.0.1-cp38-cp38-manylinux_2_17_x86_64.manylinux2014_x86_64.whl (4.3 MB)\n",
      "\u001b[K     |████████████████████████████████| 4.3 MB 27.0 MB/s eta 0:00:01\n",
      "\u001b[?25hRequirement already satisfied: packaging>=20.0 in /usr/local/lib/python3.8/dist-packages (from matplotlib) (21.0)\n",
      "Requirement already satisfied: python-dateutil>=2.7 in /usr/local/lib/python3.8/dist-packages (from matplotlib) (2.8.2)\n",
      "Collecting cycler>=0.10\n",
      "  Downloading cycler-0.11.0-py3-none-any.whl (6.4 kB)\n",
      "Collecting fonttools>=4.22.0\n",
      "  Downloading fonttools-4.29.1-py3-none-any.whl (895 kB)\n",
      "\u001b[K     |████████████████████████████████| 895 kB 27.0 MB/s eta 0:00:01\n",
      "\u001b[?25hCollecting kiwisolver>=1.0.1\n",
      "  Downloading kiwisolver-1.3.2-cp38-cp38-manylinux_2_5_x86_64.manylinux1_x86_64.whl (1.2 MB)\n",
      "\u001b[K     |████████████████████████████████| 1.2 MB 28.2 MB/s eta 0:00:01\n",
      "\u001b[?25hRequirement already satisfied: pyparsing>=2.2.1 in /usr/local/lib/python3.8/dist-packages (from matplotlib) (2.4.7)\n",
      "Requirement already satisfied: six>=1.5 in /usr/local/lib/python3.8/dist-packages (from python-dateutil>=2.7->matplotlib) (1.15.0)\n",
      "Installing collected packages: pillow, kiwisolver, fonttools, cycler, matplotlib\n",
      "Successfully installed cycler-0.11.0 fonttools-4.29.1 kiwisolver-1.3.2 matplotlib-3.5.1 pillow-9.0.1\n",
      "\u001b[33mWARNING: Running pip as the 'root' user can result in broken permissions and conflicting behaviour with the system package manager. It is recommended to use a virtual environment instead: https://pip.pypa.io/warnings/venv\u001b[0m\n",
      "\u001b[33mWARNING: You are using pip version 21.2.4; however, version 22.0.3 is available.\n",
      "You should consider upgrading via the '/usr/bin/python -m pip install --upgrade pip' command.\u001b[0m\n"
     ]
    }
   ],
   "source": [
    "!pip3 install matplotlib\n",
    "import pandas as pd\n",
    "import matplotlib.pyplot as plt\n",
    "hy = pd.DataFrame(history.history)"
   ]
  },
  {
   "cell_type": "code",
   "execution_count": 35,
   "id": "afea9d96",
   "metadata": {},
   "outputs": [
    {
     "data": {
      "text/html": [
       "<div>\n",
       "<style scoped>\n",
       "    .dataframe tbody tr th:only-of-type {\n",
       "        vertical-align: middle;\n",
       "    }\n",
       "\n",
       "    .dataframe tbody tr th {\n",
       "        vertical-align: top;\n",
       "    }\n",
       "\n",
       "    .dataframe thead th {\n",
       "        text-align: right;\n",
       "    }\n",
       "</style>\n",
       "<table border=\"1\" class=\"dataframe\">\n",
       "  <thead>\n",
       "    <tr style=\"text-align: right;\">\n",
       "      <th></th>\n",
       "      <th>loss</th>\n",
       "      <th>top_k_categorical_accuracy</th>\n",
       "      <th>val_loss</th>\n",
       "      <th>val_top_k_categorical_accuracy</th>\n",
       "    </tr>\n",
       "  </thead>\n",
       "  <tbody>\n",
       "    <tr>\n",
       "      <th>0</th>\n",
       "      <td>1.844856</td>\n",
       "      <td>0.348571</td>\n",
       "      <td>1.554503</td>\n",
       "      <td>0.596667</td>\n",
       "    </tr>\n",
       "    <tr>\n",
       "      <th>1</th>\n",
       "      <td>0.828951</td>\n",
       "      <td>0.725714</td>\n",
       "      <td>0.876880</td>\n",
       "      <td>0.746667</td>\n",
       "    </tr>\n",
       "    <tr>\n",
       "      <th>2</th>\n",
       "      <td>0.506860</td>\n",
       "      <td>0.852857</td>\n",
       "      <td>0.680901</td>\n",
       "      <td>0.776667</td>\n",
       "    </tr>\n",
       "    <tr>\n",
       "      <th>3</th>\n",
       "      <td>0.395619</td>\n",
       "      <td>0.877143</td>\n",
       "      <td>0.660770</td>\n",
       "      <td>0.803333</td>\n",
       "    </tr>\n",
       "    <tr>\n",
       "      <th>4</th>\n",
       "      <td>0.310284</td>\n",
       "      <td>0.902857</td>\n",
       "      <td>0.673487</td>\n",
       "      <td>0.806667</td>\n",
       "    </tr>\n",
       "    <tr>\n",
       "      <th>5</th>\n",
       "      <td>0.284952</td>\n",
       "      <td>0.911429</td>\n",
       "      <td>0.661234</td>\n",
       "      <td>0.806667</td>\n",
       "    </tr>\n",
       "    <tr>\n",
       "      <th>6</th>\n",
       "      <td>0.195833</td>\n",
       "      <td>0.948571</td>\n",
       "      <td>0.717285</td>\n",
       "      <td>0.800000</td>\n",
       "    </tr>\n",
       "  </tbody>\n",
       "</table>\n",
       "</div>"
      ],
      "text/plain": [
       "       loss  top_k_categorical_accuracy  val_loss  \\\n",
       "0  1.844856                    0.348571  1.554503   \n",
       "1  0.828951                    0.725714  0.876880   \n",
       "2  0.506860                    0.852857  0.680901   \n",
       "3  0.395619                    0.877143  0.660770   \n",
       "4  0.310284                    0.902857  0.673487   \n",
       "5  0.284952                    0.911429  0.661234   \n",
       "6  0.195833                    0.948571  0.717285   \n",
       "\n",
       "   val_top_k_categorical_accuracy  \n",
       "0                        0.596667  \n",
       "1                        0.746667  \n",
       "2                        0.776667  \n",
       "3                        0.803333  \n",
       "4                        0.806667  \n",
       "5                        0.806667  \n",
       "6                        0.800000  "
      ]
     },
     "execution_count": 35,
     "metadata": {},
     "output_type": "execute_result"
    }
   ],
   "source": [
    "hy"
   ]
  },
  {
   "cell_type": "code",
   "execution_count": 40,
   "id": "6ed6594d",
   "metadata": {},
   "outputs": [
    {
     "data": {
      "text/plain": [
       "<AxesSubplot:>"
      ]
     },
     "execution_count": 40,
     "metadata": {},
     "output_type": "execute_result"
    },
    {
     "data": {
      "image/png": "[encoded data removed]",
      "text/plain": [
       "<Figure size 432x288 with 1 Axes>"
      ]
     },
     "metadata": {
      "needs_background": "light"
     },
     "output_type": "display_data"
    }
   ],
   "source": [
    "hy[[\"top_k_categorical_accuracy\",\"val_top_k_categorical_accuracy\"]].plot()"
   ]
  },
  {
   "cell_type": "code",
   "execution_count": 41,
   "id": "cbc48545",
   "metadata": {},
   "outputs": [
    {
     "data": {
      "text/plain": [
       "<AxesSubplot:>"
      ]
     },
     "execution_count": 41,
     "metadata": {},
     "output_type": "execute_result"
    },
    {
     "data": {
      "image/png": "[encoded data removed]",
      "text/plain": [
       "<Figure size 432x288 with 1 Axes>"
      ]
     },
     "metadata": {
      "needs_background": "light"
     },
     "output_type": "display_data"
    }
   ],
   "source": [
    "hy[[\"loss\",\"val_loss\"]].plot()"
   ]
  },
  {
   "cell_type": "code",
   "execution_count": null,
   "id": "d20ff401",
   "metadata": {},
   "outputs": [],
   "source": []
  }
 ],
 "metadata": {
  "kernelspec": {
   "display_name": "Python 3 (ipykernel)",
   "language": "python",
   "name": "python3"
  },
  "language_info": {
   "codemirror_mode": {
    "name": "ipython",
    "version": 3
   },
   "file_extension": ".py",
   "mimetype": "text/x-python",
   "name": "python",
   "nbconvert_exporter": "python",
   "pygments_lexer": "ipython3",
   "version": "3.8.10"
  }
 },
 "nbformat": 4,
 "nbformat_minor": 5
}
