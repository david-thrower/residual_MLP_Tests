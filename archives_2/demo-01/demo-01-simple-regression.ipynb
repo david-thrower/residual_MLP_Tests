{
 "cells": [
  {
   "cell_type": "code",
   "execution_count": 1,
   "id": "6f646b05",
   "metadata": {},
   "outputs": [
    {
     "name": "stdout",
     "output_type": "stream",
     "text": [
      "2022-01-06_04-33_logs  Untitled1.ipynb\tresidualmlp  task_trigger.py\r\n",
      "Untitled.ipynb\t       demo-01.tar.gz\ttask.py\r\n"
     ]
    }
   ],
   "source": [
    "!ls"
   ]
  },
  {
   "cell_type": "code",
   "execution_count": 2,
   "id": "4192c5b9",
   "metadata": {},
   "outputs": [
    {
     "name": "stdout",
     "output_type": "stream",
     "text": [
      "Collecting pandas\n",
      "  Downloading pandas-1.3.5-cp38-cp38-manylinux_2_17_x86_64.manylinux2014_x86_64.whl (11.5 MB)\n",
      "\u001b[K     |████████████████████████████████| 11.5 MB 26.0 MB/s eta 0:00:01    |█████▎                          | 1.9 MB 26.0 MB/s eta 0:00:01\n",
      "\u001b[?25hRequirement already satisfied: python-dateutil>=2.7.3 in /usr/local/lib/python3.8/dist-packages (from pandas) (2.8.2)\n",
      "Requirement already satisfied: numpy>=1.17.3 in /usr/local/lib/python3.8/dist-packages (from pandas) (1.19.4)\n",
      "Requirement already satisfied: pytz>=2017.3 in /usr/local/lib/python3.8/dist-packages (from pandas) (2021.1)\n",
      "Requirement already satisfied: six>=1.5 in /usr/local/lib/python3.8/dist-packages (from python-dateutil>=2.7.3->pandas) (1.15.0)\n",
      "Installing collected packages: pandas\n",
      "Successfully installed pandas-1.3.5\n",
      "\u001b[33mWARNING: Running pip as the 'root' user can result in broken permissions and conflicting behaviour with the system package manager. It is recommended to use a virtual environment instead: https://pip.pypa.io/warnings/venv\u001b[0m\n",
      "\u001b[33mWARNING: You are using pip version 21.2.4; however, version 21.3.1 is available.\n",
      "You should consider upgrading via the '/usr/bin/python -m pip install --upgrade pip' command.\u001b[0m\n"
     ]
    }
   ],
   "source": [
    "!pip3 install pandas"
   ]
  },
  {
   "cell_type": "code",
   "execution_count": 3,
   "id": "f728fa2d",
   "metadata": {},
   "outputs": [],
   "source": [
    "import os\n",
    "import numpy as np\n",
    "import pandas as pd\n",
    "import tensorflow as tf\n",
    "from residualmlp.residual_mlp import make_model"
   ]
  },
  {
   "cell_type": "code",
   "execution_count": 4,
   "id": "be60c370",
   "metadata": {},
   "outputs": [],
   "source": [
    "\n",
    "# Read the data.\n",
    "df = pd.read_csv(\"https://storage.googleapis.com/ml_universities/california_housing_train.csv\", sep=\",\")"
   ]
  },
  {
   "cell_type": "code",
   "execution_count": 5,
   "id": "6fdde31e",
   "metadata": {},
   "outputs": [
    {
     "name": "stdout",
     "output_type": "stream",
     "text": [
      "<class 'pandas.core.frame.DataFrame'>\n",
      "RangeIndex: 17000 entries, 0 to 16999\n",
      "Data columns (total 9 columns):\n",
      " #   Column              Non-Null Count  Dtype  \n",
      "---  ------              --------------  -----  \n",
      " 0   longitude           17000 non-null  float64\n",
      " 1   latitude            17000 non-null  float64\n",
      " 2   housing_median_age  17000 non-null  float64\n",
      " 3   total_rooms         17000 non-null  float64\n",
      " 4   total_bedrooms      17000 non-null  float64\n",
      " 5   population          17000 non-null  float64\n",
      " 6   households          17000 non-null  float64\n",
      " 7   median_income       17000 non-null  float64\n",
      " 8   median_house_value  17000 non-null  float64\n",
      "dtypes: float64(9)\n",
      "memory usage: 1.2 MB\n"
     ]
    }
   ],
   "source": [
    "df.info()"
   ]
  },
  {
   "cell_type": "code",
   "execution_count": 28,
   "id": "c3591b9e",
   "metadata": {},
   "outputs": [],
   "source": [
    "# In a use-worthy model, we would bucketize and cross the lattitude and longitude.\n",
    "# and probably bucketize several of the continuous variables\n",
    "# Here we are just doing a simple example to demo how to work our API"
   ]
  },
  {
   "cell_type": "code",
   "execution_count": 6,
   "id": "6630dab9",
   "metadata": {},
   "outputs": [
    {
     "data": {
      "text/html": [
       "<div>\n",
       "<style scoped>\n",
       "    .dataframe tbody tr th:only-of-type {\n",
       "        vertical-align: middle;\n",
       "    }\n",
       "\n",
       "    .dataframe tbody tr th {\n",
       "        vertical-align: top;\n",
       "    }\n",
       "\n",
       "    .dataframe thead th {\n",
       "        text-align: right;\n",
       "    }\n",
       "</style>\n",
       "<table border=\"1\" class=\"dataframe\">\n",
       "  <thead>\n",
       "    <tr style=\"text-align: right;\">\n",
       "      <th></th>\n",
       "      <th>longitude</th>\n",
       "      <th>latitude</th>\n",
       "      <th>housing_median_age</th>\n",
       "      <th>total_rooms</th>\n",
       "      <th>total_bedrooms</th>\n",
       "      <th>population</th>\n",
       "      <th>households</th>\n",
       "      <th>median_income</th>\n",
       "      <th>median_house_value</th>\n",
       "    </tr>\n",
       "  </thead>\n",
       "  <tbody>\n",
       "    <tr>\n",
       "      <th>0</th>\n",
       "      <td>-114.31</td>\n",
       "      <td>34.19</td>\n",
       "      <td>15.0</td>\n",
       "      <td>5612.0</td>\n",
       "      <td>1283.0</td>\n",
       "      <td>1015.0</td>\n",
       "      <td>472.0</td>\n",
       "      <td>1.4936</td>\n",
       "      <td>66900.0</td>\n",
       "    </tr>\n",
       "    <tr>\n",
       "      <th>1</th>\n",
       "      <td>-114.47</td>\n",
       "      <td>34.40</td>\n",
       "      <td>19.0</td>\n",
       "      <td>7650.0</td>\n",
       "      <td>1901.0</td>\n",
       "      <td>1129.0</td>\n",
       "      <td>463.0</td>\n",
       "      <td>1.8200</td>\n",
       "      <td>80100.0</td>\n",
       "    </tr>\n",
       "    <tr>\n",
       "      <th>2</th>\n",
       "      <td>-114.56</td>\n",
       "      <td>33.69</td>\n",
       "      <td>17.0</td>\n",
       "      <td>720.0</td>\n",
       "      <td>174.0</td>\n",
       "      <td>333.0</td>\n",
       "      <td>117.0</td>\n",
       "      <td>1.6509</td>\n",
       "      <td>85700.0</td>\n",
       "    </tr>\n",
       "    <tr>\n",
       "      <th>3</th>\n",
       "      <td>-114.57</td>\n",
       "      <td>33.64</td>\n",
       "      <td>14.0</td>\n",
       "      <td>1501.0</td>\n",
       "      <td>337.0</td>\n",
       "      <td>515.0</td>\n",
       "      <td>226.0</td>\n",
       "      <td>3.1917</td>\n",
       "      <td>73400.0</td>\n",
       "    </tr>\n",
       "    <tr>\n",
       "      <th>4</th>\n",
       "      <td>-114.57</td>\n",
       "      <td>33.57</td>\n",
       "      <td>20.0</td>\n",
       "      <td>1454.0</td>\n",
       "      <td>326.0</td>\n",
       "      <td>624.0</td>\n",
       "      <td>262.0</td>\n",
       "      <td>1.9250</td>\n",
       "      <td>65500.0</td>\n",
       "    </tr>\n",
       "  </tbody>\n",
       "</table>\n",
       "</div>"
      ],
      "text/plain": [
       "   longitude  latitude  housing_median_age  total_rooms  total_bedrooms  \\\n",
       "0    -114.31     34.19                15.0       5612.0          1283.0   \n",
       "1    -114.47     34.40                19.0       7650.0          1901.0   \n",
       "2    -114.56     33.69                17.0        720.0           174.0   \n",
       "3    -114.57     33.64                14.0       1501.0           337.0   \n",
       "4    -114.57     33.57                20.0       1454.0           326.0   \n",
       "\n",
       "   population  households  median_income  median_house_value  \n",
       "0      1015.0       472.0         1.4936             66900.0  \n",
       "1      1129.0       463.0         1.8200             80100.0  \n",
       "2       333.0       117.0         1.6509             85700.0  \n",
       "3       515.0       226.0         3.1917             73400.0  \n",
       "4       624.0       262.0         1.9250             65500.0  "
      ]
     },
     "execution_count": 6,
     "metadata": {},
     "output_type": "execute_result"
    }
   ],
   "source": [
    "msk = np.random.rand(len(df)) < 0.8\n",
    "traindf = df[msk]\n",
    "evaldf = df[~msk]\n",
    "traindf.head()"
   ]
  },
  {
   "cell_type": "code",
   "execution_count": 7,
   "id": "dbff160c",
   "metadata": {},
   "outputs": [
    {
     "name": "stdout",
     "output_type": "stream",
     "text": [
      "<class 'pandas.core.frame.DataFrame'>\n",
      "Int64Index: 13649 entries, 0 to 16998\n",
      "Data columns (total 9 columns):\n",
      " #   Column              Non-Null Count  Dtype  \n",
      "---  ------              --------------  -----  \n",
      " 0   longitude           13649 non-null  float64\n",
      " 1   latitude            13649 non-null  float64\n",
      " 2   housing_median_age  13649 non-null  float64\n",
      " 3   total_rooms         13649 non-null  float64\n",
      " 4   total_bedrooms      13649 non-null  float64\n",
      " 5   population          13649 non-null  float64\n",
      " 6   households          13649 non-null  float64\n",
      " 7   median_income       13649 non-null  float64\n",
      " 8   median_house_value  13649 non-null  float64\n",
      "dtypes: float64(9)\n",
      "memory usage: 1.0 MB\n"
     ]
    }
   ],
   "source": [
    "traindf.info()"
   ]
  },
  {
   "cell_type": "code",
   "execution_count": 8,
   "id": "663baa0d",
   "metadata": {},
   "outputs": [],
   "source": [
    "y_train = traindf.pop('median_house_value')"
   ]
  },
  {
   "cell_type": "code",
   "execution_count": 9,
   "id": "c8824a75",
   "metadata": {},
   "outputs": [],
   "source": [
    "y_train = y_train.to_numpy()"
   ]
  },
  {
   "cell_type": "code",
   "execution_count": 10,
   "id": "5aee8d2f",
   "metadata": {},
   "outputs": [],
   "source": [
    "y_eval = evaldf.pop('median_house_value')"
   ]
  },
  {
   "cell_type": "code",
   "execution_count": 11,
   "id": "f157b076",
   "metadata": {},
   "outputs": [],
   "source": [
    "y_eval = y_eval.to_numpy()"
   ]
  },
  {
   "cell_type": "code",
   "execution_count": 12,
   "id": "8db23a0b",
   "metadata": {},
   "outputs": [],
   "source": [
    "x_train = traindf.to_numpy()"
   ]
  },
  {
   "cell_type": "code",
   "execution_count": 13,
   "id": "9c883ecf",
   "metadata": {},
   "outputs": [],
   "source": [
    "x_eval = evaldf.to_numpy()"
   ]
  },
  {
   "cell_type": "code",
   "execution_count": 17,
   "id": "8a9aaeab",
   "metadata": {},
   "outputs": [],
   "source": [
    "LEARNING_RATE = 0.007\n",
    "INPUT_SHAPE = 8\n",
    "BASE_MODEL = ''\n",
    "BASE_MODEL_INPUT_SHAPE = None\n",
    "FLATTEN = False\n",
    "BLOCKS = [[4,12,2],[4,12,2]]\n",
    "RESIDUAL_BYPASS_DENSE_LAYERS = [[3],[3]]\n",
    "B_NORM_OR_DROPOUT_RESIDUAL_BYPASS_LAYERS = 'bnorm'\n",
    "DROPOUT_RATE_FOR_BYPASS_LAYERS = 0.0\n",
    "B_NORM_OR_DROPOUT_LAST_LAYERS = 'bnorm'\n",
    "DROPOUT_RATE = 0.0\n",
    "FINAL_DENSE_LAYERS = [4,4]\n",
    "NUMBER_OF_CLASSES = 1\n",
    "FINAL_ACTIVATION = None\n",
    "LOSS = tf.keras.losses.MeanSquaredError()\n"
   ]
  },
  {
   "cell_type": "code",
   "execution_count": 25,
   "id": "d4b991af",
   "metadata": {},
   "outputs": [],
   "source": [
    "model3=\\\n",
    "    make_model(learning_rate=LEARNING_RATE,\n",
    "                input_shape = INPUT_SHAPE,  \n",
    "                base_model= BASE_MODEL,\n",
    "                base_model_input_shape = BASE_MODEL_INPUT_SHAPE,\n",
    "                flatten_after_base_model = FLATTEN,\n",
    "                blocks = BLOCKS,\n",
    "                residual_bypass_dense_layers = RESIDUAL_BYPASS_DENSE_LAYERS,\n",
    "                b_norm_or_dropout_residual_bypass_layers=B_NORM_OR_DROPOUT_RESIDUAL_BYPASS_LAYERS,\n",
    "                dropout_rate_for_bypass_layers=DROPOUT_RATE_FOR_BYPASS_LAYERS,\n",
    "                b_norm_or_dropout_last_layers=B_NORM_OR_DROPOUT_LAST_LAYERS,\n",
    "                dropout_rate=DROPOUT_RATE,\n",
    "                final_dense_layers =\\\n",
    "                    FINAL_DENSE_LAYERS,\n",
    "                number_of_classes = NUMBER_OF_CLASSES,\n",
    "                final_activation = FINAL_ACTIVATION,\n",
    "               loss = LOSS\n",
    "              )"
   ]
  },
  {
   "cell_type": "code",
   "execution_count": 26,
   "id": "431d24a4",
   "metadata": {},
   "outputs": [
    {
     "name": "stdout",
     "output_type": "stream",
     "text": [
      "Model: \"model_2\"\n",
      "__________________________________________________________________________________________________\n",
      "Layer (type)                    Output Shape         Param #     Connected to                     \n",
      "==================================================================================================\n",
      "input_3 (InputLayer)            [(None, 8)]          0                                            \n",
      "__________________________________________________________________________________________________\n",
      "dense_34 (Dense)                (None, 12)           108         input_3[0][0]                    \n",
      "__________________________________________________________________________________________________\n",
      "batch_normalization_36 (BatchNo (None, 12)           48          dense_34[0][0]                   \n",
      "__________________________________________________________________________________________________\n",
      "dense_36 (Dense)                (None, 12)           156         batch_normalization_36[0][0]     \n",
      "__________________________________________________________________________________________________\n",
      "batch_normalization_39 (BatchNo (None, 12)           48          dense_36[0][0]                   \n",
      "__________________________________________________________________________________________________\n",
      "dense_37 (Dense)                (None, 10)           130         batch_normalization_39[0][0]     \n",
      "__________________________________________________________________________________________________\n",
      "batch_normalization_40 (BatchNo (None, 10)           40          dense_37[0][0]                   \n",
      "__________________________________________________________________________________________________\n",
      "dense_38 (Dense)                (None, 8)            88          batch_normalization_40[0][0]     \n",
      "__________________________________________________________________________________________________\n",
      "batch_normalization_41 (BatchNo (None, 8)            32          dense_38[0][0]                   \n",
      "__________________________________________________________________________________________________\n",
      "batch_normalization_37 (BatchNo (None, 12)           48          batch_normalization_36[0][0]     \n",
      "__________________________________________________________________________________________________\n",
      "dense_39 (Dense)                (None, 6)            54          batch_normalization_41[0][0]     \n",
      "__________________________________________________________________________________________________\n",
      "dense_35 (Dense)                (None, 3)            39          batch_normalization_37[0][0]     \n",
      "__________________________________________________________________________________________________\n",
      "batch_normalization_42 (BatchNo (None, 6)            24          dense_39[0][0]                   \n",
      "__________________________________________________________________________________________________\n",
      "batch_normalization_38 (BatchNo (None, 3)            12          dense_35[0][0]                   \n",
      "__________________________________________________________________________________________________\n",
      "concatenate_4 (Concatenate)     (None, 9)            0           batch_normalization_42[0][0]     \n",
      "                                                                 batch_normalization_38[0][0]     \n",
      "__________________________________________________________________________________________________\n",
      "dense_40 (Dense)                (None, 4)            40          concatenate_4[0][0]              \n",
      "__________________________________________________________________________________________________\n",
      "batch_normalization_43 (BatchNo (None, 4)            16          dense_40[0][0]                   \n",
      "__________________________________________________________________________________________________\n",
      "dense_41 (Dense)                (None, 12)           60          batch_normalization_43[0][0]     \n",
      "__________________________________________________________________________________________________\n",
      "batch_normalization_44 (BatchNo (None, 12)           48          dense_41[0][0]                   \n",
      "__________________________________________________________________________________________________\n",
      "dense_43 (Dense)                (None, 12)           156         batch_normalization_44[0][0]     \n",
      "__________________________________________________________________________________________________\n",
      "batch_normalization_47 (BatchNo (None, 12)           48          dense_43[0][0]                   \n",
      "__________________________________________________________________________________________________\n",
      "dense_44 (Dense)                (None, 10)           130         batch_normalization_47[0][0]     \n",
      "__________________________________________________________________________________________________\n",
      "batch_normalization_48 (BatchNo (None, 10)           40          dense_44[0][0]                   \n",
      "__________________________________________________________________________________________________\n",
      "dense_45 (Dense)                (None, 8)            88          batch_normalization_48[0][0]     \n",
      "__________________________________________________________________________________________________\n",
      "batch_normalization_49 (BatchNo (None, 8)            32          dense_45[0][0]                   \n",
      "__________________________________________________________________________________________________\n",
      "batch_normalization_45 (BatchNo (None, 12)           48          batch_normalization_44[0][0]     \n",
      "__________________________________________________________________________________________________\n",
      "dense_46 (Dense)                (None, 6)            54          batch_normalization_49[0][0]     \n",
      "__________________________________________________________________________________________________\n",
      "dense_42 (Dense)                (None, 3)            39          batch_normalization_45[0][0]     \n",
      "__________________________________________________________________________________________________\n",
      "batch_normalization_50 (BatchNo (None, 6)            24          dense_46[0][0]                   \n",
      "__________________________________________________________________________________________________\n",
      "batch_normalization_46 (BatchNo (None, 3)            12          dense_42[0][0]                   \n",
      "__________________________________________________________________________________________________\n",
      "concatenate_5 (Concatenate)     (None, 9)            0           batch_normalization_50[0][0]     \n",
      "                                                                 batch_normalization_46[0][0]     \n",
      "__________________________________________________________________________________________________\n",
      "dense_47 (Dense)                (None, 4)            40          concatenate_5[0][0]              \n",
      "__________________________________________________________________________________________________\n",
      "batch_normalization_51 (BatchNo (None, 4)            16          dense_47[0][0]                   \n",
      "__________________________________________________________________________________________________\n",
      "dense_48 (Dense)                (None, 4)            20          batch_normalization_51[0][0]     \n",
      "__________________________________________________________________________________________________\n",
      "batch_normalization_52 (BatchNo (None, 4)            16          dense_48[0][0]                   \n",
      "__________________________________________________________________________________________________\n",
      "dense_49 (Dense)                (None, 4)            20          batch_normalization_52[0][0]     \n",
      "__________________________________________________________________________________________________\n",
      "batch_normalization_53 (BatchNo (None, 4)            16          dense_49[0][0]                   \n",
      "__________________________________________________________________________________________________\n",
      "dense_50 (Dense)                (None, 1)            5           batch_normalization_53[0][0]     \n",
      "==================================================================================================\n",
      "Total params: 1,795\n",
      "Trainable params: 1,511\n",
      "Non-trainable params: 284\n",
      "__________________________________________________________________________________________________\n"
     ]
    }
   ],
   "source": [
    "model3.summary()"
   ]
  },
  {
   "cell_type": "code",
   "execution_count": 20,
   "id": "93ea7c2a",
   "metadata": {},
   "outputs": [],
   "source": [
    "BATCH_SIZE = 50\n",
    "EPOCHS = 100\n",
    "PATIENCE = 15\n",
    "PATIENCE_MIN_DELTA = .005"
   ]
  },
  {
   "cell_type": "code",
   "execution_count": 21,
   "id": "2d83c596",
   "metadata": {},
   "outputs": [
    {
     "name": "stderr",
     "output_type": "stream",
     "text": [
      "2022-01-06 10:26:15.148968: I tensorflow/core/profiler/lib/profiler_session.cc:131] Profiler session initializing.\n",
      "2022-01-06 10:26:15.149027: I tensorflow/core/profiler/lib/profiler_session.cc:146] Profiler session started.\n",
      "2022-01-06 10:26:15.151892: I tensorflow/core/profiler/lib/profiler_session.cc:164] Profiler session tear down.\n"
     ]
    }
   ],
   "source": [
    "logdir = os.path.join(\"2022-01-06_04-33_logs\", 'results')\n",
    "tensorboard_callback = tf.keras.callbacks.TensorBoard(logdir, \n",
    "                                                      histogram_freq=1)"
   ]
  },
  {
   "cell_type": "code",
   "execution_count": 27,
   "id": "3c728f4d",
   "metadata": {},
   "outputs": [
    {
     "name": "stderr",
     "output_type": "stream",
     "text": [
      "2022-01-06 10:27:48.415773: I tensorflow/compiler/mlir/mlir_graph_optimization_pass.cc:185] None of the MLIR Optimization Passes are enabled (registered 2)\n"
     ]
    },
    {
     "name": "stdout",
     "output_type": "stream",
     "text": [
      "Epoch 1/100\n",
      "  2/192 [..............................] - ETA: 1:13 - loss: 37828841472.0000 - root_mean_squared_error: 194496.3906 "
     ]
    },
    {
     "name": "stderr",
     "output_type": "stream",
     "text": [
      "2022-01-06 10:27:59.809181: I tensorflow/core/profiler/lib/profiler_session.cc:131] Profiler session initializing.\n",
      "2022-01-06 10:27:59.809382: I tensorflow/core/profiler/lib/profiler_session.cc:146] Profiler session started.\n",
      "2022-01-06 10:27:59.826299: I tensorflow/core/profiler/lib/profiler_session.cc:66] Profiler session collecting data.\n",
      "2022-01-06 10:27:59.893842: I tensorflow/core/profiler/lib/profiler_session.cc:164] Profiler session tear down.\n",
      "2022-01-06 10:27:59.924232: I tensorflow/core/profiler/rpc/client/save_profile.cc:136] Creating directory: 2022-01-06_04-33_logs/results/train/plugins/profile/2022_01_06_10_27_59\n",
      "\n",
      "2022-01-06 10:27:59.932526: I tensorflow/core/profiler/rpc/client/save_profile.cc:142] Dumped gzipped tool data for trace.json.gz to 2022-01-06_04-33_logs/results/train/plugins/profile/2022_01_06_10_27_59/nfjaz7k0o5.trace.json.gz\n",
      "2022-01-06 10:27:59.999484: I tensorflow/core/profiler/rpc/client/save_profile.cc:136] Creating directory: 2022-01-06_04-33_logs/results/train/plugins/profile/2022_01_06_10_27_59\n",
      "\n",
      "2022-01-06 10:28:00.000531: I tensorflow/core/profiler/rpc/client/save_profile.cc:142] Dumped gzipped tool data for memory_profile.json.gz to 2022-01-06_04-33_logs/results/train/plugins/profile/2022_01_06_10_27_59/nfjaz7k0o5.memory_profile.json.gz\n",
      "2022-01-06 10:28:00.008399: I tensorflow/core/profiler/rpc/client/capture_profile.cc:251] Creating directory: 2022-01-06_04-33_logs/results/train/plugins/profile/2022_01_06_10_27_59\n",
      "Dumped tool data for xplane.pb to 2022-01-06_04-33_logs/results/train/plugins/profile/2022_01_06_10_27_59/nfjaz7k0o5.xplane.pb\n",
      "Dumped tool data for overview_page.pb to 2022-01-06_04-33_logs/results/train/plugins/profile/2022_01_06_10_27_59/nfjaz7k0o5.overview_page.pb\n",
      "Dumped tool data for input_pipeline.pb to 2022-01-06_04-33_logs/results/train/plugins/profile/2022_01_06_10_27_59/nfjaz7k0o5.input_pipeline.pb\n",
      "Dumped tool data for tensorflow_stats.pb to 2022-01-06_04-33_logs/results/train/plugins/profile/2022_01_06_10_27_59/nfjaz7k0o5.tensorflow_stats.pb\n",
      "Dumped tool data for kernel_stats.pb to 2022-01-06_04-33_logs/results/train/plugins/profile/2022_01_06_10_27_59/nfjaz7k0o5.kernel_stats.pb\n",
      "\n"
     ]
    },
    {
     "name": "stdout",
     "output_type": "stream",
     "text": [
      "192/192 [==============================] - 18s 37ms/step - loss: 51904733184.0000 - root_mean_squared_error: 227826.1094 - val_loss: 66678595584.0000 - val_root_mean_squared_error: 258221.9844\n",
      "Epoch 2/100\n",
      "192/192 [==============================] - 7s 34ms/step - loss: 51894935552.0000 - root_mean_squared_error: 227804.5938 - val_loss: 66661441536.0000 - val_root_mean_squared_error: 258188.7656\n",
      "Epoch 3/100\n",
      "192/192 [==============================] - 5s 28ms/step - loss: 51876548608.0000 - root_mean_squared_error: 227764.2344 - val_loss: 66609852416.0000 - val_root_mean_squared_error: 258088.8438\n",
      "Epoch 4/100\n",
      "192/192 [==============================] - 7s 34ms/step - loss: 51850067968.0000 - root_mean_squared_error: 227706.0938 - val_loss: 66616147968.0000 - val_root_mean_squared_error: 258101.0312\n",
      "Epoch 5/100\n",
      "192/192 [==============================] - 5s 28ms/step - loss: 51814191104.0000 - root_mean_squared_error: 227627.3125 - val_loss: 66566897664.0000 - val_root_mean_squared_error: 258005.6094\n",
      "Epoch 6/100\n",
      "192/192 [==============================] - 7s 34ms/step - loss: 51769966592.0000 - root_mean_squared_error: 227530.1406 - val_loss: 66424832000.0000 - val_root_mean_squared_error: 257730.1562\n",
      "Epoch 7/100\n",
      "192/192 [==============================] - 5s 28ms/step - loss: 51715657728.0000 - root_mean_squared_error: 227410.7656 - val_loss: 66355736576.0000 - val_root_mean_squared_error: 257596.0781\n",
      "Epoch 8/100\n",
      "192/192 [==============================] - 5s 28ms/step - loss: 51655360512.0000 - root_mean_squared_error: 227278.1562 - val_loss: 65934016512.0000 - val_root_mean_squared_error: 256776.2031\n",
      "Epoch 9/100\n",
      "192/192 [==============================] - 5s 27ms/step - loss: 51585601536.0000 - root_mean_squared_error: 227124.6406 - val_loss: 66741039104.0000 - val_root_mean_squared_error: 258342.8750\n",
      "Epoch 10/100\n",
      "192/192 [==============================] - 5s 28ms/step - loss: 51508256768.0000 - root_mean_squared_error: 226954.3125 - val_loss: 65884053504.0000 - val_root_mean_squared_error: 256678.8906\n",
      "Epoch 11/100\n",
      "192/192 [==============================] - 5s 28ms/step - loss: 51423748096.0000 - root_mean_squared_error: 226768.0469 - val_loss: 66811260928.0000 - val_root_mean_squared_error: 258478.7344\n",
      "Epoch 12/100\n",
      "192/192 [==============================] - 7s 35ms/step - loss: 51328757760.0000 - root_mean_squared_error: 226558.5156 - val_loss: 65294045184.0000 - val_root_mean_squared_error: 255527.0000\n",
      "Epoch 13/100\n",
      "192/192 [==============================] - 6s 29ms/step - loss: 51229175808.0000 - root_mean_squared_error: 226338.6250 - val_loss: 66124136448.0000 - val_root_mean_squared_error: 257146.1406\n",
      "Epoch 14/100\n",
      "192/192 [==============================] - 5s 28ms/step - loss: 51116019712.0000 - root_mean_squared_error: 226088.5156 - val_loss: 65513009152.0000 - val_root_mean_squared_error: 255955.0938\n",
      "Epoch 15/100\n",
      "192/192 [==============================] - 6s 33ms/step - loss: 51006095360.0000 - root_mean_squared_error: 225845.2969 - val_loss: 65869168640.0000 - val_root_mean_squared_error: 256649.8906\n",
      "Epoch 16/100\n",
      "192/192 [==============================] - 6s 30ms/step - loss: 50870280192.0000 - root_mean_squared_error: 225544.4062 - val_loss: 66613678080.0000 - val_root_mean_squared_error: 258096.2500\n",
      "Epoch 17/100\n",
      "192/192 [==============================] - 7s 35ms/step - loss: 50737090560.0000 - root_mean_squared_error: 225248.9531 - val_loss: 66659885056.0000 - val_root_mean_squared_error: 258185.7500\n",
      "Epoch 18/100\n",
      "192/192 [==============================] - 7s 34ms/step - loss: 50597294080.0000 - root_mean_squared_error: 224938.4219 - val_loss: 64123072512.0000 - val_root_mean_squared_error: 253225.3438\n",
      "Epoch 19/100\n",
      "192/192 [==============================] - 7s 35ms/step - loss: 50445766656.0000 - root_mean_squared_error: 224601.3438 - val_loss: 64299094016.0000 - val_root_mean_squared_error: 253572.6562\n",
      "Epoch 20/100\n",
      "192/192 [==============================] - 7s 35ms/step - loss: 50295025664.0000 - root_mean_squared_error: 224265.5312 - val_loss: 66143019008.0000 - val_root_mean_squared_error: 257182.8438\n",
      "Epoch 21/100\n",
      "192/192 [==============================] - 6s 29ms/step - loss: 50128261120.0000 - root_mean_squared_error: 223893.4219 - val_loss: 64691748864.0000 - val_root_mean_squared_error: 254345.7344\n",
      "Epoch 22/100\n",
      "192/192 [==============================] - 5s 28ms/step - loss: 49951735808.0000 - root_mean_squared_error: 223498.8438 - val_loss: 63915732992.0000 - val_root_mean_squared_error: 252815.6094\n",
      "Epoch 23/100\n",
      "192/192 [==============================] - 5s 28ms/step - loss: 49763778560.0000 - root_mean_squared_error: 223077.9688 - val_loss: 65996525568.0000 - val_root_mean_squared_error: 256897.8906\n",
      "Epoch 24/100\n",
      "192/192 [==============================] - 7s 34ms/step - loss: 49581015040.0000 - root_mean_squared_error: 222667.9531 - val_loss: 66711302144.0000 - val_root_mean_squared_error: 258285.3125\n",
      "Epoch 25/100\n",
      "192/192 [==============================] - 7s 35ms/step - loss: 49380233216.0000 - root_mean_squared_error: 222216.6406 - val_loss: 64969187328.0000 - val_root_mean_squared_error: 254890.5469\n",
      "Epoch 26/100\n",
      "192/192 [==============================] - 6s 30ms/step - loss: 49181011968.0000 - root_mean_squared_error: 221767.9219 - val_loss: 65057738752.0000 - val_root_mean_squared_error: 255064.1875\n",
      "Epoch 27/100\n",
      "192/192 [==============================] - 6s 29ms/step - loss: 48968249344.0000 - root_mean_squared_error: 221287.7031 - val_loss: 61668016128.0000 - val_root_mean_squared_error: 248330.4531\n",
      "Epoch 28/100\n",
      "192/192 [==============================] - 6s 29ms/step - loss: 48738795520.0000 - root_mean_squared_error: 220768.6406 - val_loss: 62207229952.0000 - val_root_mean_squared_error: 249413.7656\n",
      "Epoch 29/100\n",
      "192/192 [==============================] - 7s 34ms/step - loss: 48518258688.0000 - root_mean_squared_error: 220268.6094 - val_loss: 67065208832.0000 - val_root_mean_squared_error: 258969.5156\n",
      "Epoch 30/100\n",
      "192/192 [==============================] - 5s 28ms/step - loss: 48283222016.0000 - root_mean_squared_error: 219734.4375 - val_loss: 63315468288.0000 - val_root_mean_squared_error: 251625.6562\n",
      "Epoch 31/100\n",
      "192/192 [==============================] - 5s 28ms/step - loss: 48059764736.0000 - root_mean_squared_error: 219225.3750 - val_loss: 62365954048.0000 - val_root_mean_squared_error: 249731.7656\n",
      "Epoch 32/100\n",
      "192/192 [==============================] - 7s 35ms/step - loss: 47798259712.0000 - root_mean_squared_error: 218628.1250 - val_loss: 59382677504.0000 - val_root_mean_squared_error: 243685.6094\n",
      "Epoch 33/100\n",
      "192/192 [==============================] - 5s 27ms/step - loss: 47540424704.0000 - root_mean_squared_error: 218037.6719 - val_loss: 64375754752.0000 - val_root_mean_squared_error: 253723.7812\n",
      "Epoch 34/100\n",
      "192/192 [==============================] - 5s 28ms/step - loss: 47284695040.0000 - root_mean_squared_error: 217450.4375 - val_loss: 54477832192.0000 - val_root_mean_squared_error: 233404.8750\n",
      "Epoch 35/100\n",
      "192/192 [==============================] - 7s 34ms/step - loss: 47000530944.0000 - root_mean_squared_error: 216796.0625 - val_loss: 63127420928.0000 - val_root_mean_squared_error: 251251.7031\n",
      "Epoch 36/100\n",
      "192/192 [==============================] - 5s 26ms/step - loss: 46732701696.0000 - root_mean_squared_error: 216177.4844 - val_loss: 52560031744.0000 - val_root_mean_squared_error: 229259.7500\n",
      "Epoch 37/100\n",
      "192/192 [==============================] - 7s 34ms/step - loss: 46456721408.0000 - root_mean_squared_error: 215538.2188 - val_loss: 58442395648.0000 - val_root_mean_squared_error: 241748.6250\n",
      "Epoch 38/100\n",
      "192/192 [==============================] - 6s 34ms/step - loss: 46157676544.0000 - root_mean_squared_error: 214843.3750 - val_loss: 61760716800.0000 - val_root_mean_squared_error: 248517.0312\n",
      "Epoch 39/100\n",
      "192/192 [==============================] - 5s 28ms/step - loss: 45854445568.0000 - root_mean_squared_error: 214136.5156 - val_loss: 56138625024.0000 - val_root_mean_squared_error: 236935.9062\n",
      "Epoch 40/100\n",
      "192/192 [==============================] - 5s 28ms/step - loss: 45561499648.0000 - root_mean_squared_error: 213451.4062 - val_loss: 66186506240.0000 - val_root_mean_squared_error: 257267.3750\n",
      "Epoch 41/100\n",
      "192/192 [==============================] - 6s 34ms/step - loss: 45271941120.0000 - root_mean_squared_error: 212772.0312 - val_loss: 67390619648.0000 - val_root_mean_squared_error: 259597.0312\n",
      "Epoch 42/100\n",
      "192/192 [==============================] - 5s 27ms/step - loss: 44945289216.0000 - root_mean_squared_error: 212003.0469 - val_loss: 52110065664.0000 - val_root_mean_squared_error: 228276.2969\n",
      "Epoch 43/100\n",
      "192/192 [==============================] - 5s 28ms/step - loss: 44617576448.0000 - root_mean_squared_error: 211228.7344 - val_loss: 58406248448.0000 - val_root_mean_squared_error: 241673.8438\n",
      "Epoch 44/100\n",
      "192/192 [==============================] - 6s 29ms/step - loss: 44274417664.0000 - root_mean_squared_error: 210414.8750 - val_loss: 52855025664.0000 - val_root_mean_squared_error: 229902.2188\n",
      "Epoch 45/100\n",
      "192/192 [==============================] - 7s 34ms/step - loss: 43938299904.0000 - root_mean_squared_error: 209614.6406 - val_loss: 54327435264.0000 - val_root_mean_squared_error: 233082.4688\n",
      "Epoch 46/100\n",
      "192/192 [==============================] - 7s 35ms/step - loss: 43584872448.0000 - root_mean_squared_error: 208769.9062 - val_loss: 47892762624.0000 - val_root_mean_squared_error: 218844.1562\n",
      "Epoch 47/100\n",
      "192/192 [==============================] - 6s 33ms/step - loss: 43279982592.0000 - root_mean_squared_error: 208038.4219 - val_loss: 44640661504.0000 - val_root_mean_squared_error: 211283.3750\n",
      "Epoch 48/100\n",
      "192/192 [==============================] - 5s 28ms/step - loss: 42886172672.0000 - root_mean_squared_error: 207089.7656 - val_loss: 54905884672.0000 - val_root_mean_squared_error: 234320.0469\n",
      "Epoch 49/100\n",
      "192/192 [==============================] - 5s 28ms/step - loss: 42521645056.0000 - root_mean_squared_error: 206207.7656 - val_loss: 64712331264.0000 - val_root_mean_squared_error: 254386.1875\n",
      "Epoch 50/100\n",
      "192/192 [==============================] - 7s 34ms/step - loss: 42147127296.0000 - root_mean_squared_error: 205297.6562 - val_loss: 59862491136.0000 - val_root_mean_squared_error: 244668.1250\n",
      "Epoch 51/100\n",
      "192/192 [==============================] - 6s 29ms/step - loss: 41810522112.0000 - root_mean_squared_error: 204476.2188 - val_loss: 56454291456.0000 - val_root_mean_squared_error: 237601.1250\n",
      "Epoch 52/100\n",
      "192/192 [==============================] - 6s 30ms/step - loss: 41452298240.0000 - root_mean_squared_error: 203598.3750 - val_loss: 58975875072.0000 - val_root_mean_squared_error: 242849.4844\n",
      "Epoch 53/100\n",
      "192/192 [==============================] - 5s 27ms/step - loss: 41028755456.0000 - root_mean_squared_error: 202555.5625 - val_loss: 59936235520.0000 - val_root_mean_squared_error: 244818.7812\n",
      "Epoch 54/100\n",
      "192/192 [==============================] - 5s 28ms/step - loss: 40660770816.0000 - root_mean_squared_error: 201645.1562 - val_loss: 57629597696.0000 - val_root_mean_squared_error: 240061.6562\n",
      "Epoch 55/100\n",
      "192/192 [==============================] - 5s 27ms/step - loss: 40292765696.0000 - root_mean_squared_error: 200730.5781 - val_loss: 51801792512.0000 - val_root_mean_squared_error: 227600.0781\n",
      "Epoch 56/100\n",
      "192/192 [==============================] - 7s 34ms/step - loss: 39887478784.0000 - root_mean_squared_error: 199718.5156 - val_loss: 59200225280.0000 - val_root_mean_squared_error: 243310.9688\n",
      "Epoch 57/100\n",
      "192/192 [==============================] - 7s 35ms/step - loss: 39467016192.0000 - root_mean_squared_error: 198663.0781 - val_loss: 43774095360.0000 - val_root_mean_squared_error: 209222.5938\n",
      "Epoch 58/100\n",
      "192/192 [==============================] - 7s 34ms/step - loss: 39087337472.0000 - root_mean_squared_error: 197705.1719 - val_loss: 47350894592.0000 - val_root_mean_squared_error: 217602.6094\n",
      "Epoch 59/100\n",
      "192/192 [==============================] - 7s 34ms/step - loss: 38636941312.0000 - root_mean_squared_error: 196562.8125 - val_loss: 49628037120.0000 - val_root_mean_squared_error: 222773.5156\n",
      "Epoch 60/100\n",
      "192/192 [==============================] - 7s 35ms/step - loss: 38216990720.0000 - root_mean_squared_error: 195491.6562 - val_loss: 36841590784.0000 - val_root_mean_squared_error: 191941.6406\n",
      "Epoch 61/100\n",
      "192/192 [==============================] - 5s 28ms/step - loss: 37821825024.0000 - root_mean_squared_error: 194478.3438 - val_loss: 43250245632.0000 - val_root_mean_squared_error: 207966.9375\n",
      "Epoch 62/100\n",
      "192/192 [==============================] - 5s 28ms/step - loss: 37462663168.0000 - root_mean_squared_error: 193552.7344 - val_loss: 50327572480.0000 - val_root_mean_squared_error: 224338.0781\n",
      "Epoch 63/100\n",
      "192/192 [==============================] - 5s 28ms/step - loss: 36964519936.0000 - root_mean_squared_error: 192261.5938 - val_loss: 50246500352.0000 - val_root_mean_squared_error: 224157.3281\n",
      "Epoch 64/100\n",
      "192/192 [==============================] - 6s 29ms/step - loss: 36545941504.0000 - root_mean_squared_error: 191169.9219 - val_loss: 40150966272.0000 - val_root_mean_squared_error: 200377.0625\n",
      "Epoch 65/100\n",
      "192/192 [==============================] - 7s 34ms/step - loss: 36132610048.0000 - root_mean_squared_error: 190085.7812 - val_loss: 40397766656.0000 - val_root_mean_squared_error: 200991.9531\n",
      "Epoch 66/100\n",
      "192/192 [==============================] - 6s 29ms/step - loss: 35671179264.0000 - root_mean_squared_error: 188868.1562 - val_loss: 49453744128.0000 - val_root_mean_squared_error: 222381.9844\n",
      "Epoch 67/100\n",
      "192/192 [==============================] - 6s 29ms/step - loss: 35266740224.0000 - root_mean_squared_error: 187794.4062 - val_loss: 52688289792.0000 - val_root_mean_squared_error: 229539.2969\n",
      "Epoch 68/100\n",
      "192/192 [==============================] - 7s 36ms/step - loss: 34826383360.0000 - root_mean_squared_error: 186618.2812 - val_loss: 36051447808.0000 - val_root_mean_squared_error: 189872.1875\n",
      "Epoch 69/100\n",
      "192/192 [==============================] - 6s 34ms/step - loss: 34316789760.0000 - root_mean_squared_error: 185247.9219 - val_loss: 27957565440.0000 - val_root_mean_squared_error: 167205.1562\n",
      "Epoch 70/100\n",
      "192/192 [==============================] - 6s 34ms/step - loss: 33856747520.0000 - root_mean_squared_error: 184002.0312 - val_loss: 46575194112.0000 - val_root_mean_squared_error: 215812.8750\n",
      "Epoch 71/100\n",
      "192/192 [==============================] - 6s 30ms/step - loss: 33405491200.0000 - root_mean_squared_error: 182771.6875 - val_loss: 47507296256.0000 - val_root_mean_squared_error: 217961.6875\n",
      "Epoch 72/100\n",
      "192/192 [==============================] - 6s 29ms/step - loss: 32997859328.0000 - root_mean_squared_error: 181653.1250 - val_loss: 43201335296.0000 - val_root_mean_squared_error: 207849.3125\n",
      "Epoch 73/100\n",
      "192/192 [==============================] - 6s 29ms/step - loss: 32509851648.0000 - root_mean_squared_error: 180304.8906 - val_loss: 35651276800.0000 - val_root_mean_squared_error: 188815.4531\n",
      "Epoch 74/100\n",
      "192/192 [==============================] - 7s 35ms/step - loss: 32051189760.0000 - root_mean_squared_error: 179028.4688 - val_loss: 53673009152.0000 - val_root_mean_squared_error: 231674.3594\n",
      "Epoch 75/100\n",
      "192/192 [==============================] - 6s 33ms/step - loss: 31670333440.0000 - root_mean_squared_error: 177961.6094 - val_loss: 52894507008.0000 - val_root_mean_squared_error: 229988.0625\n",
      "Epoch 76/100\n",
      "192/192 [==============================] - 6s 30ms/step - loss: 31154110464.0000 - root_mean_squared_error: 176505.2656 - val_loss: 42308689920.0000 - val_root_mean_squared_error: 205690.7656\n",
      "Epoch 77/100\n",
      "192/192 [==============================] - 6s 30ms/step - loss: 30727315456.0000 - root_mean_squared_error: 175292.0938 - val_loss: 56383660032.0000 - val_root_mean_squared_error: 237452.4375\n",
      "Epoch 78/100\n",
      "192/192 [==============================] - 7s 35ms/step - loss: 30248505344.0000 - root_mean_squared_error: 173920.9688 - val_loss: 58533040128.0000 - val_root_mean_squared_error: 241936.0312\n",
      "Epoch 79/100\n",
      "192/192 [==============================] - 5s 29ms/step - loss: 29706819584.0000 - root_mean_squared_error: 172356.6562 - val_loss: 55484473344.0000 - val_root_mean_squared_error: 235551.4219\n",
      "Epoch 80/100\n",
      "192/192 [==============================] - 5s 29ms/step - loss: 29242226688.0000 - root_mean_squared_error: 171003.5938 - val_loss: 45150167040.0000 - val_root_mean_squared_error: 212485.6875\n",
      "Epoch 81/100\n",
      "192/192 [==============================] - 6s 29ms/step - loss: 28827086848.0000 - root_mean_squared_error: 169785.4219 - val_loss: 29247823872.0000 - val_root_mean_squared_error: 171019.9531\n",
      "Epoch 82/100\n",
      "192/192 [==============================] - 7s 35ms/step - loss: 28334755840.0000 - root_mean_squared_error: 168329.3125 - val_loss: 71309524992.0000 - val_root_mean_squared_error: 267038.4375\n",
      "Epoch 83/100\n",
      "192/192 [==============================] - 5s 29ms/step - loss: 27895527424.0000 - root_mean_squared_error: 167019.5469 - val_loss: 31668125696.0000 - val_root_mean_squared_error: 177955.4062\n",
      "Epoch 84/100\n",
      "192/192 [==============================] - 5s 28ms/step - loss: 27456620544.0000 - root_mean_squared_error: 165700.3906 - val_loss: 21833744384.0000 - val_root_mean_squared_error: 147762.4531\n",
      "Epoch 85/100\n",
      "192/192 [==============================] - 7s 35ms/step - loss: 27051945984.0000 - root_mean_squared_error: 164474.7656 - val_loss: 54608076800.0000 - val_root_mean_squared_error: 233683.7188\n",
      "Epoch 86/100\n",
      "192/192 [==============================] - 7s 34ms/step - loss: 26500526080.0000 - root_mean_squared_error: 162789.8281 - val_loss: 64456273920.0000 - val_root_mean_squared_error: 253882.4062\n",
      "Epoch 87/100\n",
      "192/192 [==============================] - 9s 48ms/step - loss: 26055860224.0000 - root_mean_squared_error: 161418.2812 - val_loss: 43729932288.0000 - val_root_mean_squared_error: 209117.0312\n",
      "Epoch 88/100\n",
      "192/192 [==============================] - 6s 29ms/step - loss: 25599750144.0000 - root_mean_squared_error: 159999.2188 - val_loss: 29200037888.0000 - val_root_mean_squared_error: 170880.1875\n",
      "Epoch 89/100\n",
      "192/192 [==============================] - 7s 35ms/step - loss: 25065019392.0000 - root_mean_squared_error: 158319.3594 - val_loss: 33141549056.0000 - val_root_mean_squared_error: 182048.2031\n",
      "Epoch 90/100\n",
      "192/192 [==============================] - 7s 35ms/step - loss: 24694804480.0000 - root_mean_squared_error: 157145.8125 - val_loss: 51158941696.0000 - val_root_mean_squared_error: 226183.4219\n",
      "Epoch 91/100\n",
      "192/192 [==============================] - 5s 28ms/step - loss: 24154914816.0000 - root_mean_squared_error: 155418.5312 - val_loss: 47079108608.0000 - val_root_mean_squared_error: 216977.2031\n",
      "Epoch 92/100\n",
      "192/192 [==============================] - 5s 29ms/step - loss: 23746080768.0000 - root_mean_squared_error: 154097.6406 - val_loss: 35177582592.0000 - val_root_mean_squared_error: 187556.8906\n",
      "Epoch 93/100\n",
      "192/192 [==============================] - 7s 34ms/step - loss: 23343159296.0000 - root_mean_squared_error: 152784.6875 - val_loss: 57139781632.0000 - val_root_mean_squared_error: 239039.2812\n",
      "Epoch 94/100\n",
      "192/192 [==============================] - 6s 34ms/step - loss: 22837501952.0000 - root_mean_squared_error: 151120.8125 - val_loss: 45952962560.0000 - val_root_mean_squared_error: 214366.4219\n",
      "Epoch 95/100\n",
      "192/192 [==============================] - 5s 28ms/step - loss: 22401320960.0000 - root_mean_squared_error: 149670.7031 - val_loss: 65346007040.0000 - val_root_mean_squared_error: 255628.6562\n",
      "Epoch 96/100\n",
      "192/192 [==============================] - 6s 29ms/step - loss: 21937836032.0000 - root_mean_squared_error: 148114.2656 - val_loss: 54404354048.0000 - val_root_mean_squared_error: 233247.4062\n",
      "Epoch 97/100\n",
      "192/192 [==============================] - 7s 34ms/step - loss: 21463896064.0000 - root_mean_squared_error: 146505.6250 - val_loss: 39000072192.0000 - val_root_mean_squared_error: 197484.3594\n",
      "Epoch 98/100\n",
      "192/192 [==============================] - 6s 34ms/step - loss: 21096495104.0000 - root_mean_squared_error: 145246.3281 - val_loss: 61091647488.0000 - val_root_mean_squared_error: 247167.2500\n",
      "Epoch 99/100\n",
      "192/192 [==============================] - 5s 29ms/step - loss: 20624390144.0000 - root_mean_squared_error: 143611.9375 - val_loss: 40925839360.0000 - val_root_mean_squared_error: 202301.3594\n"
     ]
    }
   ],
   "source": [
    "history = model3.fit(x=x_train,  \n",
    "                    y=y_train, \n",
    "                    batch_size=BATCH_SIZE, \n",
    "                    epochs=EPOCHS,      \n",
    "                    verbose='auto', \n",
    "                    callbacks=[tf.keras.callbacks.\\\n",
    "                               EarlyStopping(monitor='val_loss',\n",
    "                                             patience=PATIENCE,\n",
    "                                             min_delta=PATIENCE_MIN_DELTA,\n",
    "                                             restore_best_weights=True),\n",
    "                            tensorboard_callback], \n",
    "                    validation_split=0.3, \n",
    "                    validation_data=None, \n",
    "                    shuffle=True,\n",
    "                    class_weight=None, \n",
    "                    sample_weight=None, \n",
    "                    initial_epoch=0, \n",
    "                    steps_per_epoch=None, \n",
    "                    validation_steps=None, \n",
    "                    validation_batch_size=10, \n",
    "                    validation_freq=1, \n",
    "                    max_queue_size=10, \n",
    "                    workers=5, \n",
    "                    use_multiprocessing=True)"
   ]
  },
  {
   "cell_type": "code",
   "execution_count": 28,
   "id": "15284010",
   "metadata": {},
   "outputs": [],
   "source": [
    "hy = pd.DataFrame(history.history)"
   ]
  },
  {
   "cell_type": "code",
   "execution_count": 33,
   "id": "f395fa94",
   "metadata": {},
   "outputs": [
    {
     "data": {
      "text/plain": [
       "<AxesSubplot:>"
      ]
     },
     "execution_count": 33,
     "metadata": {},
     "output_type": "execute_result"
    },
    {
     "data": {
      "image/png": "[encoded data removed]",
      "text/plain": [
       "<Figure size 432x288 with 1 Axes>"
      ]
     },
     "metadata": {
      "needs_background": "light"
     },
     "output_type": "display_data"
    }
   ],
   "source": [
    "import matplotlib.pyplot as plt\n",
    "hy[['root_mean_squared_error','val_root_mean_squared_error']].plot()"
   ]
  },
  {
   "cell_type": "code",
   "execution_count": null,
   "id": "28bfac86",
   "metadata": {},
   "outputs": [],
   "source": [
    "# Not a great run (Not the optimal neural network architecture configuration, nor the ideal hyperparameters, nor is the right pre-processing in place, but it is a temporary demo to shows an example of the API's use."
   ]
  }
 ],
 "metadata": {
  "kernelspec": {
   "display_name": "Python 3 (ipykernel)",
   "language": "python",
   "name": "python3"
  },
  "language_info": {
   "codemirror_mode": {
    "name": "ipython",
    "version": 3
   },
   "file_extension": ".py",
   "mimetype": "text/x-python",
   "name": "python",
   "nbconvert_exporter": "python",
   "pygments_lexer": "ipython3",
   "version": "3.8.10"
  }
 },
 "nbformat": 4,
 "nbformat_minor": 5
}
