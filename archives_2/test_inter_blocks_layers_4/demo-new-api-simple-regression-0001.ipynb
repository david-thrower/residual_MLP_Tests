{
 "cells": [
  {
   "cell_type": "markdown",
   "id": "9cc2d5a9",
   "metadata": {},
   "source": [
    "# A simple demo of the residualmlp python package\n",
    "## This is a regression case pure resudual multi layer perceptron with no base model. \n",
    "\n",
    "1. Purpose:\n",
    "    1. This is a simple demo of the residualmlp python package that generates resisual_mlp models.\n",
    "2. Please note:\n",
    "    1. This version of the demo neither demonstrates an optimal neural network architecture nor does any preprocessing on the data, even though doing so would boost the performance of the model.This demo sumply demonstrates how to use the API and the syntax.\n",
    "    2. For a more complete example, see the demo for the tandem EfficientNetB7->residualMLP model discussed in the readme.md."
   ]
  },
  {
   "cell_type": "code",
   "execution_count": 1,
   "id": "3d647318",
   "metadata": {},
   "outputs": [
    {
     "name": "stdout",
     "output_type": "stream",
     "text": [
      "\u001b[31mERROR: Could not find a version that satisfies the requirement upgrade (from versions: none)\u001b[0m\n",
      "\u001b[31mERROR: No matching distribution found for upgrade\u001b[0m\n",
      "\u001b[33mWARNING: You are using pip version 21.2.4; however, version 21.3.1 is available.\n",
      "You should consider upgrading via the '/usr/bin/python -m pip install --upgrade pip' command.\u001b[0m\n",
      "Collecting matplotlib\n",
      "  Downloading matplotlib-3.5.1-cp38-cp38-manylinux_2_5_x86_64.manylinux1_x86_64.whl (11.3 MB)\n",
      "\u001b[K     |████████████████████████████████| 11.3 MB 23.8 MB/s eta 0:00:01\n",
      "\u001b[?25hCollecting fonttools>=4.22.0\n",
      "  Downloading fonttools-4.28.5-py3-none-any.whl (890 kB)\n",
      "\u001b[K     |████████████████████████████████| 890 kB 28.7 MB/s eta 0:00:01\n",
      "\u001b[?25hRequirement already satisfied: pyparsing>=2.2.1 in /usr/local/lib/python3.8/dist-packages (from matplotlib) (2.4.7)\n",
      "Collecting cycler>=0.10\n",
      "  Downloading cycler-0.11.0-py3-none-any.whl (6.4 kB)\n",
      "Requirement already satisfied: numpy>=1.17 in /usr/local/lib/python3.8/dist-packages (from matplotlib) (1.19.4)\n",
      "Requirement already satisfied: python-dateutil>=2.7 in /usr/local/lib/python3.8/dist-packages (from matplotlib) (2.8.2)\n",
      "Collecting pillow>=6.2.0\n",
      "  Downloading Pillow-9.0.0-cp38-cp38-manylinux_2_17_x86_64.manylinux2014_x86_64.whl (4.3 MB)\n",
      "\u001b[K     |████████████████████████████████| 4.3 MB 32.8 MB/s eta 0:00:01\n",
      "\u001b[?25hRequirement already satisfied: packaging>=20.0 in /usr/local/lib/python3.8/dist-packages (from matplotlib) (21.0)\n",
      "Collecting kiwisolver>=1.0.1\n",
      "  Downloading kiwisolver-1.3.2-cp38-cp38-manylinux_2_5_x86_64.manylinux1_x86_64.whl (1.2 MB)\n",
      "\u001b[K     |████████████████████████████████| 1.2 MB 30.8 MB/s eta 0:00:01\n",
      "\u001b[?25hRequirement already satisfied: six>=1.5 in /usr/local/lib/python3.8/dist-packages (from python-dateutil>=2.7->matplotlib) (1.15.0)\n",
      "Installing collected packages: pillow, kiwisolver, fonttools, cycler, matplotlib\n",
      "Successfully installed cycler-0.11.0 fonttools-4.28.5 kiwisolver-1.3.2 matplotlib-3.5.1 pillow-9.0.0\n",
      "\u001b[33mWARNING: Running pip as the 'root' user can result in broken permissions and conflicting behaviour with the system package manager. It is recommended to use a virtual environment instead: https://pip.pypa.io/warnings/venv\u001b[0m\n",
      "\u001b[33mWARNING: You are using pip version 21.2.4; however, version 21.3.1 is available.\n",
      "You should consider upgrading via the '/usr/bin/python -m pip install --upgrade pip' command.\u001b[0m\n",
      "Collecting pandas\n",
      "  Downloading pandas-1.3.5-cp38-cp38-manylinux_2_17_x86_64.manylinux2014_x86_64.whl (11.5 MB)\n",
      "\u001b[K     |████████████████████████████████| 11.5 MB 23.7 MB/s eta 0:00:01\n",
      "\u001b[?25hRequirement already satisfied: python-dateutil>=2.7.3 in /usr/local/lib/python3.8/dist-packages (from pandas) (2.8.2)\n",
      "Requirement already satisfied: pytz>=2017.3 in /usr/local/lib/python3.8/dist-packages (from pandas) (2021.1)\n",
      "Requirement already satisfied: numpy>=1.17.3 in /usr/local/lib/python3.8/dist-packages (from pandas) (1.19.4)\n",
      "Requirement already satisfied: six>=1.5 in /usr/local/lib/python3.8/dist-packages (from python-dateutil>=2.7.3->pandas) (1.15.0)\n",
      "Installing collected packages: pandas\n",
      "Successfully installed pandas-1.3.5\n",
      "\u001b[33mWARNING: Running pip as the 'root' user can result in broken permissions and conflicting behaviour with the system package manager. It is recommended to use a virtual environment instead: https://pip.pypa.io/warnings/venv\u001b[0m\n",
      "\u001b[33mWARNING: You are using pip version 21.2.4; however, version 21.3.1 is available.\n",
      "You should consider upgrading via the '/usr/bin/python -m pip install --upgrade pip' command.\u001b[0m\n"
     ]
    }
   ],
   "source": [
    "# Install anything missing\n",
    "!python -m pip install upgrade pip\n",
    "!pip3 install matplotlib\n",
    "!pip3 install pandas"
   ]
  },
  {
   "cell_type": "code",
   "execution_count": 2,
   "id": "e54daa1c",
   "metadata": {},
   "outputs": [],
   "source": [
    "# Import what we need ...\n",
    "import os\n",
    "import numpy as np\n",
    "import matplotlib.pyplot as plt\n",
    "import pandas as pd\n",
    "import tensorflow as tf\n",
    "from residualmlp.residual_mlp import ResidualMLP"
   ]
  },
  {
   "cell_type": "code",
   "execution_count": 3,
   "id": "cbc7503c",
   "metadata": {},
   "outputs": [],
   "source": [
    "# Read the California housing data. \n",
    "df = pd.read_csv(\"https://storage.googleapis.com/ml_universities/california_housing_train.csv\", sep=\",\")"
   ]
  },
  {
   "cell_type": "code",
   "execution_count": 4,
   "id": "72fc239f",
   "metadata": {},
   "outputs": [
    {
     "name": "stdout",
     "output_type": "stream",
     "text": [
      "<class 'pandas.core.frame.DataFrame'>\n",
      "RangeIndex: 17000 entries, 0 to 16999\n",
      "Data columns (total 9 columns):\n",
      " #   Column              Non-Null Count  Dtype  \n",
      "---  ------              --------------  -----  \n",
      " 0   longitude           17000 non-null  float64\n",
      " 1   latitude            17000 non-null  float64\n",
      " 2   housing_median_age  17000 non-null  float64\n",
      " 3   total_rooms         17000 non-null  float64\n",
      " 4   total_bedrooms      17000 non-null  float64\n",
      " 5   population          17000 non-null  float64\n",
      " 6   households          17000 non-null  float64\n",
      " 7   median_income       17000 non-null  float64\n",
      " 8   median_house_value  17000 non-null  float64\n",
      "dtypes: float64(9)\n",
      "memory usage: 1.2 MB\n"
     ]
    }
   ],
   "source": [
    "# Let's see what this looks like.\n",
    "# In the real world, data would never be this clean... \n",
    "df.info()"
   ]
  },
  {
   "cell_type": "code",
   "execution_count": 5,
   "id": "842d8cf9",
   "metadata": {},
   "outputs": [],
   "source": [
    "# In a use-worthy model, we would bucketize and cross the lattitude and longitude.\n",
    "# and probably bucketize several of the continuous variables\n",
    "# Here we are just doing a simple example to demo how to work our API"
   ]
  },
  {
   "cell_type": "code",
   "execution_count": 6,
   "id": "67038a63",
   "metadata": {},
   "outputs": [
    {
     "data": {
      "text/html": [
       "<div>\n",
       "<style scoped>\n",
       "    .dataframe tbody tr th:only-of-type {\n",
       "        vertical-align: middle;\n",
       "    }\n",
       "\n",
       "    .dataframe tbody tr th {\n",
       "        vertical-align: top;\n",
       "    }\n",
       "\n",
       "    .dataframe thead th {\n",
       "        text-align: right;\n",
       "    }\n",
       "</style>\n",
       "<table border=\"1\" class=\"dataframe\">\n",
       "  <thead>\n",
       "    <tr style=\"text-align: right;\">\n",
       "      <th></th>\n",
       "      <th>longitude</th>\n",
       "      <th>latitude</th>\n",
       "      <th>housing_median_age</th>\n",
       "      <th>total_rooms</th>\n",
       "      <th>total_bedrooms</th>\n",
       "      <th>population</th>\n",
       "      <th>households</th>\n",
       "      <th>median_income</th>\n",
       "      <th>median_house_value</th>\n",
       "    </tr>\n",
       "  </thead>\n",
       "  <tbody>\n",
       "    <tr>\n",
       "      <th>0</th>\n",
       "      <td>-114.31</td>\n",
       "      <td>34.19</td>\n",
       "      <td>15.0</td>\n",
       "      <td>5612.0</td>\n",
       "      <td>1283.0</td>\n",
       "      <td>1015.0</td>\n",
       "      <td>472.0</td>\n",
       "      <td>1.4936</td>\n",
       "      <td>66900.0</td>\n",
       "    </tr>\n",
       "    <tr>\n",
       "      <th>1</th>\n",
       "      <td>-114.47</td>\n",
       "      <td>34.40</td>\n",
       "      <td>19.0</td>\n",
       "      <td>7650.0</td>\n",
       "      <td>1901.0</td>\n",
       "      <td>1129.0</td>\n",
       "      <td>463.0</td>\n",
       "      <td>1.8200</td>\n",
       "      <td>80100.0</td>\n",
       "    </tr>\n",
       "    <tr>\n",
       "      <th>2</th>\n",
       "      <td>-114.56</td>\n",
       "      <td>33.69</td>\n",
       "      <td>17.0</td>\n",
       "      <td>720.0</td>\n",
       "      <td>174.0</td>\n",
       "      <td>333.0</td>\n",
       "      <td>117.0</td>\n",
       "      <td>1.6509</td>\n",
       "      <td>85700.0</td>\n",
       "    </tr>\n",
       "    <tr>\n",
       "      <th>3</th>\n",
       "      <td>-114.57</td>\n",
       "      <td>33.64</td>\n",
       "      <td>14.0</td>\n",
       "      <td>1501.0</td>\n",
       "      <td>337.0</td>\n",
       "      <td>515.0</td>\n",
       "      <td>226.0</td>\n",
       "      <td>3.1917</td>\n",
       "      <td>73400.0</td>\n",
       "    </tr>\n",
       "    <tr>\n",
       "      <th>5</th>\n",
       "      <td>-114.58</td>\n",
       "      <td>33.63</td>\n",
       "      <td>29.0</td>\n",
       "      <td>1387.0</td>\n",
       "      <td>236.0</td>\n",
       "      <td>671.0</td>\n",
       "      <td>239.0</td>\n",
       "      <td>3.3438</td>\n",
       "      <td>74000.0</td>\n",
       "    </tr>\n",
       "  </tbody>\n",
       "</table>\n",
       "</div>"
      ],
      "text/plain": [
       "   longitude  latitude  housing_median_age  total_rooms  total_bedrooms  \\\n",
       "0    -114.31     34.19                15.0       5612.0          1283.0   \n",
       "1    -114.47     34.40                19.0       7650.0          1901.0   \n",
       "2    -114.56     33.69                17.0        720.0           174.0   \n",
       "3    -114.57     33.64                14.0       1501.0           337.0   \n",
       "5    -114.58     33.63                29.0       1387.0           236.0   \n",
       "\n",
       "   population  households  median_income  median_house_value  \n",
       "0      1015.0       472.0         1.4936             66900.0  \n",
       "1      1129.0       463.0         1.8200             80100.0  \n",
       "2       333.0       117.0         1.6509             85700.0  \n",
       "3       515.0       226.0         3.1917             73400.0  \n",
       "5       671.0       239.0         3.3438             74000.0  "
      ]
     },
     "execution_count": 6,
     "metadata": {},
     "output_type": "execute_result"
    }
   ],
   "source": [
    "# pseudo quasi random numbers between 0 and 1. \n",
    "# ~ 80% of them should be below .8 \n",
    "msk = np.random.rand(len(df)) < 0.8\n",
    "traindf = df[msk]\n",
    "evaldf = df[~msk]\n",
    "traindf.head()"
   ]
  },
  {
   "cell_type": "code",
   "execution_count": 7,
   "id": "06af295d",
   "metadata": {},
   "outputs": [],
   "source": [
    "# Pull label from df\n",
    "y_train = traindf.pop('median_house_value')"
   ]
  },
  {
   "cell_type": "code",
   "execution_count": 8,
   "id": "7fe65df2",
   "metadata": {},
   "outputs": [],
   "source": [
    "# Convert label to a numpy array\n",
    "y_train = y_train.to_numpy()"
   ]
  },
  {
   "cell_type": "code",
   "execution_count": 9,
   "id": "e3875246",
   "metadata": {},
   "outputs": [],
   "source": [
    "# Pull label from df\n",
    "y_eval = evaldf.pop('median_house_value')"
   ]
  },
  {
   "cell_type": "code",
   "execution_count": 10,
   "id": "b58ec6c8",
   "metadata": {},
   "outputs": [],
   "source": [
    "# Convert label to a numpy array\n",
    "y_eval = y_eval.to_numpy()"
   ]
  },
  {
   "cell_type": "code",
   "execution_count": 11,
   "id": "c51dc0db",
   "metadata": {},
   "outputs": [],
   "source": [
    "# Convert data - the features to a numpy array\n",
    "x_train = traindf.to_numpy()"
   ]
  },
  {
   "cell_type": "code",
   "execution_count": 12,
   "id": "7bf99abc",
   "metadata": {},
   "outputs": [],
   "source": [
    "# Convert data - the features to a numpy array\n",
    "x_eval = evaldf.to_numpy()"
   ]
  },
  {
   "cell_type": "markdown",
   "id": "7417b38a",
   "metadata": {},
   "source": [
    "## Here we build our model: \n",
    "### We start by setting the hyperparameters:\n",
    "\n",
    "1. LEARNING_RATE / learning_rate: The learning rate for the optimizer.\n",
    "2. INPUT_SHAPE, input_shape: The input shape for the model as a whole, In other words, the shape of one observation in your data. In our case, each observation has 9 columns. One was removed as the label, so 8 columns, so shape is 8.\n",
    "3. BASE_MODEL / base_model: If you were building a tandem model, starting with a pre-trained base model and passing the output of that model to the residual MLP we are building, then you would pass in that keras model object (e.g. and EfficientNetB7 model.). In the case of this demo, we are not doing this. We are passing our data and labels straight into a residual MLP, so base_model will be set to empty string '':\n",
    "4. BASE_MODEL_INPUT_SHAPE / base_model_input_shape: If you are using a base model with a different input shape than your data, you would enter the input shape for the base model, and the model built by make_model() would include a rescaling layer before between your input layer and your base model. For example, if you have training / test images of shape (32,32,3) and were using EfficientNet, pretrained on imagenet from keras applications having an input shape of (600,600,3), as your base_model, you would set the parameter 'base_model_input_shape' to (600,600,3).\n",
    "5. Flatten: Whether or not to put a Flatten layer before your data passes into the residual multi layer perceptron being built. This is usually set to True if you have a Conv2d layer as the last layer of your base model or otherwise have any data that will pass to your residualMLP model that is not a rank 1 tensor. Settign it to true will coerce the data being fed into your residualMLP model to a rank tensor. If you are building a tandem ConvolutionalNeuraNetworkModel->residualMLP model, this must be set to true, or the shape will raise an exception at the Concat layer(s) in the residualMLP model being built. Here, each observation is a rank 1 tensor, and it is going straight into our model with no upstream operation that will change its rank, so there is nothing to flatten. Flatten is set to False.\n",
    "6. BLOCKS / blocks: A 2d array. Each ith nested array will create a residualMLP block. See the image in readme.md for a visual of this. In each ith nested arry, you will find 3 positive integers (except l which can be positive or may be 0): j,k,l (from left to right). The positive integer j on the left of each nested array gives you control of how many Dense layers that this block will consist of. The second positive integer, k sets the number of Dense units in the first layer of the block. The third [0 or positive integer] l is how many LESS Dense units each succesive layer in the block will consist of than its predecessor. There is one additional obvious rule that the product of the first and third numbers, j and l must be < k, the second number, otherwise, you are asking the API to add some layer(s) with O Dense units or a negative number of Dense units. This will of course raise an exception and make you feel as embarassed as I did the first time I did this 😳. As a reminder, you must be concious of this when trying to run an auto-ml algorithym or running a gridsearch over permutations of these hyperparameters. A try .. except ... or better yet, a pre-screening of these permutations will be needed.\n",
    "7. RESIDUAL_BYPASS_DENSE_LAYERS / residual_bypass_dense_layers: If you want to include (a) Dense layer(s) in the residual bypass tensor, you would set this to a 2d array as we did below [[3],[3]], this will place a Dense layer with 3 units in the residual bypass of Block 1 and will place another Dense layer with 3 units in the resisual bypass of block 2. By default this is empty string \"\". If you set this, there must be a nested list for each blcok and may eb as many numbers in each blcok as your isel model architecture will have. Each ith nested 1d array would control the Dense layers in the residual bypass for the ith residual block. One layer will be inserted for each positive integer in the nested list and each layer will have the number of units as the integer.  If this is left as the default of '', then there will be no blocks in the residual bypass. You may add layers to one blocks's bypass and not the other like this: [[],[5]] See the image on readme.md. For this to make sense, please see the image on readme.md.The residual bypass is the through the network in yellow nodes on the right.).\n",
    "8. B_NORM_OR_DROPOUT_RESIDUAL_BYPASS_LAYERS / b_norm_or_dropout_residual_bypass_layers: You may insert BatchNormalization or dropout layers after each layer of the residual bypass. Options: Default \"dropout\" | \"bnorm\".\n",
    "9. DROPOUT_RATE_FOR_BYPASS_LAYERS / dropout_rate_for_bypass_layers: The global dropout rate for the dropout laters in the RESIDUAL BYPASSES (ignored if B_NORM_OR_DROPOUT_RESIDUAL_BYPASS_LAYERS is set to 'bnorm'). This usually performs best as dropout and often with a higher DROPOUT_RATE_FOR_BYPASS_LAYERS (e.g. 25%).\n",
    "10. INTER_BLOCK_LAYERS_PER_BLOCK / inter_block_layers_per_block: String representation of 1d array of positive integers. Each ith positive integer adds one Dense layer with i units in each break between residualMLP blocks. \n",
    "11. B_NORM_OR_DROPOUT_LAST_LAYERS / b_norm_or_dropout_last_layers: After all last residual block, the hyperparameter FINAL_DENSE_LAYERS allows you to add a series (or just one) Dense layer(s). The hyperparameter b_norm_or_dropout_last_layers controls whether there will be a Dropout or BatchNormalization layer after each of these layer(s). This defaults to 'dropout' but can be set to 'bnorm'. It seems that about 60% of the time, dropout with the right dropout_rate will perform best, but be advised that these layers are more apt to internal covariate shift than the residual bypass layers. You amy want to experiment with both.  \n",
    "12. DROPOUT_RATE / dropout_rate: The dropout rate for the dropout layers after each final Dense layer inserted after the last residualMLP block by the parameter   \n",
    "13. FINAL_DENSE_LAYERS / final_dense_layers: A 1d array of positive integers: Each ith positive integer will insert a Dense layer after the last ResidualMLP block.\n",
    "14. NUMBER_OF_CLASSES = how many Dense units the final layer of the network should consist of / also the number of classes in your labels. For example, a simple linear regression model would have this parameter set to 1. So would a binary logistic regression problem. For a multi - class - classification problem, it would be the number of classes, eg 10 for a classification problem where there are 10 possible classes.\n",
    "15. FINAL_ACTIVATION - The activatinn fucntion e.g. tf.keras.activations.sigmoid - [no parentheses after it]. It defaults to tf.keras.activations.softmax. Since we are doing simple linear regression, the activation is None.\n",
    "16. LOSS - The loss that is appropriate for your problem. Here we are doign simpel linear regression, so the default chice is f.keras.losses.MeanSquaredError(), but tf.keras.losses.Huber() and tf.keras.losses.MeanAbsoluteError() are fair game. The default is: tf.keras.losses.CategoricalCrossentropy(from_logits=False), but that doesn't help us with this problem ... so we set it to None."
   ]
  },
  {
   "cell_type": "code",
   "execution_count": 14,
   "id": "a387fa37",
   "metadata": {},
   "outputs": [],
   "source": [
    "# Set the hyperparameters for the  \n",
    "\n",
    "PROBLEM_TYPE = 'regression'\n",
    "LEARNING_RATE = 0.007\n",
    "INPUT_SHAPE = 8\n",
    "BASE_MODEL = ''\n",
    "BASE_MODEL_INPUT_SHAPE = None\n",
    "FLATTEN = False\n",
    "BLOCKS = [[5,12,2],[5,12,2]]\n",
    "RESIDUAL_BYPASS_DENSE_LAYERS = [[3],[3]]\n",
    "B_NORM_OR_DROPOUT_RESIDUAL_BYPASS_LAYERS = 'bnorm'\n",
    "DROPOUT_RATE_FOR_BYPASS_LAYERS = 0.0\n",
    "# INTER_BLOCK_LAYERS_PER_BLOCK = \"[5,3]\" leaving default.\n",
    "B_NORM_OR_DROPOUT_LAST_LAYERS = 'bnorm'\n",
    "DROPOUT_RATE = 0.0\n",
    "FINAL_DENSE_LAYERS = [4,4]\n",
    "NUMBER_OF_CLASSES = 1\n",
    "FINAL_ACTIVATION = None\n",
    "LOSS = tf.keras.losses.MeanSquaredError()"
   ]
  },
  {
   "cell_type": "code",
   "execution_count": 15,
   "id": "a0aee21e",
   "metadata": {},
   "outputs": [
    {
     "name": "stderr",
     "output_type": "stream",
     "text": [
      "2022-01-12 04:19:26.368786: I tensorflow/stream_executor/cuda/cuda_gpu_executor.cc:1050] successful NUMA node read from SysFS had negative value (-1), but there must be at least one NUMA node, so returning NUMA node zero\n",
      "2022-01-12 04:19:26.539625: I tensorflow/stream_executor/cuda/cuda_gpu_executor.cc:1050] successful NUMA node read from SysFS had negative value (-1), but there must be at least one NUMA node, so returning NUMA node zero\n",
      "2022-01-12 04:19:26.540569: I tensorflow/stream_executor/cuda/cuda_gpu_executor.cc:1050] successful NUMA node read from SysFS had negative value (-1), but there must be at least one NUMA node, so returning NUMA node zero\n",
      "2022-01-12 04:19:26.543664: I tensorflow/stream_executor/cuda/cuda_gpu_executor.cc:1050] successful NUMA node read from SysFS had negative value (-1), but there must be at least one NUMA node, so returning NUMA node zero\n",
      "2022-01-12 04:19:26.544761: I tensorflow/stream_executor/cuda/cuda_gpu_executor.cc:1050] successful NUMA node read from SysFS had negative value (-1), but there must be at least one NUMA node, so returning NUMA node zero\n",
      "2022-01-12 04:19:26.545578: I tensorflow/stream_executor/cuda/cuda_gpu_executor.cc:1050] successful NUMA node read from SysFS had negative value (-1), but there must be at least one NUMA node, so returning NUMA node zero\n",
      "2022-01-12 04:19:28.979982: I tensorflow/stream_executor/cuda/cuda_gpu_executor.cc:1050] successful NUMA node read from SysFS had negative value (-1), but there must be at least one NUMA node, so returning NUMA node zero\n",
      "2022-01-12 04:19:28.980714: I tensorflow/stream_executor/cuda/cuda_gpu_executor.cc:1050] successful NUMA node read from SysFS had negative value (-1), but there must be at least one NUMA node, so returning NUMA node zero\n",
      "2022-01-12 04:19:28.981401: I tensorflow/stream_executor/cuda/cuda_gpu_executor.cc:1050] successful NUMA node read from SysFS had negative value (-1), but there must be at least one NUMA node, so returning NUMA node zero\n",
      "2022-01-12 04:19:28.982468: I tensorflow/core/common_runtime/gpu/gpu_device.cc:1510] Created device /job:localhost/replica:0/task:0/device:GPU:0 with 7288 MB memory:  -> device: 0, name: Quadro M4000, pci bus id: 0000:00:05.0, compute capability: 5.2\n"
     ]
    }
   ],
   "source": [
    "res_mlp = ResidualMLP(problem_type = PROBLEM_TYPE,\n",
    "                      learning_rate=LEARNING_RATE,\n",
    "                      input_shape = INPUT_SHAPE,  \n",
    "                      base_model= BASE_MODEL,\n",
    "                      base_model_input_shape = BASE_MODEL_INPUT_SHAPE,\n",
    "                      flatten_after_base_model = FLATTEN,\n",
    "                      blocks = BLOCKS,\n",
    "                      residual_bypass_dense_layers = RESIDUAL_BYPASS_DENSE_LAYERS,\n",
    "                      b_norm_or_dropout_residual_bypass_layers=B_NORM_OR_DROPOUT_RESIDUAL_BYPASS_LAYERS,\n",
    "                      dropout_rate_for_bypass_layers=DROPOUT_RATE_FOR_BYPASS_LAYERS,\n",
    "                      # inter_block_layers_per_block = INTER_BLOCK_LAYERS_PER_BLOCK,\n",
    "                      b_norm_or_dropout_last_layers=B_NORM_OR_DROPOUT_LAST_LAYERS,\n",
    "                      dropout_rate=DROPOUT_RATE,\n",
    "                      final_dense_layers =\\\n",
    "                          FINAL_DENSE_LAYERS,\n",
    "                      number_of_classes = NUMBER_OF_CLASSES,\n",
    "                      final_activation = FINAL_ACTIVATION,\n",
    "                      loss = LOSS)\n",
    "model0001=\\\n",
    "    res_mlp.make_tandem_model()"
   ]
  },
  {
   "cell_type": "code",
   "execution_count": 16,
   "id": "c8f1df5c",
   "metadata": {},
   "outputs": [
    {
     "name": "stdout",
     "output_type": "stream",
     "text": [
      "Model: \"model\"\n",
      "__________________________________________________________________________________________________\n",
      "Layer (type)                    Output Shape         Param #     Connected to                     \n",
      "==================================================================================================\n",
      "input_1 (InputLayer)            [(None, 8)]          0                                            \n",
      "__________________________________________________________________________________________________\n",
      "dense (Dense)                   (None, 12)           108         input_1[0][0]                    \n",
      "__________________________________________________________________________________________________\n",
      "batch_normalization (BatchNorma (None, 12)           48          dense[0][0]                      \n",
      "__________________________________________________________________________________________________\n",
      "dense_2 (Dense)                 (None, 12)           156         batch_normalization[0][0]        \n",
      "__________________________________________________________________________________________________\n",
      "batch_normalization_3 (BatchNor (None, 12)           48          dense_2[0][0]                    \n",
      "__________________________________________________________________________________________________\n",
      "dense_3 (Dense)                 (None, 10)           130         batch_normalization_3[0][0]      \n",
      "__________________________________________________________________________________________________\n",
      "batch_normalization_4 (BatchNor (None, 10)           40          dense_3[0][0]                    \n",
      "__________________________________________________________________________________________________\n",
      "dense_4 (Dense)                 (None, 8)            88          batch_normalization_4[0][0]      \n",
      "__________________________________________________________________________________________________\n",
      "batch_normalization_5 (BatchNor (None, 8)            32          dense_4[0][0]                    \n",
      "__________________________________________________________________________________________________\n",
      "dense_5 (Dense)                 (None, 6)            54          batch_normalization_5[0][0]      \n",
      "__________________________________________________________________________________________________\n",
      "batch_normalization_6 (BatchNor (None, 6)            24          dense_5[0][0]                    \n",
      "__________________________________________________________________________________________________\n",
      "batch_normalization_1 (BatchNor (None, 12)           48          dense[0][0]                      \n",
      "__________________________________________________________________________________________________\n",
      "dense_6 (Dense)                 (None, 4)            28          batch_normalization_6[0][0]      \n",
      "__________________________________________________________________________________________________\n",
      "dense_1 (Dense)                 (None, 3)            39          batch_normalization_1[0][0]      \n",
      "__________________________________________________________________________________________________\n",
      "batch_normalization_7 (BatchNor (None, 4)            16          dense_6[0][0]                    \n",
      "__________________________________________________________________________________________________\n",
      "batch_normalization_2 (BatchNor (None, 3)            12          dense_1[0][0]                    \n",
      "__________________________________________________________________________________________________\n",
      "concatenate (Concatenate)       (None, 7)            0           batch_normalization_7[0][0]      \n",
      "                                                                 batch_normalization_2[0][0]      \n",
      "__________________________________________________________________________________________________\n",
      "dense_7 (Dense)                 (None, 12)           96          concatenate[0][0]                \n",
      "__________________________________________________________________________________________________\n",
      "batch_normalization_8 (BatchNor (None, 12)           48          dense_7[0][0]                    \n",
      "__________________________________________________________________________________________________\n",
      "dense_9 (Dense)                 (None, 12)           156         batch_normalization_8[0][0]      \n",
      "__________________________________________________________________________________________________\n",
      "batch_normalization_11 (BatchNo (None, 12)           48          dense_9[0][0]                    \n",
      "__________________________________________________________________________________________________\n",
      "dense_10 (Dense)                (None, 10)           130         batch_normalization_11[0][0]     \n",
      "__________________________________________________________________________________________________\n",
      "batch_normalization_12 (BatchNo (None, 10)           40          dense_10[0][0]                   \n",
      "__________________________________________________________________________________________________\n",
      "dense_11 (Dense)                (None, 8)            88          batch_normalization_12[0][0]     \n",
      "__________________________________________________________________________________________________\n",
      "batch_normalization_13 (BatchNo (None, 8)            32          dense_11[0][0]                   \n",
      "__________________________________________________________________________________________________\n",
      "dense_12 (Dense)                (None, 6)            54          batch_normalization_13[0][0]     \n",
      "__________________________________________________________________________________________________\n",
      "batch_normalization_14 (BatchNo (None, 6)            24          dense_12[0][0]                   \n",
      "__________________________________________________________________________________________________\n",
      "batch_normalization_9 (BatchNor (None, 12)           48          dense_7[0][0]                    \n",
      "__________________________________________________________________________________________________\n",
      "dense_13 (Dense)                (None, 4)            28          batch_normalization_14[0][0]     \n",
      "__________________________________________________________________________________________________\n",
      "dense_8 (Dense)                 (None, 3)            39          batch_normalization_9[0][0]      \n",
      "__________________________________________________________________________________________________\n",
      "batch_normalization_15 (BatchNo (None, 4)            16          dense_13[0][0]                   \n",
      "__________________________________________________________________________________________________\n",
      "batch_normalization_10 (BatchNo (None, 3)            12          dense_8[0][0]                    \n",
      "__________________________________________________________________________________________________\n",
      "concatenate_1 (Concatenate)     (None, 7)            0           batch_normalization_15[0][0]     \n",
      "                                                                 batch_normalization_10[0][0]     \n",
      "__________________________________________________________________________________________________\n",
      "dense_14 (Dense)                (None, 4)            32          concatenate_1[0][0]              \n",
      "__________________________________________________________________________________________________\n",
      "batch_normalization_16 (BatchNo (None, 4)            16          dense_14[0][0]                   \n",
      "__________________________________________________________________________________________________\n",
      "dense_15 (Dense)                (None, 4)            20          batch_normalization_16[0][0]     \n",
      "__________________________________________________________________________________________________\n",
      "batch_normalization_17 (BatchNo (None, 4)            16          dense_15[0][0]                   \n",
      "__________________________________________________________________________________________________\n",
      "dense_16 (Dense)                (None, 1)            5           batch_normalization_17[0][0]     \n",
      "==================================================================================================\n",
      "Total params: 1,819\n",
      "Trainable params: 1,535\n",
      "Non-trainable params: 284\n",
      "__________________________________________________________________________________________________\n"
     ]
    }
   ],
   "source": [
    "model0001.summary()"
   ]
  },
  {
   "cell_type": "code",
   "execution_count": 17,
   "id": "205e396f",
   "metadata": {},
   "outputs": [],
   "source": [
    "BATCH_SIZE = 50\n",
    "EPOCHS = 100\n",
    "PATIENCE = 15\n",
    "PATIENCE_MIN_DELTA = .005"
   ]
  },
  {
   "cell_type": "code",
   "execution_count": 18,
   "id": "0dcd1a2a",
   "metadata": {},
   "outputs": [
    {
     "name": "stderr",
     "output_type": "stream",
     "text": [
      "2022-01-12 04:20:52.252068: I tensorflow/core/profiler/lib/profiler_session.cc:131] Profiler session initializing.\n",
      "2022-01-12 04:20:52.252136: I tensorflow/core/profiler/lib/profiler_session.cc:146] Profiler session started.\n",
      "2022-01-12 04:20:52.254029: I tensorflow/core/profiler/internal/gpu/cupti_tracer.cc:1614] Profiler found 1 GPUs\n",
      "2022-01-12 04:20:52.471826: I tensorflow/core/profiler/lib/profiler_session.cc:164] Profiler session tear down.\n",
      "2022-01-12 04:20:52.472160: I tensorflow/core/profiler/internal/gpu/cupti_tracer.cc:1749] CUPTI activity buffer flushed\n"
     ]
    }
   ],
   "source": [
    "logdir = os.path.join(\"2022-01-11_23-20_logs_test_inter_blcok\", 'results')\n",
    "tensorboard_callback = tf.keras.callbacks.TensorBoard(logdir, \n",
    "                                                      histogram_freq=1)"
   ]
  },
  {
   "cell_type": "code",
   "execution_count": 19,
   "id": "39d75778",
   "metadata": {},
   "outputs": [
    {
     "name": "stderr",
     "output_type": "stream",
     "text": [
      "2022-01-12 04:20:56.286919: I tensorflow/compiler/mlir/mlir_graph_optimization_pass.cc:185] None of the MLIR Optimization Passes are enabled (registered 2)\n"
     ]
    },
    {
     "name": "stdout",
     "output_type": "stream",
     "text": [
      "Epoch 1/100\n",
      "  1/190 [..............................] - ETA: 22:05 - loss: 57901985792.0000 - root_mean_squared_error: 240628.3125 - mean_absolute_error: 211472.0625"
     ]
    },
    {
     "name": "stderr",
     "output_type": "stream",
     "text": [
      "2022-01-12 04:21:03.722871: I tensorflow/core/profiler/lib/profiler_session.cc:131] Profiler session initializing.\n",
      "2022-01-12 04:21:03.722937: I tensorflow/core/profiler/lib/profiler_session.cc:146] Profiler session started.\n"
     ]
    },
    {
     "name": "stdout",
     "output_type": "stream",
     "text": [
      "\b\b\b\b\b\b\b\b\b\b\b\b\b\b\b\b\b\b\b\b\b\b\b\b\b\b\b\b\b\b\b\b\b\b\b\b\b\b\b\b\b\b\b\b\b\b\b\b\b\b\b\b\b\b\b\b\b\b\b\b\b\b\b\b\b\b\b\b\b\b\b\b\b\b\b\b\b\b\b\b\b\b\b\b\b\b\b\b\b\b\b\b\b\b\b\b\b\b\b\b\b\b\b\b\b\b\b\b\b\b\b\b\b\b\b\b\b\b\b\b\b\b\b\b\b\b\b\b\b\b\b\b\b\b\b\b\b\b\b\b\b\b\b\b\b\b\b\b\b\b\b\b\r",
      "  2/190 [..............................] - ETA: 1:59 - loss: 55101538304.0000 - root_mean_squared_error: 234737.1719 - mean_absolute_error: 202785.0781 "
     ]
    },
    {
     "name": "stderr",
     "output_type": "stream",
     "text": [
      "2022-01-12 04:21:03.999554: I tensorflow/core/profiler/lib/profiler_session.cc:66] Profiler session collecting data.\n",
      "2022-01-12 04:21:04.000081: I tensorflow/core/profiler/internal/gpu/cupti_tracer.cc:1749] CUPTI activity buffer flushed\n",
      "2022-01-12 04:21:04.060257: I tensorflow/core/profiler/internal/gpu/cupti_collector.cc:673]  GpuTracer has collected 1508 callback api events and 1518 activity events. \n",
      "2022-01-12 04:21:04.100288: I tensorflow/core/profiler/lib/profiler_session.cc:164] Profiler session tear down.\n",
      "2022-01-12 04:21:04.204853: I tensorflow/core/profiler/rpc/client/save_profile.cc:136] Creating directory: 2022-01-11_23-20_logs_test_inter_blcok/results/train/plugins/profile/2022_01_12_04_21_04\n",
      "\n",
      "2022-01-12 04:21:04.234769: I tensorflow/core/profiler/rpc/client/save_profile.cc:142] Dumped gzipped tool data for trace.json.gz to 2022-01-11_23-20_logs_test_inter_blcok/results/train/plugins/profile/2022_01_12_04_21_04/n8n7euqd57.trace.json.gz\n",
      "2022-01-12 04:21:04.339085: I tensorflow/core/profiler/rpc/client/save_profile.cc:136] Creating directory: 2022-01-11_23-20_logs_test_inter_blcok/results/train/plugins/profile/2022_01_12_04_21_04\n",
      "\n",
      "2022-01-12 04:21:04.347033: I tensorflow/core/profiler/rpc/client/save_profile.cc:142] Dumped gzipped tool data for memory_profile.json.gz to 2022-01-11_23-20_logs_test_inter_blcok/results/train/plugins/profile/2022_01_12_04_21_04/n8n7euqd57.memory_profile.json.gz\n",
      "2022-01-12 04:21:04.367084: I tensorflow/core/profiler/rpc/client/capture_profile.cc:251] Creating directory: 2022-01-11_23-20_logs_test_inter_blcok/results/train/plugins/profile/2022_01_12_04_21_04\n",
      "Dumped tool data for xplane.pb to 2022-01-11_23-20_logs_test_inter_blcok/results/train/plugins/profile/2022_01_12_04_21_04/n8n7euqd57.xplane.pb\n",
      "Dumped tool data for overview_page.pb to 2022-01-11_23-20_logs_test_inter_blcok/results/train/plugins/profile/2022_01_12_04_21_04/n8n7euqd57.overview_page.pb\n",
      "Dumped tool data for input_pipeline.pb to 2022-01-11_23-20_logs_test_inter_blcok/results/train/plugins/profile/2022_01_12_04_21_04/n8n7euqd57.input_pipeline.pb\n",
      "Dumped tool data for tensorflow_stats.pb to 2022-01-11_23-20_logs_test_inter_blcok/results/train/plugins/profile/2022_01_12_04_21_04/n8n7euqd57.tensorflow_stats.pb\n",
      "Dumped tool data for kernel_stats.pb to 2022-01-11_23-20_logs_test_inter_blcok/results/train/plugins/profile/2022_01_12_04_21_04/n8n7euqd57.kernel_stats.pb\n",
      "\n"
     ]
    },
    {
     "name": "stdout",
     "output_type": "stream",
     "text": [
      "190/190 [==============================] - 13s 34ms/step - loss: 51860754432.0000 - root_mean_squared_error: 227729.5625 - mean_absolute_error: 198116.1250 - val_loss: 66734804992.0000 - val_root_mean_squared_error: 258330.7969 - val_mean_absolute_error: 227572.0781\n",
      "Epoch 2/100\n",
      "190/190 [==============================] - 5s 27ms/step - loss: 51851132928.0000 - root_mean_squared_error: 227708.4375 - mean_absolute_error: 198097.0781 - val_loss: 66717114368.0000 - val_root_mean_squared_error: 258296.5625 - val_mean_absolute_error: 227540.7031\n",
      "Epoch 3/100\n",
      "190/190 [==============================] - 5s 27ms/step - loss: 51832946688.0000 - root_mean_squared_error: 227668.5000 - mean_absolute_error: 198062.9062 - val_loss: 66664800256.0000 - val_root_mean_squared_error: 258195.2656 - val_mean_absolute_error: 227455.0469\n",
      "Epoch 4/100\n",
      "190/190 [==============================] - 5s 27ms/step - loss: 51805814784.0000 - root_mean_squared_error: 227608.9062 - mean_absolute_error: 198014.6094 - val_loss: 66518880256.0000 - val_root_mean_squared_error: 257912.5469 - val_mean_absolute_error: 227121.1406\n",
      "Epoch 5/100\n",
      "190/190 [==============================] - 5s 28ms/step - loss: 51769700352.0000 - root_mean_squared_error: 227529.5625 - mean_absolute_error: 197952.3125 - val_loss: 66468548608.0000 - val_root_mean_squared_error: 257814.9531 - val_mean_absolute_error: 227045.0625\n",
      "Epoch 6/100\n",
      "190/190 [==============================] - 5s 27ms/step - loss: 51727134720.0000 - root_mean_squared_error: 227436.0000 - mean_absolute_error: 197875.9531 - val_loss: 66637930496.0000 - val_root_mean_squared_error: 258143.2344 - val_mean_absolute_error: 227443.2344\n",
      "Epoch 7/100\n",
      "190/190 [==============================] - 5s 28ms/step - loss: 51675500544.0000 - root_mean_squared_error: 227322.4531 - mean_absolute_error: 197785.5625 - val_loss: 66145849344.0000 - val_root_mean_squared_error: 257188.3438 - val_mean_absolute_error: 226346.5625\n",
      "Epoch 8/100\n",
      "190/190 [==============================] - 5s 27ms/step - loss: 51629137920.0000 - root_mean_squared_error: 227220.4531 - mean_absolute_error: 197680.9844 - val_loss: 65954291712.0000 - val_root_mean_squared_error: 256815.6719 - val_mean_absolute_error: 226020.7344\n",
      "Epoch 9/100\n",
      "190/190 [==============================] - 5s 27ms/step - loss: 51558215680.0000 - root_mean_squared_error: 227064.3438 - mean_absolute_error: 197562.3750 - val_loss: 65963143168.0000 - val_root_mean_squared_error: 256832.9062 - val_mean_absolute_error: 226176.1562\n",
      "Epoch 10/100\n",
      "190/190 [==============================] - 5s 26ms/step - loss: 51475980288.0000 - root_mean_squared_error: 226883.1875 - mean_absolute_error: 197429.5000 - val_loss: 65696919552.0000 - val_root_mean_squared_error: 256314.0938 - val_mean_absolute_error: 225590.5781\n",
      "Epoch 11/100\n",
      "190/190 [==============================] - 5s 26ms/step - loss: 51393282048.0000 - root_mean_squared_error: 226700.8594 - mean_absolute_error: 197282.5156 - val_loss: 65691443200.0000 - val_root_mean_squared_error: 256303.4219 - val_mean_absolute_error: 225649.6719\n",
      "Epoch 12/100\n",
      "190/190 [==============================] - 5s 28ms/step - loss: 51302469632.0000 - root_mean_squared_error: 226500.4844 - mean_absolute_error: 197121.5156 - val_loss: 66754273280.0000 - val_root_mean_squared_error: 258368.4844 - val_mean_absolute_error: 227767.1562\n",
      "Epoch 13/100\n",
      "190/190 [==============================] - 5s 27ms/step - loss: 51201445888.0000 - root_mean_squared_error: 226277.3594 - mean_absolute_error: 196946.1406 - val_loss: 66274410496.0000 - val_root_mean_squared_error: 257438.1562 - val_mean_absolute_error: 226990.2656\n",
      "Epoch 14/100\n",
      "190/190 [==============================] - 5s 27ms/step - loss: 51091755008.0000 - root_mean_squared_error: 226034.8438 - mean_absolute_error: 196756.6094 - val_loss: 65633157120.0000 - val_root_mean_squared_error: 256189.6875 - val_mean_absolute_error: 225716.0312\n",
      "Epoch 15/100\n",
      "190/190 [==============================] - 5s 28ms/step - loss: 50979868672.0000 - root_mean_squared_error: 225787.2188 - mean_absolute_error: 196553.0469 - val_loss: 66865577984.0000 - val_root_mean_squared_error: 258583.7969 - val_mean_absolute_error: 228045.8750\n",
      "Epoch 16/100\n",
      "190/190 [==============================] - 5s 27ms/step - loss: 50854240256.0000 - root_mean_squared_error: 225508.8438 - mean_absolute_error: 196335.0625 - val_loss: 64957792256.0000 - val_root_mean_squared_error: 254868.1719 - val_mean_absolute_error: 224444.1875\n",
      "Epoch 17/100\n",
      "190/190 [==============================] - 5s 27ms/step - loss: 50724773888.0000 - root_mean_squared_error: 225221.6094 - mean_absolute_error: 196103.1094 - val_loss: 66482327552.0000 - val_root_mean_squared_error: 257841.6719 - val_mean_absolute_error: 227421.3125\n",
      "Epoch 18/100\n",
      "190/190 [==============================] - 5s 26ms/step - loss: 50587521024.0000 - root_mean_squared_error: 224916.6875 - mean_absolute_error: 195856.9219 - val_loss: 65656115200.0000 - val_root_mean_squared_error: 256234.4844 - val_mean_absolute_error: 225856.0312\n",
      "Epoch 19/100\n",
      "190/190 [==============================] - 5s 26ms/step - loss: 50443829248.0000 - root_mean_squared_error: 224597.0312 - mean_absolute_error: 195596.6250 - val_loss: 66227548160.0000 - val_root_mean_squared_error: 257347.1250 - val_mean_absolute_error: 227122.7500\n",
      "Epoch 20/100\n",
      "190/190 [==============================] - 5s 27ms/step - loss: 50292854784.0000 - root_mean_squared_error: 224260.6875 - mean_absolute_error: 195322.1719 - val_loss: 65431023616.0000 - val_root_mean_squared_error: 255794.8906 - val_mean_absolute_error: 225439.9219\n",
      "Epoch 21/100\n",
      "190/190 [==============================] - 5s 26ms/step - loss: 50126106624.0000 - root_mean_squared_error: 223888.5938 - mean_absolute_error: 195033.5781 - val_loss: 65664487424.0000 - val_root_mean_squared_error: 256250.8281 - val_mean_absolute_error: 226112.6562\n",
      "Epoch 22/100\n",
      "190/190 [==============================] - 5s 26ms/step - loss: 49958166528.0000 - root_mean_squared_error: 223513.2344 - mean_absolute_error: 194730.6875 - val_loss: 63160557568.0000 - val_root_mean_squared_error: 251317.6406 - val_mean_absolute_error: 221018.7969\n",
      "Epoch 23/100\n",
      "190/190 [==============================] - 5s 26ms/step - loss: 49777242112.0000 - root_mean_squared_error: 223108.1406 - mean_absolute_error: 194413.7812 - val_loss: 64336056320.0000 - val_root_mean_squared_error: 253645.5312 - val_mean_absolute_error: 223626.2500\n",
      "Epoch 24/100\n",
      "190/190 [==============================] - 5s 26ms/step - loss: 49588789248.0000 - root_mean_squared_error: 222685.4062 - mean_absolute_error: 194082.6406 - val_loss: 65265012736.0000 - val_root_mean_squared_error: 255470.1719 - val_mean_absolute_error: 225304.7031\n",
      "Epoch 25/100\n",
      "190/190 [==============================] - 5s 27ms/step - loss: 49392279552.0000 - root_mean_squared_error: 222243.7344 - mean_absolute_error: 193737.4688 - val_loss: 64168939520.0000 - val_root_mean_squared_error: 253315.8906 - val_mean_absolute_error: 223194.0469\n",
      "Epoch 26/100\n",
      "190/190 [==============================] - 5s 27ms/step - loss: 49187475456.0000 - root_mean_squared_error: 221782.5000 - mean_absolute_error: 193378.0312 - val_loss: 66150580224.0000 - val_root_mean_squared_error: 257197.5469 - val_mean_absolute_error: 227256.2969\n",
      "Epoch 27/100\n",
      "190/190 [==============================] - 5s 27ms/step - loss: 48978247680.0000 - root_mean_squared_error: 221310.2969 - mean_absolute_error: 193004.4375 - val_loss: 61828059136.0000 - val_root_mean_squared_error: 248652.4844 - val_mean_absolute_error: 218652.9844\n",
      "Epoch 28/100\n",
      "190/190 [==============================] - 5s 26ms/step - loss: 48766775296.0000 - root_mean_squared_error: 220832.0000 - mean_absolute_error: 192616.8438 - val_loss: 62721945600.0000 - val_root_mean_squared_error: 250443.5000 - val_mean_absolute_error: 220639.4844\n",
      "Epoch 29/100\n",
      "190/190 [==============================] - 6s 34ms/step - loss: 48545460224.0000 - root_mean_squared_error: 220330.3438 - mean_absolute_error: 192214.9375 - val_loss: 65681793024.0000 - val_root_mean_squared_error: 256284.5938 - val_mean_absolute_error: 226512.0625\n",
      "Epoch 30/100\n"
     ]
    },
    {
     "name": "stdout",
     "output_type": "stream",
     "text": [
      "190/190 [==============================] - 5s 27ms/step - loss: 48299589632.0000 - root_mean_squared_error: 219771.6875 - mean_absolute_error: 191799.0312 - val_loss: 61916700672.0000 - val_root_mean_squared_error: 248830.6562 - val_mean_absolute_error: 219138.0000\n",
      "Epoch 31/100\n",
      "190/190 [==============================] - 5s 28ms/step - loss: 48082915328.0000 - root_mean_squared_error: 219278.1719 - mean_absolute_error: 191368.8906 - val_loss: 64188436480.0000 - val_root_mean_squared_error: 253354.3594 - val_mean_absolute_error: 223681.9844\n",
      "Epoch 32/100\n",
      "190/190 [==============================] - 5s 27ms/step - loss: 47837802496.0000 - root_mean_squared_error: 218718.5469 - mean_absolute_error: 190924.5312 - val_loss: 59211591680.0000 - val_root_mean_squared_error: 243334.3125 - val_mean_absolute_error: 212750.7500\n",
      "Epoch 33/100\n",
      "190/190 [==============================] - 6s 34ms/step - loss: 47584600064.0000 - root_mean_squared_error: 218138.9375 - mean_absolute_error: 190466.0938 - val_loss: 57948831744.0000 - val_root_mean_squared_error: 240725.6406 - val_mean_absolute_error: 210849.3750\n",
      "Epoch 34/100\n",
      "190/190 [==============================] - 5s 28ms/step - loss: 47315410944.0000 - root_mean_squared_error: 217521.0625 - mean_absolute_error: 189993.4219 - val_loss: 60136685568.0000 - val_root_mean_squared_error: 245227.8125 - val_mean_absolute_error: 215718.6875\n",
      "Epoch 35/100\n",
      "190/190 [==============================] - 5s 28ms/step - loss: 47049289728.0000 - root_mean_squared_error: 216908.4844 - mean_absolute_error: 189506.7969 - val_loss: 60238663680.0000 - val_root_mean_squared_error: 245435.6562 - val_mean_absolute_error: 216805.4219\n",
      "Epoch 36/100\n",
      "190/190 [==============================] - 5s 26ms/step - loss: 46761308160.0000 - root_mean_squared_error: 216243.6250 - mean_absolute_error: 189006.1094 - val_loss: 66262757376.0000 - val_root_mean_squared_error: 257415.5312 - val_mean_absolute_error: 227806.7188\n",
      "Epoch 37/100\n",
      "190/190 [==============================] - 5s 27ms/step - loss: 46479142912.0000 - root_mean_squared_error: 215590.2188 - mean_absolute_error: 188490.7656 - val_loss: 67991666688.0000 - val_root_mean_squared_error: 260752.1250 - val_mean_absolute_error: 230933.1406\n",
      "Epoch 38/100\n",
      "190/190 [==============================] - 5s 26ms/step - loss: 46234488832.0000 - root_mean_squared_error: 215022.0625 - mean_absolute_error: 187961.5625 - val_loss: 57128865792.0000 - val_root_mean_squared_error: 239016.4531 - val_mean_absolute_error: 209288.6875\n",
      "Epoch 39/100\n",
      "190/190 [==============================] - 5s 26ms/step - loss: 45911252992.0000 - root_mean_squared_error: 214269.1250 - mean_absolute_error: 187419.7188 - val_loss: 59158315008.0000 - val_root_mean_squared_error: 243224.8125 - val_mean_absolute_error: 215196.5000\n",
      "Epoch 40/100\n",
      "190/190 [==============================] - 5s 26ms/step - loss: 45605965824.0000 - root_mean_squared_error: 213555.5312 - mean_absolute_error: 186860.7812 - val_loss: 64764608512.0000 - val_root_mean_squared_error: 254488.9219 - val_mean_absolute_error: 226097.6250\n",
      "Epoch 41/100\n",
      "190/190 [==============================] - 5s 27ms/step - loss: 45294796800.0000 - root_mean_squared_error: 212825.7344 - mean_absolute_error: 186289.8281 - val_loss: 61983637504.0000 - val_root_mean_squared_error: 248965.1250 - val_mean_absolute_error: 220802.1406\n",
      "Epoch 42/100\n",
      "190/190 [==============================] - 5s 27ms/step - loss: 44996235264.0000 - root_mean_squared_error: 212123.1562 - mean_absolute_error: 185703.5781 - val_loss: 54578372608.0000 - val_root_mean_squared_error: 233620.1406 - val_mean_absolute_error: 205744.1875\n",
      "Epoch 43/100\n",
      "190/190 [==============================] - 5s 26ms/step - loss: 44666712064.0000 - root_mean_squared_error: 211345.0000 - mean_absolute_error: 185103.8438 - val_loss: 57368289280.0000 - val_root_mean_squared_error: 239516.7812 - val_mean_absolute_error: 211059.6719\n",
      "Epoch 44/100\n",
      "190/190 [==============================] - 6s 33ms/step - loss: 44347813888.0000 - root_mean_squared_error: 210589.2031 - mean_absolute_error: 184489.3750 - val_loss: 63613599744.0000 - val_root_mean_squared_error: 252217.3594 - val_mean_absolute_error: 224219.5312\n",
      "Epoch 45/100\n",
      "190/190 [==============================] - 5s 27ms/step - loss: 44036493312.0000 - root_mean_squared_error: 209848.7344 - mean_absolute_error: 183862.3906 - val_loss: 63484628992.0000 - val_root_mean_squared_error: 251961.5625 - val_mean_absolute_error: 224382.1562\n",
      "Epoch 46/100\n",
      "190/190 [==============================] - 5s 26ms/step - loss: 43665530880.0000 - root_mean_squared_error: 208962.9844 - mean_absolute_error: 183218.5625 - val_loss: 65977589760.0000 - val_root_mean_squared_error: 256861.0312 - val_mean_absolute_error: 228202.8125\n",
      "Epoch 47/100\n",
      "190/190 [==============================] - 5s 27ms/step - loss: 43316908032.0000 - root_mean_squared_error: 208127.1406 - mean_absolute_error: 182562.7656 - val_loss: 57685147648.0000 - val_root_mean_squared_error: 240177.3281 - val_mean_absolute_error: 213302.9062\n",
      "Epoch 48/100\n",
      "190/190 [==============================] - 5s 27ms/step - loss: 42975047680.0000 - root_mean_squared_error: 207304.2344 - mean_absolute_error: 181893.2500 - val_loss: 51812720640.0000 - val_root_mean_squared_error: 227624.0781 - val_mean_absolute_error: 199525.3594\n",
      "Epoch 49/100\n",
      "190/190 [==============================] - 5s 28ms/step - loss: 42620993536.0000 - root_mean_squared_error: 206448.5312 - mean_absolute_error: 181206.9062 - val_loss: 64340123648.0000 - val_root_mean_squared_error: 253653.5469 - val_mean_absolute_error: 225509.1875\n",
      "Epoch 50/100\n",
      "190/190 [==============================] - 5s 28ms/step - loss: 42278309888.0000 - root_mean_squared_error: 205616.9062 - mean_absolute_error: 180513.1094 - val_loss: 55836377088.0000 - val_root_mean_squared_error: 236297.2188 - val_mean_absolute_error: 209257.4062\n",
      "Epoch 51/100\n",
      "190/190 [==============================] - 5s 27ms/step - loss: 41936670720.0000 - root_mean_squared_error: 204784.4375 - mean_absolute_error: 179795.5469 - val_loss: 58385612800.0000 - val_root_mean_squared_error: 241631.1562 - val_mean_absolute_error: 215832.2344\n",
      "Epoch 52/100\n",
      "190/190 [==============================] - 5s 26ms/step - loss: 41536782336.0000 - root_mean_squared_error: 203805.7500 - mean_absolute_error: 179066.7031 - val_loss: 58255384576.0000 - val_root_mean_squared_error: 241361.5312 - val_mean_absolute_error: 214079.5469\n",
      "Epoch 53/100\n",
      "190/190 [==============================] - 5s 27ms/step - loss: 41166974976.0000 - root_mean_squared_error: 202896.4688 - mean_absolute_error: 178327.7031 - val_loss: 52412203008.0000 - val_root_mean_squared_error: 228937.1094 - val_mean_absolute_error: 201143.5000\n",
      "Epoch 54/100\n",
      "190/190 [==============================] - 5s 27ms/step - loss: 40788832256.0000 - root_mean_squared_error: 201962.4531 - mean_absolute_error: 177570.8438 - val_loss: 53433634816.0000 - val_root_mean_squared_error: 231157.1562 - val_mean_absolute_error: 206541.6875\n",
      "Epoch 55/100\n",
      "190/190 [==============================] - 5s 27ms/step - loss: 40410308608.0000 - root_mean_squared_error: 201023.1562 - mean_absolute_error: 176801.7344 - val_loss: 51487719424.0000 - val_root_mean_squared_error: 226909.0469 - val_mean_absolute_error: 201470.7500\n",
      "Epoch 56/100\n",
      "190/190 [==============================] - 5s 26ms/step - loss: 40049102848.0000 - root_mean_squared_error: 200122.7188 - mean_absolute_error: 176022.2500 - val_loss: 57751072768.0000 - val_root_mean_squared_error: 240314.5312 - val_mean_absolute_error: 214496.9375\n",
      "Epoch 57/100\n",
      "190/190 [==============================] - 5s 27ms/step - loss: 39640657920.0000 - root_mean_squared_error: 199099.6250 - mean_absolute_error: 175221.0781 - val_loss: 65909661696.0000 - val_root_mean_squared_error: 256728.7656 - val_mean_absolute_error: 229388.2031\n",
      "Epoch 58/100\n",
      "190/190 [==============================] - 5s 28ms/step - loss: 39246360576.0000 - root_mean_squared_error: 198106.9219 - mean_absolute_error: 174409.4844 - val_loss: 55530221568.0000 - val_root_mean_squared_error: 235648.5156 - val_mean_absolute_error: 208324.9844\n",
      "Epoch 59/100\n"
     ]
    },
    {
     "name": "stdout",
     "output_type": "stream",
     "text": [
      "190/190 [==============================] - 5s 26ms/step - loss: 38839922688.0000 - root_mean_squared_error: 197078.4688 - mean_absolute_error: 173581.3281 - val_loss: 53031137280.0000 - val_root_mean_squared_error: 230284.9062 - val_mean_absolute_error: 203873.2188\n",
      "Epoch 60/100\n",
      "190/190 [==============================] - 5s 27ms/step - loss: 38429151232.0000 - root_mean_squared_error: 196033.5469 - mean_absolute_error: 172742.2031 - val_loss: 53430206464.0000 - val_root_mean_squared_error: 231149.7500 - val_mean_absolute_error: 204629.4844\n",
      "Epoch 61/100\n",
      "190/190 [==============================] - 5s 27ms/step - loss: 38003687424.0000 - root_mean_squared_error: 194945.3438 - mean_absolute_error: 171885.3125 - val_loss: 45227008000.0000 - val_root_mean_squared_error: 212666.4219 - val_mean_absolute_error: 187110.8281\n",
      "Epoch 62/100\n",
      "190/190 [==============================] - 5s 28ms/step - loss: 37601337344.0000 - root_mean_squared_error: 193910.6406 - mean_absolute_error: 171015.7812 - val_loss: 59461124096.0000 - val_root_mean_squared_error: 243846.5156 - val_mean_absolute_error: 217503.5781\n",
      "Epoch 63/100\n",
      "190/190 [==============================] - 5s 27ms/step - loss: 37180522496.0000 - root_mean_squared_error: 192822.5156 - mean_absolute_error: 170147.2188 - val_loss: 50427437056.0000 - val_root_mean_squared_error: 224560.5469 - val_mean_absolute_error: 196282.2969\n",
      "Epoch 64/100\n",
      "190/190 [==============================] - 7s 35ms/step - loss: 36841267200.0000 - root_mean_squared_error: 191940.7969 - mean_absolute_error: 169243.6250 - val_loss: 41595998208.0000 - val_root_mean_squared_error: 203950.9688 - val_mean_absolute_error: 176287.5000\n",
      "Epoch 65/100\n",
      "190/190 [==============================] - 5s 27ms/step - loss: 36371070976.0000 - root_mean_squared_error: 190712.0156 - mean_absolute_error: 168330.4219 - val_loss: 45045334016.0000 - val_root_mean_squared_error: 212238.8594 - val_mean_absolute_error: 189883.1875\n",
      "Epoch 66/100\n",
      "190/190 [==============================] - 5s 28ms/step - loss: 35945189376.0000 - root_mean_squared_error: 189592.1719 - mean_absolute_error: 167407.5781 - val_loss: 52783235072.0000 - val_root_mean_squared_error: 229746.0156 - val_mean_absolute_error: 204349.1406\n",
      "Epoch 67/100\n",
      "190/190 [==============================] - 5s 27ms/step - loss: 35474235392.0000 - root_mean_squared_error: 188346.0469 - mean_absolute_error: 166474.3750 - val_loss: 48884854784.0000 - val_root_mean_squared_error: 221099.1875 - val_mean_absolute_error: 196917.3438\n",
      "Epoch 68/100\n",
      "190/190 [==============================] - 5s 26ms/step - loss: 35089268736.0000 - root_mean_squared_error: 187321.2969 - mean_absolute_error: 165516.1562 - val_loss: 44631277568.0000 - val_root_mean_squared_error: 211261.1562 - val_mean_absolute_error: 183508.8281\n",
      "Epoch 69/100\n",
      "190/190 [==============================] - 5s 26ms/step - loss: 34650103808.0000 - root_mean_squared_error: 186145.3750 - mean_absolute_error: 164556.5781 - val_loss: 56809590784.0000 - val_root_mean_squared_error: 238347.6250 - val_mean_absolute_error: 212475.9844\n",
      "Epoch 70/100\n",
      "190/190 [==============================] - 5s 27ms/step - loss: 34194440192.0000 - root_mean_squared_error: 184917.3906 - mean_absolute_error: 163570.7812 - val_loss: 50304045056.0000 - val_root_mean_squared_error: 224285.6250 - val_mean_absolute_error: 199716.9844\n",
      "Epoch 71/100\n",
      "190/190 [==============================] - 5s 27ms/step - loss: 33736302592.0000 - root_mean_squared_error: 183674.4375 - mean_absolute_error: 162570.8125 - val_loss: 61099937792.0000 - val_root_mean_squared_error: 247184.0156 - val_mean_absolute_error: 223374.9219\n",
      "Epoch 72/100\n",
      "190/190 [==============================] - 5s 26ms/step - loss: 33266612224.0000 - root_mean_squared_error: 182391.3750 - mean_absolute_error: 161576.9062 - val_loss: 42523799552.0000 - val_root_mean_squared_error: 206213.0000 - val_mean_absolute_error: 183252.3750\n",
      "Epoch 73/100\n",
      "190/190 [==============================] - 5s 26ms/step - loss: 32873578496.0000 - root_mean_squared_error: 181310.7188 - mean_absolute_error: 160543.2344 - val_loss: 42983714816.0000 - val_root_mean_squared_error: 207325.1406 - val_mean_absolute_error: 181885.0781\n",
      "Epoch 74/100\n",
      "190/190 [==============================] - 5s 27ms/step - loss: 32425621504.0000 - root_mean_squared_error: 180071.1562 - mean_absolute_error: 159510.6094 - val_loss: 51422777344.0000 - val_root_mean_squared_error: 226765.9062 - val_mean_absolute_error: 200652.5625\n",
      "Epoch 75/100\n",
      "190/190 [==============================] - 5s 26ms/step - loss: 31953647616.0000 - root_mean_squared_error: 178755.8281 - mean_absolute_error: 158465.4375 - val_loss: 34796642304.0000 - val_root_mean_squared_error: 186538.5781 - val_mean_absolute_error: 163138.6406\n",
      "Epoch 76/100\n",
      "190/190 [==============================] - 6s 34ms/step - loss: 31505311744.0000 - root_mean_squared_error: 177497.3594 - mean_absolute_error: 157380.2188 - val_loss: 37635469312.0000 - val_root_mean_squared_error: 193998.6250 - val_mean_absolute_error: 170522.6719\n",
      "Epoch 77/100\n",
      "190/190 [==============================] - 5s 27ms/step - loss: 31094736896.0000 - root_mean_squared_error: 176337.0000 - mean_absolute_error: 156321.8281 - val_loss: 32233353216.0000 - val_root_mean_squared_error: 179536.4844 - val_mean_absolute_error: 155200.6094\n",
      "Epoch 78/100\n",
      "190/190 [==============================] - 5s 27ms/step - loss: 30606966784.0000 - root_mean_squared_error: 174948.4688 - mean_absolute_error: 155216.0781 - val_loss: 29859362816.0000 - val_root_mean_squared_error: 172798.6094 - val_mean_absolute_error: 144462.3438\n",
      "Epoch 79/100\n",
      "190/190 [==============================] - 5s 26ms/step - loss: 30145249280.0000 - root_mean_squared_error: 173623.8750 - mean_absolute_error: 154132.5156 - val_loss: 43599052800.0000 - val_root_mean_squared_error: 208803.8594 - val_mean_absolute_error: 186429.0625\n",
      "Epoch 80/100\n",
      "190/190 [==============================] - 5s 26ms/step - loss: 29744390144.0000 - root_mean_squared_error: 172465.6250 - mean_absolute_error: 152999.6406 - val_loss: 40675938304.0000 - val_root_mean_squared_error: 201682.7656 - val_mean_absolute_error: 175761.8281\n",
      "Epoch 81/100\n",
      "190/190 [==============================] - 5s 27ms/step - loss: 29306855424.0000 - root_mean_squared_error: 171192.4531 - mean_absolute_error: 151876.0469 - val_loss: 49786970112.0000 - val_root_mean_squared_error: 223129.9531 - val_mean_absolute_error: 199746.5469\n",
      "Epoch 82/100\n",
      "190/190 [==============================] - 5s 27ms/step - loss: 28772569088.0000 - root_mean_squared_error: 169624.7812 - mean_absolute_error: 150719.4219 - val_loss: 34565971968.0000 - val_root_mean_squared_error: 185919.2500 - val_mean_absolute_error: 163548.7031\n",
      "Epoch 83/100\n",
      "190/190 [==============================] - 5s 26ms/step - loss: 28308017152.0000 - root_mean_squared_error: 168249.8594 - mean_absolute_error: 149539.7188 - val_loss: 53221822464.0000 - val_root_mean_squared_error: 230698.5469 - val_mean_absolute_error: 210112.8594\n",
      "Epoch 84/100\n",
      "190/190 [==============================] - 5s 27ms/step - loss: 27885066240.0000 - root_mean_squared_error: 166988.2188 - mean_absolute_error: 148412.7344 - val_loss: 54045020160.0000 - val_root_mean_squared_error: 232475.8438 - val_mean_absolute_error: 207763.2656\n",
      "Epoch 85/100\n",
      "190/190 [==============================] - 5s 27ms/step - loss: 27459792896.0000 - root_mean_squared_error: 165709.9688 - mean_absolute_error: 147208.0781 - val_loss: 40275136512.0000 - val_root_mean_squared_error: 200686.6562 - val_mean_absolute_error: 176682.4531\n",
      "Epoch 86/100\n",
      "190/190 [==============================] - 5s 27ms/step - loss: 27010445312.0000 - root_mean_squared_error: 164348.5469 - mean_absolute_error: 145989.5469 - val_loss: 27996649472.0000 - val_root_mean_squared_error: 167321.9844 - val_mean_absolute_error: 145049.9844\n",
      "Epoch 87/100\n",
      "190/190 [==============================] - 5s 27ms/step - loss: 26537969664.0000 - root_mean_squared_error: 162904.7812 - mean_absolute_error: 144825.6094 - val_loss: 49499828224.0000 - val_root_mean_squared_error: 222485.5625 - val_mean_absolute_error: 197121.1875\n",
      "Epoch 88/100\n"
     ]
    },
    {
     "name": "stdout",
     "output_type": "stream",
     "text": [
      "190/190 [==============================] - 5s 27ms/step - loss: 26066395136.0000 - root_mean_squared_error: 161450.9062 - mean_absolute_error: 143577.5781 - val_loss: 29387370496.0000 - val_root_mean_squared_error: 171427.4531 - val_mean_absolute_error: 146126.8750\n",
      "Epoch 89/100\n",
      "190/190 [==============================] - 5s 27ms/step - loss: 25583411200.0000 - root_mean_squared_error: 159948.1406 - mean_absolute_error: 142333.2031 - val_loss: 56638222336.0000 - val_root_mean_squared_error: 237987.8594 - val_mean_absolute_error: 214217.0000\n",
      "Epoch 90/100\n",
      "190/190 [==============================] - 5s 27ms/step - loss: 25121650688.0000 - root_mean_squared_error: 158498.1094 - mean_absolute_error: 141114.2031 - val_loss: 46721363968.0000 - val_root_mean_squared_error: 216151.2500 - val_mean_absolute_error: 195173.7344\n",
      "Epoch 91/100\n",
      "190/190 [==============================] - 5s 27ms/step - loss: 24656379904.0000 - root_mean_squared_error: 157023.5000 - mean_absolute_error: 139822.8438 - val_loss: 35002417152.0000 - val_root_mean_squared_error: 187089.3281 - val_mean_absolute_error: 167806.6094\n",
      "Epoch 92/100\n",
      "190/190 [==============================] - 5s 26ms/step - loss: 24268353536.0000 - root_mean_squared_error: 155783.0312 - mean_absolute_error: 138575.1406 - val_loss: 29793349632.0000 - val_root_mean_squared_error: 172607.5000 - val_mean_absolute_error: 145844.1719\n",
      "Epoch 93/100\n",
      "190/190 [==============================] - 5s 27ms/step - loss: 23805282304.0000 - root_mean_squared_error: 154289.6094 - mean_absolute_error: 137257.0000 - val_loss: 38666616832.0000 - val_root_mean_squared_error: 196638.2812 - val_mean_absolute_error: 176931.2500\n",
      "Epoch 94/100\n",
      "190/190 [==============================] - 5s 26ms/step - loss: 23420645376.0000 - root_mean_squared_error: 153038.0469 - mean_absolute_error: 135982.3281 - val_loss: 23887060992.0000 - val_root_mean_squared_error: 154554.3906 - val_mean_absolute_error: 129536.6328\n",
      "Epoch 95/100\n",
      "190/190 [==============================] - 6s 33ms/step - loss: 22978482176.0000 - root_mean_squared_error: 151586.5469 - mean_absolute_error: 134729.9531 - val_loss: 24863522816.0000 - val_root_mean_squared_error: 157681.7031 - val_mean_absolute_error: 131872.7344\n",
      "Epoch 96/100\n",
      "190/190 [==============================] - 5s 26ms/step - loss: 22495330304.0000 - root_mean_squared_error: 149984.4375 - mean_absolute_error: 133280.5625 - val_loss: 26696949760.0000 - val_root_mean_squared_error: 163392.0156 - val_mean_absolute_error: 141857.3281\n",
      "Epoch 97/100\n",
      "190/190 [==============================] - 5s 28ms/step - loss: 22075471872.0000 - root_mean_squared_error: 148578.1719 - mean_absolute_error: 132043.4375 - val_loss: 18572748800.0000 - val_root_mean_squared_error: 136281.8750 - val_mean_absolute_error: 112468.4375\n",
      "Epoch 98/100\n",
      "190/190 [==============================] - 5s 26ms/step - loss: 21635311616.0000 - root_mean_squared_error: 147089.4688 - mean_absolute_error: 130631.5547 - val_loss: 16646199296.0000 - val_root_mean_squared_error: 129020.1484 - val_mean_absolute_error: 106745.7891\n",
      "Epoch 99/100\n",
      "190/190 [==============================] - 5s 26ms/step - loss: 21269141504.0000 - root_mean_squared_error: 145839.4375 - mean_absolute_error: 129282.1719 - val_loss: 48679919616.0000 - val_root_mean_squared_error: 220635.2656 - val_mean_absolute_error: 201378.6562\n",
      "Epoch 100/100\n",
      "190/190 [==============================] - 5s 26ms/step - loss: 20778420224.0000 - root_mean_squared_error: 144147.2188 - mean_absolute_error: 127955.9453 - val_loss: 32515911680.0000 - val_root_mean_squared_error: 180321.6875 - val_mean_absolute_error: 155116.6719\n"
     ]
    }
   ],
   "source": [
    "history = model0001.fit(x=x_train,  \n",
    "                    y=y_train, \n",
    "                    batch_size=BATCH_SIZE, \n",
    "                    epochs=EPOCHS,      \n",
    "                    verbose='auto', \n",
    "                    callbacks=[tf.keras.callbacks.\\\n",
    "                               EarlyStopping(monitor='val_loss',\n",
    "                                             patience=PATIENCE,\n",
    "                                             min_delta=PATIENCE_MIN_DELTA,\n",
    "                                             restore_best_weights=True),\n",
    "                            tensorboard_callback], \n",
    "                    validation_split=0.3, \n",
    "                    validation_data=None, \n",
    "                    shuffle=True,\n",
    "                    class_weight=None, \n",
    "                    sample_weight=None, \n",
    "                    initial_epoch=0, \n",
    "                    steps_per_epoch=None, \n",
    "                    validation_steps=None, \n",
    "                    validation_batch_size=10, \n",
    "                    validation_freq=1, \n",
    "                    max_queue_size=10, \n",
    "                    workers=5, \n",
    "                    use_multiprocessing=True)"
   ]
  },
  {
   "cell_type": "code",
   "execution_count": 20,
   "id": "b9c48dbe",
   "metadata": {},
   "outputs": [],
   "source": [
    "hy = pd.DataFrame(history.history)"
   ]
  },
  {
   "cell_type": "code",
   "execution_count": 21,
   "id": "d02d00aa",
   "metadata": {},
   "outputs": [
    {
     "data": {
      "text/plain": [
       "<AxesSubplot:>"
      ]
     },
     "execution_count": 21,
     "metadata": {},
     "output_type": "execute_result"
    },
    {
     "data": {
      "image/png": "[encoded data removed]",
      "text/plain": [
       "<Figure size 432x288 with 1 Axes>"
      ]
     },
     "metadata": {
      "needs_background": "light"
     },
     "output_type": "display_data"
    }
   ],
   "source": [
    "hy[['root_mean_squared_error','val_root_mean_squared_error']].plot()"
   ]
  },
  {
   "cell_type": "code",
   "execution_count": 22,
   "id": "edd259b4",
   "metadata": {},
   "outputs": [
    {
     "name": "stderr",
     "output_type": "stream",
     "text": [
      "2022-01-12 04:32:27.873913: W tensorflow/python/util/util.cc:348] Sets are not currently considered sequences, but this may change in the future, so consider avoiding using them.\n"
     ]
    },
    {
     "name": "stdout",
     "output_type": "stream",
     "text": [
      "INFO:tensorflow:Assets written to: 2022-01-11_23-31_exported_ca_housing_model_no_interblcok_layer/assets\n"
     ]
    }
   ],
   "source": [
    "model0001.save('2022-01-11_23-31_exported_ca_housing_model_no_interblcok_layer')"
   ]
  },
  {
   "cell_type": "code",
   "execution_count": 23,
   "id": "7bc0e3f8",
   "metadata": {},
   "outputs": [
    {
     "data": {
      "text/plain": [
       "val_root_mean_squared_error    129020.148438\n",
       "dtype: float64"
      ]
     },
     "execution_count": 23,
     "metadata": {},
     "output_type": "execute_result"
    }
   ],
   "source": [
    "hy[['val_root_mean_squared_error']].min()"
   ]
  },
  {
   "cell_type": "code",
   "execution_count": 24,
   "id": "aa42bd49",
   "metadata": {},
   "outputs": [
    {
     "data": {
      "text/plain": [
       "val_root_mean_squared_error    260752.125\n",
       "dtype: float64"
      ]
     },
     "execution_count": 24,
     "metadata": {},
     "output_type": "execute_result"
    }
   ],
   "source": [
    "hy[['val_root_mean_squared_error']].max()"
   ]
  },
  {
   "cell_type": "code",
   "execution_count": 25,
   "id": "56e73318",
   "metadata": {},
   "outputs": [],
   "source": [
    "# Obviously this not a good run, overfitting, training data needs preprocessing, neural network. \n",
    "# architecture does not fit this specific problem, and several hyperparameters are way off,\n",
    "# but ths does demonstrate the API aand syntax.\n",
    "# I will post a better examle run later."
   ]
  }
 ],
 "metadata": {
  "kernelspec": {
   "display_name": "Python 3 (ipykernel)",
   "language": "python",
   "name": "python3"
  },
  "language_info": {
   "codemirror_mode": {
    "name": "ipython",
    "version": 3
   },
   "file_extension": ".py",
   "mimetype": "text/x-python",
   "name": "python",
   "nbconvert_exporter": "python",
   "pygments_lexer": "ipython3",
   "version": "3.8.10"
  }
 },
 "nbformat": 4,
 "nbformat_minor": 5
}
